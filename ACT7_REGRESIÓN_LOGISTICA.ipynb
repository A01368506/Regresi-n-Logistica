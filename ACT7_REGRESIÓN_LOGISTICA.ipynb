{
  "nbformat": 4,
  "nbformat_minor": 0,
  "metadata": {
    "colab": {
      "provenance": [],
      "authorship_tag": "ABX9TyPqwbwKyYkJ+q3vntFot3KG",
      "include_colab_link": true
    },
    "kernelspec": {
      "name": "python3",
      "display_name": "Python 3"
    },
    "language_info": {
      "name": "python"
    }
  },
  "cells": [
    {
      "cell_type": "markdown",
      "metadata": {
        "id": "view-in-github",
        "colab_type": "text"
      },
      "source": [
        "<a href=\"https://colab.research.google.com/github/A01368506/Regresi-n-Logistica/blob/main/ACT7_REGRESI%C3%93N_LOGISTICA.ipynb\" target=\"_parent\"><img src=\"https://colab.research.google.com/assets/colab-badge.svg\" alt=\"Open In Colab\"/></a>"
      ]
    },
    {
      "cell_type": "markdown",
      "source": [
        "#**Actividad 6 (Regresión No Lineal)**\n",
        "\n",
        "\n",
        "---\n",
        "#Paola Alessandra Ruiz Cruz A01368506"
      ],
      "metadata": {
        "id": "EVxb0kpNKxMX"
      }
    },
    {
      "cell_type": "code",
      "source": [
        "import pandas as pd\n",
        "import numpy as np\n",
        "import matplotlib.pyplot as plt\n",
        "import scipy.special as special\n",
        "from scipy.optimize import curve_fit\n",
        "import seaborn as sns\n",
        "from sklearn.metrics import r2_score\n",
        "from sklearn.model_selection import train_test_split\n",
        "from sklearn.preprocessing import StandardScaler"
      ],
      "metadata": {
        "id": "DEJSGwMPKysU"
      },
      "execution_count": 759,
      "outputs": []
    },
    {
      "cell_type": "code",
      "source": [
        "df = pd.read_csv('/content/cuentas_credicel.csv', encoding='latin1')\n",
        "df\n"
      ],
      "metadata": {
        "colab": {
          "base_uri": "https://localhost:8080/",
          "height": 762
        },
        "id": "S_qnvJbhLBXR",
        "outputId": "1e126721-4b62-4045-8b94-6cc5d84cebb6"
      },
      "execution_count": 760,
      "outputs": [
        {
          "output_type": "stream",
          "name": "stderr",
          "text": [
            "<ipython-input-760-6fbb4148fae6>:1: DtypeWarning: Columns (30) have mixed types. Specify dtype option on import or set low_memory=False.\n",
            "  df = pd.read_csv('/content/cuentas_credicel.csv', encoding='latin1')\n"
          ]
        },
        {
          "output_type": "execute_result",
          "data": {
            "text/plain": [
              "       folio       tag  folio_solicitud           fecha     marca  \\\n",
              "0          3  HDNAWQ3A               30  12/11/21 19:00       ZTE   \n",
              "1          4  M418YNR4               33  12/11/21 19:15  MOTOROLA   \n",
              "2          5  SZ7V3NZT               37  13/11/21 14:13       ZTE   \n",
              "3          6  9I08UIQZ               38  13/11/21 15:45       ZTE   \n",
              "4          7  JMF4LKYU               44  13/11/21 16:10  MOTOROLA   \n",
              "...      ...       ...              ...             ...       ...   \n",
              "22730  22967  92KQVRIX            96502  18/04/23 18:45  Motorola   \n",
              "22731  22968  NWB2EA8J            96479  18/04/23 18:46  Motorola   \n",
              "22732  22969  VDTRJ2W6            96442  18/04/23 18:47   Samsung   \n",
              "22733  22970  PETLF56C            96536  18/04/23 18:49   Samsung   \n",
              "22734  22971  2CI4N2WS            96534  18/04/23 18:49   Samsung   \n",
              "\n",
              "                             modelo plazo  precio  enganche  descuento  ...  \\\n",
              "0                Blade A3 2020 RO B   26S  1949.0     780.0        0.0  ...   \n",
              "1      LTE XT2097-12 E7I POWER Azul   13S  2999.0    1050.0        0.0  ...   \n",
              "2                BLADE A3 2020 Gris   13S  1959.0     490.0        0.0  ...   \n",
              "3                BLADE A3 2020 Gris   13S  1959.0     490.0        0.0  ...   \n",
              "4                             G10 B   39S  4299.0    1075.0        0.0  ...   \n",
              "...                             ...   ...     ...       ...        ...  ...   \n",
              "22730                      Moto E13   26S  3349.0     297.0        0.0  ...   \n",
              "22731                     Moto E22i   26S  4100.0    1209.0        0.0  ...   \n",
              "22732                           A13   26S  4849.0    1152.0        0.0  ...   \n",
              "22733                        A53 5G   39S  9799.0    2799.0        0.0  ...   \n",
              "22734                        A22 5G   26S  5399.0    1086.0        0.0  ...   \n",
              "\n",
              "       porc_eng  limite_credito  semana_actual  cp_cliente edad_cliente  \\\n",
              "0         40.02            5000             26         NaN         23.0   \n",
              "1         35.01            6000             13         NaN         60.0   \n",
              "2         25.01               0             74         NaN         58.0   \n",
              "3         25.01            7000             13         NaN         42.0   \n",
              "4         25.01            7000             74         NaN         33.0   \n",
              "...         ...             ...            ...         ...          ...   \n",
              "22730      8.87           10000              0       97880         22.0   \n",
              "22731     29.49            5000              0       37295         27.0   \n",
              "22732     23.76            4750              0       20210         36.0   \n",
              "22733     28.56            7000              0       78434         53.0   \n",
              "22734     20.11            4750              0       43800         19.0   \n",
              "\n",
              "                        cd_cliente  edo_cliente                     cd_venta  \\\n",
              "0                                0            0                    Tantoyuca   \n",
              "1                          PUEBLA          PUE.   Heroica Puebla de Zaragoza   \n",
              "2                        TANTOYUCA         VER.                            0   \n",
              "3                      AMXTLAN PUE          NaN                     Zacatlan   \n",
              "4                       TANTOYUCA          VER.                    Tantoyuca   \n",
              "...                            ...          ...                          ...   \n",
              "22730                    OXKUTZCAB          YUC                    Oxkutzcab   \n",
              "22731                         LEON          GTO                         Leon   \n",
              "22732               AGUASCALIENTES          AGS               Aguascalientes   \n",
              "22733  SOLEDAD DE GRACIANO SANCHEZ          SLP  Soledad De Graciano Sanchez   \n",
              "22734                     TIZAYUCA          HGO            San Jose Del Cabo   \n",
              "\n",
              "                 edo_venta                curp  \n",
              "0                 Veracruz  AEVM980413MVZNDR02  \n",
              "1                   Puebla  ZALC610119MPLPRR07  \n",
              "2                        0                   0  \n",
              "3                   Puebla  SAMJ790115MPLNRS02  \n",
              "4                 Veracruz  TEHF880707HVZRRR07  \n",
              "...                    ...                 ...  \n",
              "22730              Yucatan  PACT990804MYNCCH05  \n",
              "22731           Guanajuato  HEGB950620MGTRMN03  \n",
              "22732       Aguascalientes  GADF870205HASLZL07  \n",
              "22733      San Luis Potosi  DELJ700417HSPLRS03  \n",
              "22734  Baja California Sur  RASI030731HDFMRSA1  \n",
              "\n",
              "[22735 rows x 39 columns]"
            ],
            "text/html": [
              "\n",
              "  <div id=\"df-49dfe53d-b629-4599-9281-212dd828bd75\" class=\"colab-df-container\">\n",
              "    <div>\n",
              "<style scoped>\n",
              "    .dataframe tbody tr th:only-of-type {\n",
              "        vertical-align: middle;\n",
              "    }\n",
              "\n",
              "    .dataframe tbody tr th {\n",
              "        vertical-align: top;\n",
              "    }\n",
              "\n",
              "    .dataframe thead th {\n",
              "        text-align: right;\n",
              "    }\n",
              "</style>\n",
              "<table border=\"1\" class=\"dataframe\">\n",
              "  <thead>\n",
              "    <tr style=\"text-align: right;\">\n",
              "      <th></th>\n",
              "      <th>folio</th>\n",
              "      <th>tag</th>\n",
              "      <th>folio_solicitud</th>\n",
              "      <th>fecha</th>\n",
              "      <th>marca</th>\n",
              "      <th>modelo</th>\n",
              "      <th>plazo</th>\n",
              "      <th>precio</th>\n",
              "      <th>enganche</th>\n",
              "      <th>descuento</th>\n",
              "      <th>...</th>\n",
              "      <th>porc_eng</th>\n",
              "      <th>limite_credito</th>\n",
              "      <th>semana_actual</th>\n",
              "      <th>cp_cliente</th>\n",
              "      <th>edad_cliente</th>\n",
              "      <th>cd_cliente</th>\n",
              "      <th>edo_cliente</th>\n",
              "      <th>cd_venta</th>\n",
              "      <th>edo_venta</th>\n",
              "      <th>curp</th>\n",
              "    </tr>\n",
              "  </thead>\n",
              "  <tbody>\n",
              "    <tr>\n",
              "      <th>0</th>\n",
              "      <td>3</td>\n",
              "      <td>HDNAWQ3A</td>\n",
              "      <td>30</td>\n",
              "      <td>12/11/21 19:00</td>\n",
              "      <td>ZTE</td>\n",
              "      <td>Blade A3 2020 RO B</td>\n",
              "      <td>26S</td>\n",
              "      <td>1949.0</td>\n",
              "      <td>780.0</td>\n",
              "      <td>0.0</td>\n",
              "      <td>...</td>\n",
              "      <td>40.02</td>\n",
              "      <td>5000</td>\n",
              "      <td>26</td>\n",
              "      <td>NaN</td>\n",
              "      <td>23.0</td>\n",
              "      <td>0</td>\n",
              "      <td>0</td>\n",
              "      <td>Tantoyuca</td>\n",
              "      <td>Veracruz</td>\n",
              "      <td>AEVM980413MVZNDR02</td>\n",
              "    </tr>\n",
              "    <tr>\n",
              "      <th>1</th>\n",
              "      <td>4</td>\n",
              "      <td>M418YNR4</td>\n",
              "      <td>33</td>\n",
              "      <td>12/11/21 19:15</td>\n",
              "      <td>MOTOROLA</td>\n",
              "      <td>LTE XT2097-12 E7I POWER Azul</td>\n",
              "      <td>13S</td>\n",
              "      <td>2999.0</td>\n",
              "      <td>1050.0</td>\n",
              "      <td>0.0</td>\n",
              "      <td>...</td>\n",
              "      <td>35.01</td>\n",
              "      <td>6000</td>\n",
              "      <td>13</td>\n",
              "      <td>NaN</td>\n",
              "      <td>60.0</td>\n",
              "      <td>PUEBLA</td>\n",
              "      <td>PUE.</td>\n",
              "      <td>Heroica Puebla de Zaragoza</td>\n",
              "      <td>Puebla</td>\n",
              "      <td>ZALC610119MPLPRR07</td>\n",
              "    </tr>\n",
              "    <tr>\n",
              "      <th>2</th>\n",
              "      <td>5</td>\n",
              "      <td>SZ7V3NZT</td>\n",
              "      <td>37</td>\n",
              "      <td>13/11/21 14:13</td>\n",
              "      <td>ZTE</td>\n",
              "      <td>BLADE A3 2020 Gris</td>\n",
              "      <td>13S</td>\n",
              "      <td>1959.0</td>\n",
              "      <td>490.0</td>\n",
              "      <td>0.0</td>\n",
              "      <td>...</td>\n",
              "      <td>25.01</td>\n",
              "      <td>0</td>\n",
              "      <td>74</td>\n",
              "      <td>NaN</td>\n",
              "      <td>58.0</td>\n",
              "      <td>TANTOYUCA</td>\n",
              "      <td>VER.</td>\n",
              "      <td>0</td>\n",
              "      <td>0</td>\n",
              "      <td>0</td>\n",
              "    </tr>\n",
              "    <tr>\n",
              "      <th>3</th>\n",
              "      <td>6</td>\n",
              "      <td>9I08UIQZ</td>\n",
              "      <td>38</td>\n",
              "      <td>13/11/21 15:45</td>\n",
              "      <td>ZTE</td>\n",
              "      <td>BLADE A3 2020 Gris</td>\n",
              "      <td>13S</td>\n",
              "      <td>1959.0</td>\n",
              "      <td>490.0</td>\n",
              "      <td>0.0</td>\n",
              "      <td>...</td>\n",
              "      <td>25.01</td>\n",
              "      <td>7000</td>\n",
              "      <td>13</td>\n",
              "      <td>NaN</td>\n",
              "      <td>42.0</td>\n",
              "      <td>AMXTLAN PUE</td>\n",
              "      <td>NaN</td>\n",
              "      <td>Zacatlan</td>\n",
              "      <td>Puebla</td>\n",
              "      <td>SAMJ790115MPLNRS02</td>\n",
              "    </tr>\n",
              "    <tr>\n",
              "      <th>4</th>\n",
              "      <td>7</td>\n",
              "      <td>JMF4LKYU</td>\n",
              "      <td>44</td>\n",
              "      <td>13/11/21 16:10</td>\n",
              "      <td>MOTOROLA</td>\n",
              "      <td>G10 B</td>\n",
              "      <td>39S</td>\n",
              "      <td>4299.0</td>\n",
              "      <td>1075.0</td>\n",
              "      <td>0.0</td>\n",
              "      <td>...</td>\n",
              "      <td>25.01</td>\n",
              "      <td>7000</td>\n",
              "      <td>74</td>\n",
              "      <td>NaN</td>\n",
              "      <td>33.0</td>\n",
              "      <td>TANTOYUCA</td>\n",
              "      <td>VER.</td>\n",
              "      <td>Tantoyuca</td>\n",
              "      <td>Veracruz</td>\n",
              "      <td>TEHF880707HVZRRR07</td>\n",
              "    </tr>\n",
              "    <tr>\n",
              "      <th>...</th>\n",
              "      <td>...</td>\n",
              "      <td>...</td>\n",
              "      <td>...</td>\n",
              "      <td>...</td>\n",
              "      <td>...</td>\n",
              "      <td>...</td>\n",
              "      <td>...</td>\n",
              "      <td>...</td>\n",
              "      <td>...</td>\n",
              "      <td>...</td>\n",
              "      <td>...</td>\n",
              "      <td>...</td>\n",
              "      <td>...</td>\n",
              "      <td>...</td>\n",
              "      <td>...</td>\n",
              "      <td>...</td>\n",
              "      <td>...</td>\n",
              "      <td>...</td>\n",
              "      <td>...</td>\n",
              "      <td>...</td>\n",
              "      <td>...</td>\n",
              "    </tr>\n",
              "    <tr>\n",
              "      <th>22730</th>\n",
              "      <td>22967</td>\n",
              "      <td>92KQVRIX</td>\n",
              "      <td>96502</td>\n",
              "      <td>18/04/23 18:45</td>\n",
              "      <td>Motorola</td>\n",
              "      <td>Moto E13</td>\n",
              "      <td>26S</td>\n",
              "      <td>3349.0</td>\n",
              "      <td>297.0</td>\n",
              "      <td>0.0</td>\n",
              "      <td>...</td>\n",
              "      <td>8.87</td>\n",
              "      <td>10000</td>\n",
              "      <td>0</td>\n",
              "      <td>97880</td>\n",
              "      <td>22.0</td>\n",
              "      <td>OXKUTZCAB</td>\n",
              "      <td>YUC</td>\n",
              "      <td>Oxkutzcab</td>\n",
              "      <td>Yucatan</td>\n",
              "      <td>PACT990804MYNCCH05</td>\n",
              "    </tr>\n",
              "    <tr>\n",
              "      <th>22731</th>\n",
              "      <td>22968</td>\n",
              "      <td>NWB2EA8J</td>\n",
              "      <td>96479</td>\n",
              "      <td>18/04/23 18:46</td>\n",
              "      <td>Motorola</td>\n",
              "      <td>Moto E22i</td>\n",
              "      <td>26S</td>\n",
              "      <td>4100.0</td>\n",
              "      <td>1209.0</td>\n",
              "      <td>0.0</td>\n",
              "      <td>...</td>\n",
              "      <td>29.49</td>\n",
              "      <td>5000</td>\n",
              "      <td>0</td>\n",
              "      <td>37295</td>\n",
              "      <td>27.0</td>\n",
              "      <td>LEON</td>\n",
              "      <td>GTO</td>\n",
              "      <td>Leon</td>\n",
              "      <td>Guanajuato</td>\n",
              "      <td>HEGB950620MGTRMN03</td>\n",
              "    </tr>\n",
              "    <tr>\n",
              "      <th>22732</th>\n",
              "      <td>22969</td>\n",
              "      <td>VDTRJ2W6</td>\n",
              "      <td>96442</td>\n",
              "      <td>18/04/23 18:47</td>\n",
              "      <td>Samsung</td>\n",
              "      <td>A13</td>\n",
              "      <td>26S</td>\n",
              "      <td>4849.0</td>\n",
              "      <td>1152.0</td>\n",
              "      <td>0.0</td>\n",
              "      <td>...</td>\n",
              "      <td>23.76</td>\n",
              "      <td>4750</td>\n",
              "      <td>0</td>\n",
              "      <td>20210</td>\n",
              "      <td>36.0</td>\n",
              "      <td>AGUASCALIENTES</td>\n",
              "      <td>AGS</td>\n",
              "      <td>Aguascalientes</td>\n",
              "      <td>Aguascalientes</td>\n",
              "      <td>GADF870205HASLZL07</td>\n",
              "    </tr>\n",
              "    <tr>\n",
              "      <th>22733</th>\n",
              "      <td>22970</td>\n",
              "      <td>PETLF56C</td>\n",
              "      <td>96536</td>\n",
              "      <td>18/04/23 18:49</td>\n",
              "      <td>Samsung</td>\n",
              "      <td>A53 5G</td>\n",
              "      <td>39S</td>\n",
              "      <td>9799.0</td>\n",
              "      <td>2799.0</td>\n",
              "      <td>0.0</td>\n",
              "      <td>...</td>\n",
              "      <td>28.56</td>\n",
              "      <td>7000</td>\n",
              "      <td>0</td>\n",
              "      <td>78434</td>\n",
              "      <td>53.0</td>\n",
              "      <td>SOLEDAD DE GRACIANO SANCHEZ</td>\n",
              "      <td>SLP</td>\n",
              "      <td>Soledad De Graciano Sanchez</td>\n",
              "      <td>San Luis Potosi</td>\n",
              "      <td>DELJ700417HSPLRS03</td>\n",
              "    </tr>\n",
              "    <tr>\n",
              "      <th>22734</th>\n",
              "      <td>22971</td>\n",
              "      <td>2CI4N2WS</td>\n",
              "      <td>96534</td>\n",
              "      <td>18/04/23 18:49</td>\n",
              "      <td>Samsung</td>\n",
              "      <td>A22 5G</td>\n",
              "      <td>26S</td>\n",
              "      <td>5399.0</td>\n",
              "      <td>1086.0</td>\n",
              "      <td>0.0</td>\n",
              "      <td>...</td>\n",
              "      <td>20.11</td>\n",
              "      <td>4750</td>\n",
              "      <td>0</td>\n",
              "      <td>43800</td>\n",
              "      <td>19.0</td>\n",
              "      <td>TIZAYUCA</td>\n",
              "      <td>HGO</td>\n",
              "      <td>San Jose Del Cabo</td>\n",
              "      <td>Baja California Sur</td>\n",
              "      <td>RASI030731HDFMRSA1</td>\n",
              "    </tr>\n",
              "  </tbody>\n",
              "</table>\n",
              "<p>22735 rows × 39 columns</p>\n",
              "</div>\n",
              "    <div class=\"colab-df-buttons\">\n",
              "\n",
              "  <div class=\"colab-df-container\">\n",
              "    <button class=\"colab-df-convert\" onclick=\"convertToInteractive('df-49dfe53d-b629-4599-9281-212dd828bd75')\"\n",
              "            title=\"Convert this dataframe to an interactive table.\"\n",
              "            style=\"display:none;\">\n",
              "\n",
              "  <svg xmlns=\"http://www.w3.org/2000/svg\" height=\"24px\" viewBox=\"0 -960 960 960\">\n",
              "    <path d=\"M120-120v-720h720v720H120Zm60-500h600v-160H180v160Zm220 220h160v-160H400v160Zm0 220h160v-160H400v160ZM180-400h160v-160H180v160Zm440 0h160v-160H620v160ZM180-180h160v-160H180v160Zm440 0h160v-160H620v160Z\"/>\n",
              "  </svg>\n",
              "    </button>\n",
              "\n",
              "  <style>\n",
              "    .colab-df-container {\n",
              "      display:flex;\n",
              "      gap: 12px;\n",
              "    }\n",
              "\n",
              "    .colab-df-convert {\n",
              "      background-color: #E8F0FE;\n",
              "      border: none;\n",
              "      border-radius: 50%;\n",
              "      cursor: pointer;\n",
              "      display: none;\n",
              "      fill: #1967D2;\n",
              "      height: 32px;\n",
              "      padding: 0 0 0 0;\n",
              "      width: 32px;\n",
              "    }\n",
              "\n",
              "    .colab-df-convert:hover {\n",
              "      background-color: #E2EBFA;\n",
              "      box-shadow: 0px 1px 2px rgba(60, 64, 67, 0.3), 0px 1px 3px 1px rgba(60, 64, 67, 0.15);\n",
              "      fill: #174EA6;\n",
              "    }\n",
              "\n",
              "    .colab-df-buttons div {\n",
              "      margin-bottom: 4px;\n",
              "    }\n",
              "\n",
              "    [theme=dark] .colab-df-convert {\n",
              "      background-color: #3B4455;\n",
              "      fill: #D2E3FC;\n",
              "    }\n",
              "\n",
              "    [theme=dark] .colab-df-convert:hover {\n",
              "      background-color: #434B5C;\n",
              "      box-shadow: 0px 1px 3px 1px rgba(0, 0, 0, 0.15);\n",
              "      filter: drop-shadow(0px 1px 2px rgba(0, 0, 0, 0.3));\n",
              "      fill: #FFFFFF;\n",
              "    }\n",
              "  </style>\n",
              "\n",
              "    <script>\n",
              "      const buttonEl =\n",
              "        document.querySelector('#df-49dfe53d-b629-4599-9281-212dd828bd75 button.colab-df-convert');\n",
              "      buttonEl.style.display =\n",
              "        google.colab.kernel.accessAllowed ? 'block' : 'none';\n",
              "\n",
              "      async function convertToInteractive(key) {\n",
              "        const element = document.querySelector('#df-49dfe53d-b629-4599-9281-212dd828bd75');\n",
              "        const dataTable =\n",
              "          await google.colab.kernel.invokeFunction('convertToInteractive',\n",
              "                                                    [key], {});\n",
              "        if (!dataTable) return;\n",
              "\n",
              "        const docLinkHtml = 'Like what you see? Visit the ' +\n",
              "          '<a target=\"_blank\" href=https://colab.research.google.com/notebooks/data_table.ipynb>data table notebook</a>'\n",
              "          + ' to learn more about interactive tables.';\n",
              "        element.innerHTML = '';\n",
              "        dataTable['output_type'] = 'display_data';\n",
              "        await google.colab.output.renderOutput(dataTable, element);\n",
              "        const docLink = document.createElement('div');\n",
              "        docLink.innerHTML = docLinkHtml;\n",
              "        element.appendChild(docLink);\n",
              "      }\n",
              "    </script>\n",
              "  </div>\n",
              "\n",
              "\n",
              "<div id=\"df-bc717848-47e4-4f71-8ea3-36c5be9a2443\">\n",
              "  <button class=\"colab-df-quickchart\" onclick=\"quickchart('df-bc717848-47e4-4f71-8ea3-36c5be9a2443')\"\n",
              "            title=\"Suggest charts.\"\n",
              "            style=\"display:none;\">\n",
              "\n",
              "<svg xmlns=\"http://www.w3.org/2000/svg\" height=\"24px\"viewBox=\"0 0 24 24\"\n",
              "     width=\"24px\">\n",
              "    <g>\n",
              "        <path d=\"M19 3H5c-1.1 0-2 .9-2 2v14c0 1.1.9 2 2 2h14c1.1 0 2-.9 2-2V5c0-1.1-.9-2-2-2zM9 17H7v-7h2v7zm4 0h-2V7h2v10zm4 0h-2v-4h2v4z\"/>\n",
              "    </g>\n",
              "</svg>\n",
              "  </button>\n",
              "\n",
              "<style>\n",
              "  .colab-df-quickchart {\n",
              "      --bg-color: #E8F0FE;\n",
              "      --fill-color: #1967D2;\n",
              "      --hover-bg-color: #E2EBFA;\n",
              "      --hover-fill-color: #174EA6;\n",
              "      --disabled-fill-color: #AAA;\n",
              "      --disabled-bg-color: #DDD;\n",
              "  }\n",
              "\n",
              "  [theme=dark] .colab-df-quickchart {\n",
              "      --bg-color: #3B4455;\n",
              "      --fill-color: #D2E3FC;\n",
              "      --hover-bg-color: #434B5C;\n",
              "      --hover-fill-color: #FFFFFF;\n",
              "      --disabled-bg-color: #3B4455;\n",
              "      --disabled-fill-color: #666;\n",
              "  }\n",
              "\n",
              "  .colab-df-quickchart {\n",
              "    background-color: var(--bg-color);\n",
              "    border: none;\n",
              "    border-radius: 50%;\n",
              "    cursor: pointer;\n",
              "    display: none;\n",
              "    fill: var(--fill-color);\n",
              "    height: 32px;\n",
              "    padding: 0;\n",
              "    width: 32px;\n",
              "  }\n",
              "\n",
              "  .colab-df-quickchart:hover {\n",
              "    background-color: var(--hover-bg-color);\n",
              "    box-shadow: 0 1px 2px rgba(60, 64, 67, 0.3), 0 1px 3px 1px rgba(60, 64, 67, 0.15);\n",
              "    fill: var(--button-hover-fill-color);\n",
              "  }\n",
              "\n",
              "  .colab-df-quickchart-complete:disabled,\n",
              "  .colab-df-quickchart-complete:disabled:hover {\n",
              "    background-color: var(--disabled-bg-color);\n",
              "    fill: var(--disabled-fill-color);\n",
              "    box-shadow: none;\n",
              "  }\n",
              "\n",
              "  .colab-df-spinner {\n",
              "    border: 2px solid var(--fill-color);\n",
              "    border-color: transparent;\n",
              "    border-bottom-color: var(--fill-color);\n",
              "    animation:\n",
              "      spin 1s steps(1) infinite;\n",
              "  }\n",
              "\n",
              "  @keyframes spin {\n",
              "    0% {\n",
              "      border-color: transparent;\n",
              "      border-bottom-color: var(--fill-color);\n",
              "      border-left-color: var(--fill-color);\n",
              "    }\n",
              "    20% {\n",
              "      border-color: transparent;\n",
              "      border-left-color: var(--fill-color);\n",
              "      border-top-color: var(--fill-color);\n",
              "    }\n",
              "    30% {\n",
              "      border-color: transparent;\n",
              "      border-left-color: var(--fill-color);\n",
              "      border-top-color: var(--fill-color);\n",
              "      border-right-color: var(--fill-color);\n",
              "    }\n",
              "    40% {\n",
              "      border-color: transparent;\n",
              "      border-right-color: var(--fill-color);\n",
              "      border-top-color: var(--fill-color);\n",
              "    }\n",
              "    60% {\n",
              "      border-color: transparent;\n",
              "      border-right-color: var(--fill-color);\n",
              "    }\n",
              "    80% {\n",
              "      border-color: transparent;\n",
              "      border-right-color: var(--fill-color);\n",
              "      border-bottom-color: var(--fill-color);\n",
              "    }\n",
              "    90% {\n",
              "      border-color: transparent;\n",
              "      border-bottom-color: var(--fill-color);\n",
              "    }\n",
              "  }\n",
              "</style>\n",
              "\n",
              "  <script>\n",
              "    async function quickchart(key) {\n",
              "      const quickchartButtonEl =\n",
              "        document.querySelector('#' + key + ' button');\n",
              "      quickchartButtonEl.disabled = true;  // To prevent multiple clicks.\n",
              "      quickchartButtonEl.classList.add('colab-df-spinner');\n",
              "      try {\n",
              "        const charts = await google.colab.kernel.invokeFunction(\n",
              "            'suggestCharts', [key], {});\n",
              "      } catch (error) {\n",
              "        console.error('Error during call to suggestCharts:', error);\n",
              "      }\n",
              "      quickchartButtonEl.classList.remove('colab-df-spinner');\n",
              "      quickchartButtonEl.classList.add('colab-df-quickchart-complete');\n",
              "    }\n",
              "    (() => {\n",
              "      let quickchartButtonEl =\n",
              "        document.querySelector('#df-bc717848-47e4-4f71-8ea3-36c5be9a2443 button');\n",
              "      quickchartButtonEl.style.display =\n",
              "        google.colab.kernel.accessAllowed ? 'block' : 'none';\n",
              "    })();\n",
              "  </script>\n",
              "</div>\n",
              "    </div>\n",
              "  </div>\n"
            ]
          },
          "metadata": {},
          "execution_count": 760
        }
      ]
    },
    {
      "cell_type": "code",
      "source": [
        "df.info()"
      ],
      "metadata": {
        "colab": {
          "base_uri": "https://localhost:8080/"
        },
        "id": "rp3p_ggpLVhA",
        "outputId": "93b9ec98-b4b9-4b42-ee33-c031316bd86a"
      },
      "execution_count": 761,
      "outputs": [
        {
          "output_type": "stream",
          "name": "stdout",
          "text": [
            "<class 'pandas.core.frame.DataFrame'>\n",
            "RangeIndex: 22735 entries, 0 to 22734\n",
            "Data columns (total 39 columns):\n",
            " #   Column              Non-Null Count  Dtype  \n",
            "---  ------              --------------  -----  \n",
            " 0   folio               22735 non-null  int64  \n",
            " 1   tag                 22735 non-null  object \n",
            " 2   folio_solicitud     22735 non-null  int64  \n",
            " 3   fecha               22735 non-null  object \n",
            " 4   marca               22735 non-null  object \n",
            " 5   modelo              22735 non-null  object \n",
            " 6   plazo               22735 non-null  object \n",
            " 7   precio              22735 non-null  float64\n",
            " 8   enganche            22735 non-null  float64\n",
            " 9   descuento           22735 non-null  float64\n",
            " 10  semana              22735 non-null  int64  \n",
            " 11  monto_financiado    22735 non-null  float64\n",
            " 12  costo_total         22735 non-null  int64  \n",
            " 13  monto_accesorios    22735 non-null  float64\n",
            " 14  agente_venta        22735 non-null  object \n",
            " 15  dis_venta           22735 non-null  object \n",
            " 16  status              22735 non-null  int64  \n",
            " 17  fraude              22735 non-null  int64  \n",
            " 18  empresa             22722 non-null  object \n",
            " 19  inversion           22735 non-null  int64  \n",
            " 20  pagos_realizados    22735 non-null  int64  \n",
            " 21  reautorizacion      22735 non-null  int64  \n",
            " 22  fecha_ultimo_pago   19379 non-null  object \n",
            " 23  fecha_pago_proximo  19379 non-null  object \n",
            " 24  status_cuenta       19421 non-null  object \n",
            " 25  puntos              22735 non-null  int64  \n",
            " 26  riesgo              22735 non-null  float64\n",
            " 27  score_buro          22735 non-null  int64  \n",
            " 28  razones_buro        15395 non-null  object \n",
            " 29  porc_eng            22735 non-null  float64\n",
            " 30  limite_credito      22735 non-null  object \n",
            " 31  semana_actual       22735 non-null  int64  \n",
            " 32  cp_cliente          15492 non-null  object \n",
            " 33  edad_cliente        22726 non-null  float64\n",
            " 34  cd_cliente          22735 non-null  object \n",
            " 35  edo_cliente         22727 non-null  object \n",
            " 36  cd_venta            22735 non-null  object \n",
            " 37  edo_venta           22735 non-null  object \n",
            " 38  curp                22735 non-null  object \n",
            "dtypes: float64(8), int64(12), object(19)\n",
            "memory usage: 6.8+ MB\n"
          ]
        }
      ]
    },
    {
      "cell_type": "code",
      "source": [
        "df.isnull().sum()"
      ],
      "metadata": {
        "colab": {
          "base_uri": "https://localhost:8080/"
        },
        "id": "zC-_iY2GLXc6",
        "outputId": "da7d1998-39d5-4c48-cace-b95911dc837c"
      },
      "execution_count": 762,
      "outputs": [
        {
          "output_type": "execute_result",
          "data": {
            "text/plain": [
              "folio                    0\n",
              "tag                      0\n",
              "folio_solicitud          0\n",
              "fecha                    0\n",
              "marca                    0\n",
              "modelo                   0\n",
              "plazo                    0\n",
              "precio                   0\n",
              "enganche                 0\n",
              "descuento                0\n",
              "semana                   0\n",
              "monto_financiado         0\n",
              "costo_total              0\n",
              "monto_accesorios         0\n",
              "agente_venta             0\n",
              "dis_venta                0\n",
              "status                   0\n",
              "fraude                   0\n",
              "empresa                 13\n",
              "inversion                0\n",
              "pagos_realizados         0\n",
              "reautorizacion           0\n",
              "fecha_ultimo_pago     3356\n",
              "fecha_pago_proximo    3356\n",
              "status_cuenta         3314\n",
              "puntos                   0\n",
              "riesgo                   0\n",
              "score_buro               0\n",
              "razones_buro          7340\n",
              "porc_eng                 0\n",
              "limite_credito           0\n",
              "semana_actual            0\n",
              "cp_cliente            7243\n",
              "edad_cliente             9\n",
              "cd_cliente               0\n",
              "edo_cliente              8\n",
              "cd_venta                 0\n",
              "edo_venta                0\n",
              "curp                     0\n",
              "dtype: int64"
            ]
          },
          "metadata": {},
          "execution_count": 762
        }
      ]
    },
    {
      "cell_type": "code",
      "source": [
        "fila= df.iloc[[10184,10954]]\n",
        "df1 = df.drop([10184,10954],axis=0)\n",
        "fila\n",
        "\n",
        "df1[\"limite_credito\"]= pd.to_numeric(df1[\"limite_credito\"],errors=\"coerce\")"
      ],
      "metadata": {
        "id": "0Ec7Vi1NL7ZD"
      },
      "execution_count": 763,
      "outputs": []
    },
    {
      "cell_type": "code",
      "source": [
        "df2 = df1.drop([\"razones_buro\",\"agente_venta\",\"cp_cliente\",\"fecha_ultimo_pago\",\"fecha_pago_proximo\",\"fecha\",\"edo_cliente\",\"cd_venta\",\"cd_cliente\",\"curp\",\"tag\",\"folio\",\"folio_solicitud\"],axis=1)\n",
        "df2 =df2.fillna(method=\"ffill\")\n",
        "df2 =df2.fillna(method=\"bfill\")\n",
        "df2"
      ],
      "metadata": {
        "colab": {
          "base_uri": "https://localhost:8080/",
          "height": 677
        },
        "id": "zEsbFNQeL_0G",
        "outputId": "a9a19ef8-7afe-42ea-a32a-f907b6fc9d8b"
      },
      "execution_count": 764,
      "outputs": [
        {
          "output_type": "execute_result",
          "data": {
            "text/plain": [
              "          marca                        modelo plazo  precio  enganche  \\\n",
              "0           ZTE            Blade A3 2020 RO B   26S  1949.0     780.0   \n",
              "1      MOTOROLA  LTE XT2097-12 E7I POWER Azul   13S  2999.0    1050.0   \n",
              "2           ZTE            BLADE A3 2020 Gris   13S  1959.0     490.0   \n",
              "3           ZTE            BLADE A3 2020 Gris   13S  1959.0     490.0   \n",
              "4      MOTOROLA                         G10 B   39S  4299.0    1075.0   \n",
              "...         ...                           ...   ...     ...       ...   \n",
              "22730  Motorola                      Moto E13   26S  3349.0     297.0   \n",
              "22731  Motorola                     Moto E22i   26S  4100.0    1209.0   \n",
              "22732   Samsung                           A13   26S  4849.0    1152.0   \n",
              "22733   Samsung                        A53 5G   39S  9799.0    2799.0   \n",
              "22734   Samsung                        A22 5G   26S  5399.0    1086.0   \n",
              "\n",
              "       descuento  semana  monto_financiado  costo_total  monto_accesorios  \\\n",
              "0            0.0      81            1169.0         2106               0.0   \n",
              "1            0.0     225            1949.0         2925               0.0   \n",
              "2            0.0     170            1469.0         2210               0.0   \n",
              "3            0.0     170            1469.0         2210               0.0   \n",
              "4            0.0     178            3224.0         6942               0.0   \n",
              "...          ...     ...               ...          ...               ...   \n",
              "22730        0.0     211            3052.0         5486               0.0   \n",
              "22731        0.0     200            2891.0         5200               0.0   \n",
              "22732        0.0     256            3697.0         6656               0.0   \n",
              "22733        0.0     386            7000.0        15054               0.0   \n",
              "22734        0.0     299            4313.0         7774               0.0   \n",
              "\n",
              "       ... reautorizacion  status_cuenta  puntos riesgo  score_buro  porc_eng  \\\n",
              "0      ...              0      Cancelado       0   0.00           0     40.02   \n",
              "1      ...              0      Cancelado       0   0.00           0     35.01   \n",
              "2      ...              0      Cancelado       0   0.00           0     25.01   \n",
              "3      ...              0      Cancelado       0   0.00           0     25.01   \n",
              "4      ...              0           Mora       0   0.00           0     25.01   \n",
              "...    ...            ...            ...     ...    ...         ...       ...   \n",
              "22730  ...              0      Cancelado      10  27.40         469      8.87   \n",
              "22731  ...              0      Cancelado       9  19.00         502     29.49   \n",
              "22732  ...              0      Cancelado      11  26.65         459     23.76   \n",
              "22733  ...              0      Cancelado      14 -17.35         699     28.56   \n",
              "22734  ...              0      Cancelado      12  21.80           0     20.11   \n",
              "\n",
              "       limite_credito semana_actual  edad_cliente            edo_venta  \n",
              "0                5000            26          23.0             Veracruz  \n",
              "1                6000            13          60.0               Puebla  \n",
              "2                   0            74          58.0                    0  \n",
              "3                7000            13          42.0               Puebla  \n",
              "4                7000            74          33.0             Veracruz  \n",
              "...               ...           ...           ...                  ...  \n",
              "22730           10000             0          22.0              Yucatan  \n",
              "22731            5000             0          27.0           Guanajuato  \n",
              "22732            4750             0          36.0       Aguascalientes  \n",
              "22733            7000             0          53.0      San Luis Potosi  \n",
              "22734            4750             0          19.0  Baja California Sur  \n",
              "\n",
              "[22733 rows x 26 columns]"
            ],
            "text/html": [
              "\n",
              "  <div id=\"df-04fe879e-facd-43ce-8659-52bf12f6b8e4\" class=\"colab-df-container\">\n",
              "    <div>\n",
              "<style scoped>\n",
              "    .dataframe tbody tr th:only-of-type {\n",
              "        vertical-align: middle;\n",
              "    }\n",
              "\n",
              "    .dataframe tbody tr th {\n",
              "        vertical-align: top;\n",
              "    }\n",
              "\n",
              "    .dataframe thead th {\n",
              "        text-align: right;\n",
              "    }\n",
              "</style>\n",
              "<table border=\"1\" class=\"dataframe\">\n",
              "  <thead>\n",
              "    <tr style=\"text-align: right;\">\n",
              "      <th></th>\n",
              "      <th>marca</th>\n",
              "      <th>modelo</th>\n",
              "      <th>plazo</th>\n",
              "      <th>precio</th>\n",
              "      <th>enganche</th>\n",
              "      <th>descuento</th>\n",
              "      <th>semana</th>\n",
              "      <th>monto_financiado</th>\n",
              "      <th>costo_total</th>\n",
              "      <th>monto_accesorios</th>\n",
              "      <th>...</th>\n",
              "      <th>reautorizacion</th>\n",
              "      <th>status_cuenta</th>\n",
              "      <th>puntos</th>\n",
              "      <th>riesgo</th>\n",
              "      <th>score_buro</th>\n",
              "      <th>porc_eng</th>\n",
              "      <th>limite_credito</th>\n",
              "      <th>semana_actual</th>\n",
              "      <th>edad_cliente</th>\n",
              "      <th>edo_venta</th>\n",
              "    </tr>\n",
              "  </thead>\n",
              "  <tbody>\n",
              "    <tr>\n",
              "      <th>0</th>\n",
              "      <td>ZTE</td>\n",
              "      <td>Blade A3 2020 RO B</td>\n",
              "      <td>26S</td>\n",
              "      <td>1949.0</td>\n",
              "      <td>780.0</td>\n",
              "      <td>0.0</td>\n",
              "      <td>81</td>\n",
              "      <td>1169.0</td>\n",
              "      <td>2106</td>\n",
              "      <td>0.0</td>\n",
              "      <td>...</td>\n",
              "      <td>0</td>\n",
              "      <td>Cancelado</td>\n",
              "      <td>0</td>\n",
              "      <td>0.00</td>\n",
              "      <td>0</td>\n",
              "      <td>40.02</td>\n",
              "      <td>5000</td>\n",
              "      <td>26</td>\n",
              "      <td>23.0</td>\n",
              "      <td>Veracruz</td>\n",
              "    </tr>\n",
              "    <tr>\n",
              "      <th>1</th>\n",
              "      <td>MOTOROLA</td>\n",
              "      <td>LTE XT2097-12 E7I POWER Azul</td>\n",
              "      <td>13S</td>\n",
              "      <td>2999.0</td>\n",
              "      <td>1050.0</td>\n",
              "      <td>0.0</td>\n",
              "      <td>225</td>\n",
              "      <td>1949.0</td>\n",
              "      <td>2925</td>\n",
              "      <td>0.0</td>\n",
              "      <td>...</td>\n",
              "      <td>0</td>\n",
              "      <td>Cancelado</td>\n",
              "      <td>0</td>\n",
              "      <td>0.00</td>\n",
              "      <td>0</td>\n",
              "      <td>35.01</td>\n",
              "      <td>6000</td>\n",
              "      <td>13</td>\n",
              "      <td>60.0</td>\n",
              "      <td>Puebla</td>\n",
              "    </tr>\n",
              "    <tr>\n",
              "      <th>2</th>\n",
              "      <td>ZTE</td>\n",
              "      <td>BLADE A3 2020 Gris</td>\n",
              "      <td>13S</td>\n",
              "      <td>1959.0</td>\n",
              "      <td>490.0</td>\n",
              "      <td>0.0</td>\n",
              "      <td>170</td>\n",
              "      <td>1469.0</td>\n",
              "      <td>2210</td>\n",
              "      <td>0.0</td>\n",
              "      <td>...</td>\n",
              "      <td>0</td>\n",
              "      <td>Cancelado</td>\n",
              "      <td>0</td>\n",
              "      <td>0.00</td>\n",
              "      <td>0</td>\n",
              "      <td>25.01</td>\n",
              "      <td>0</td>\n",
              "      <td>74</td>\n",
              "      <td>58.0</td>\n",
              "      <td>0</td>\n",
              "    </tr>\n",
              "    <tr>\n",
              "      <th>3</th>\n",
              "      <td>ZTE</td>\n",
              "      <td>BLADE A3 2020 Gris</td>\n",
              "      <td>13S</td>\n",
              "      <td>1959.0</td>\n",
              "      <td>490.0</td>\n",
              "      <td>0.0</td>\n",
              "      <td>170</td>\n",
              "      <td>1469.0</td>\n",
              "      <td>2210</td>\n",
              "      <td>0.0</td>\n",
              "      <td>...</td>\n",
              "      <td>0</td>\n",
              "      <td>Cancelado</td>\n",
              "      <td>0</td>\n",
              "      <td>0.00</td>\n",
              "      <td>0</td>\n",
              "      <td>25.01</td>\n",
              "      <td>7000</td>\n",
              "      <td>13</td>\n",
              "      <td>42.0</td>\n",
              "      <td>Puebla</td>\n",
              "    </tr>\n",
              "    <tr>\n",
              "      <th>4</th>\n",
              "      <td>MOTOROLA</td>\n",
              "      <td>G10 B</td>\n",
              "      <td>39S</td>\n",
              "      <td>4299.0</td>\n",
              "      <td>1075.0</td>\n",
              "      <td>0.0</td>\n",
              "      <td>178</td>\n",
              "      <td>3224.0</td>\n",
              "      <td>6942</td>\n",
              "      <td>0.0</td>\n",
              "      <td>...</td>\n",
              "      <td>0</td>\n",
              "      <td>Mora</td>\n",
              "      <td>0</td>\n",
              "      <td>0.00</td>\n",
              "      <td>0</td>\n",
              "      <td>25.01</td>\n",
              "      <td>7000</td>\n",
              "      <td>74</td>\n",
              "      <td>33.0</td>\n",
              "      <td>Veracruz</td>\n",
              "    </tr>\n",
              "    <tr>\n",
              "      <th>...</th>\n",
              "      <td>...</td>\n",
              "      <td>...</td>\n",
              "      <td>...</td>\n",
              "      <td>...</td>\n",
              "      <td>...</td>\n",
              "      <td>...</td>\n",
              "      <td>...</td>\n",
              "      <td>...</td>\n",
              "      <td>...</td>\n",
              "      <td>...</td>\n",
              "      <td>...</td>\n",
              "      <td>...</td>\n",
              "      <td>...</td>\n",
              "      <td>...</td>\n",
              "      <td>...</td>\n",
              "      <td>...</td>\n",
              "      <td>...</td>\n",
              "      <td>...</td>\n",
              "      <td>...</td>\n",
              "      <td>...</td>\n",
              "      <td>...</td>\n",
              "    </tr>\n",
              "    <tr>\n",
              "      <th>22730</th>\n",
              "      <td>Motorola</td>\n",
              "      <td>Moto E13</td>\n",
              "      <td>26S</td>\n",
              "      <td>3349.0</td>\n",
              "      <td>297.0</td>\n",
              "      <td>0.0</td>\n",
              "      <td>211</td>\n",
              "      <td>3052.0</td>\n",
              "      <td>5486</td>\n",
              "      <td>0.0</td>\n",
              "      <td>...</td>\n",
              "      <td>0</td>\n",
              "      <td>Cancelado</td>\n",
              "      <td>10</td>\n",
              "      <td>27.40</td>\n",
              "      <td>469</td>\n",
              "      <td>8.87</td>\n",
              "      <td>10000</td>\n",
              "      <td>0</td>\n",
              "      <td>22.0</td>\n",
              "      <td>Yucatan</td>\n",
              "    </tr>\n",
              "    <tr>\n",
              "      <th>22731</th>\n",
              "      <td>Motorola</td>\n",
              "      <td>Moto E22i</td>\n",
              "      <td>26S</td>\n",
              "      <td>4100.0</td>\n",
              "      <td>1209.0</td>\n",
              "      <td>0.0</td>\n",
              "      <td>200</td>\n",
              "      <td>2891.0</td>\n",
              "      <td>5200</td>\n",
              "      <td>0.0</td>\n",
              "      <td>...</td>\n",
              "      <td>0</td>\n",
              "      <td>Cancelado</td>\n",
              "      <td>9</td>\n",
              "      <td>19.00</td>\n",
              "      <td>502</td>\n",
              "      <td>29.49</td>\n",
              "      <td>5000</td>\n",
              "      <td>0</td>\n",
              "      <td>27.0</td>\n",
              "      <td>Guanajuato</td>\n",
              "    </tr>\n",
              "    <tr>\n",
              "      <th>22732</th>\n",
              "      <td>Samsung</td>\n",
              "      <td>A13</td>\n",
              "      <td>26S</td>\n",
              "      <td>4849.0</td>\n",
              "      <td>1152.0</td>\n",
              "      <td>0.0</td>\n",
              "      <td>256</td>\n",
              "      <td>3697.0</td>\n",
              "      <td>6656</td>\n",
              "      <td>0.0</td>\n",
              "      <td>...</td>\n",
              "      <td>0</td>\n",
              "      <td>Cancelado</td>\n",
              "      <td>11</td>\n",
              "      <td>26.65</td>\n",
              "      <td>459</td>\n",
              "      <td>23.76</td>\n",
              "      <td>4750</td>\n",
              "      <td>0</td>\n",
              "      <td>36.0</td>\n",
              "      <td>Aguascalientes</td>\n",
              "    </tr>\n",
              "    <tr>\n",
              "      <th>22733</th>\n",
              "      <td>Samsung</td>\n",
              "      <td>A53 5G</td>\n",
              "      <td>39S</td>\n",
              "      <td>9799.0</td>\n",
              "      <td>2799.0</td>\n",
              "      <td>0.0</td>\n",
              "      <td>386</td>\n",
              "      <td>7000.0</td>\n",
              "      <td>15054</td>\n",
              "      <td>0.0</td>\n",
              "      <td>...</td>\n",
              "      <td>0</td>\n",
              "      <td>Cancelado</td>\n",
              "      <td>14</td>\n",
              "      <td>-17.35</td>\n",
              "      <td>699</td>\n",
              "      <td>28.56</td>\n",
              "      <td>7000</td>\n",
              "      <td>0</td>\n",
              "      <td>53.0</td>\n",
              "      <td>San Luis Potosi</td>\n",
              "    </tr>\n",
              "    <tr>\n",
              "      <th>22734</th>\n",
              "      <td>Samsung</td>\n",
              "      <td>A22 5G</td>\n",
              "      <td>26S</td>\n",
              "      <td>5399.0</td>\n",
              "      <td>1086.0</td>\n",
              "      <td>0.0</td>\n",
              "      <td>299</td>\n",
              "      <td>4313.0</td>\n",
              "      <td>7774</td>\n",
              "      <td>0.0</td>\n",
              "      <td>...</td>\n",
              "      <td>0</td>\n",
              "      <td>Cancelado</td>\n",
              "      <td>12</td>\n",
              "      <td>21.80</td>\n",
              "      <td>0</td>\n",
              "      <td>20.11</td>\n",
              "      <td>4750</td>\n",
              "      <td>0</td>\n",
              "      <td>19.0</td>\n",
              "      <td>Baja California Sur</td>\n",
              "    </tr>\n",
              "  </tbody>\n",
              "</table>\n",
              "<p>22733 rows × 26 columns</p>\n",
              "</div>\n",
              "    <div class=\"colab-df-buttons\">\n",
              "\n",
              "  <div class=\"colab-df-container\">\n",
              "    <button class=\"colab-df-convert\" onclick=\"convertToInteractive('df-04fe879e-facd-43ce-8659-52bf12f6b8e4')\"\n",
              "            title=\"Convert this dataframe to an interactive table.\"\n",
              "            style=\"display:none;\">\n",
              "\n",
              "  <svg xmlns=\"http://www.w3.org/2000/svg\" height=\"24px\" viewBox=\"0 -960 960 960\">\n",
              "    <path d=\"M120-120v-720h720v720H120Zm60-500h600v-160H180v160Zm220 220h160v-160H400v160Zm0 220h160v-160H400v160ZM180-400h160v-160H180v160Zm440 0h160v-160H620v160ZM180-180h160v-160H180v160Zm440 0h160v-160H620v160Z\"/>\n",
              "  </svg>\n",
              "    </button>\n",
              "\n",
              "  <style>\n",
              "    .colab-df-container {\n",
              "      display:flex;\n",
              "      gap: 12px;\n",
              "    }\n",
              "\n",
              "    .colab-df-convert {\n",
              "      background-color: #E8F0FE;\n",
              "      border: none;\n",
              "      border-radius: 50%;\n",
              "      cursor: pointer;\n",
              "      display: none;\n",
              "      fill: #1967D2;\n",
              "      height: 32px;\n",
              "      padding: 0 0 0 0;\n",
              "      width: 32px;\n",
              "    }\n",
              "\n",
              "    .colab-df-convert:hover {\n",
              "      background-color: #E2EBFA;\n",
              "      box-shadow: 0px 1px 2px rgba(60, 64, 67, 0.3), 0px 1px 3px 1px rgba(60, 64, 67, 0.15);\n",
              "      fill: #174EA6;\n",
              "    }\n",
              "\n",
              "    .colab-df-buttons div {\n",
              "      margin-bottom: 4px;\n",
              "    }\n",
              "\n",
              "    [theme=dark] .colab-df-convert {\n",
              "      background-color: #3B4455;\n",
              "      fill: #D2E3FC;\n",
              "    }\n",
              "\n",
              "    [theme=dark] .colab-df-convert:hover {\n",
              "      background-color: #434B5C;\n",
              "      box-shadow: 0px 1px 3px 1px rgba(0, 0, 0, 0.15);\n",
              "      filter: drop-shadow(0px 1px 2px rgba(0, 0, 0, 0.3));\n",
              "      fill: #FFFFFF;\n",
              "    }\n",
              "  </style>\n",
              "\n",
              "    <script>\n",
              "      const buttonEl =\n",
              "        document.querySelector('#df-04fe879e-facd-43ce-8659-52bf12f6b8e4 button.colab-df-convert');\n",
              "      buttonEl.style.display =\n",
              "        google.colab.kernel.accessAllowed ? 'block' : 'none';\n",
              "\n",
              "      async function convertToInteractive(key) {\n",
              "        const element = document.querySelector('#df-04fe879e-facd-43ce-8659-52bf12f6b8e4');\n",
              "        const dataTable =\n",
              "          await google.colab.kernel.invokeFunction('convertToInteractive',\n",
              "                                                    [key], {});\n",
              "        if (!dataTable) return;\n",
              "\n",
              "        const docLinkHtml = 'Like what you see? Visit the ' +\n",
              "          '<a target=\"_blank\" href=https://colab.research.google.com/notebooks/data_table.ipynb>data table notebook</a>'\n",
              "          + ' to learn more about interactive tables.';\n",
              "        element.innerHTML = '';\n",
              "        dataTable['output_type'] = 'display_data';\n",
              "        await google.colab.output.renderOutput(dataTable, element);\n",
              "        const docLink = document.createElement('div');\n",
              "        docLink.innerHTML = docLinkHtml;\n",
              "        element.appendChild(docLink);\n",
              "      }\n",
              "    </script>\n",
              "  </div>\n",
              "\n",
              "\n",
              "<div id=\"df-793916d2-5202-4aeb-b748-b432e592f4bd\">\n",
              "  <button class=\"colab-df-quickchart\" onclick=\"quickchart('df-793916d2-5202-4aeb-b748-b432e592f4bd')\"\n",
              "            title=\"Suggest charts.\"\n",
              "            style=\"display:none;\">\n",
              "\n",
              "<svg xmlns=\"http://www.w3.org/2000/svg\" height=\"24px\"viewBox=\"0 0 24 24\"\n",
              "     width=\"24px\">\n",
              "    <g>\n",
              "        <path d=\"M19 3H5c-1.1 0-2 .9-2 2v14c0 1.1.9 2 2 2h14c1.1 0 2-.9 2-2V5c0-1.1-.9-2-2-2zM9 17H7v-7h2v7zm4 0h-2V7h2v10zm4 0h-2v-4h2v4z\"/>\n",
              "    </g>\n",
              "</svg>\n",
              "  </button>\n",
              "\n",
              "<style>\n",
              "  .colab-df-quickchart {\n",
              "      --bg-color: #E8F0FE;\n",
              "      --fill-color: #1967D2;\n",
              "      --hover-bg-color: #E2EBFA;\n",
              "      --hover-fill-color: #174EA6;\n",
              "      --disabled-fill-color: #AAA;\n",
              "      --disabled-bg-color: #DDD;\n",
              "  }\n",
              "\n",
              "  [theme=dark] .colab-df-quickchart {\n",
              "      --bg-color: #3B4455;\n",
              "      --fill-color: #D2E3FC;\n",
              "      --hover-bg-color: #434B5C;\n",
              "      --hover-fill-color: #FFFFFF;\n",
              "      --disabled-bg-color: #3B4455;\n",
              "      --disabled-fill-color: #666;\n",
              "  }\n",
              "\n",
              "  .colab-df-quickchart {\n",
              "    background-color: var(--bg-color);\n",
              "    border: none;\n",
              "    border-radius: 50%;\n",
              "    cursor: pointer;\n",
              "    display: none;\n",
              "    fill: var(--fill-color);\n",
              "    height: 32px;\n",
              "    padding: 0;\n",
              "    width: 32px;\n",
              "  }\n",
              "\n",
              "  .colab-df-quickchart:hover {\n",
              "    background-color: var(--hover-bg-color);\n",
              "    box-shadow: 0 1px 2px rgba(60, 64, 67, 0.3), 0 1px 3px 1px rgba(60, 64, 67, 0.15);\n",
              "    fill: var(--button-hover-fill-color);\n",
              "  }\n",
              "\n",
              "  .colab-df-quickchart-complete:disabled,\n",
              "  .colab-df-quickchart-complete:disabled:hover {\n",
              "    background-color: var(--disabled-bg-color);\n",
              "    fill: var(--disabled-fill-color);\n",
              "    box-shadow: none;\n",
              "  }\n",
              "\n",
              "  .colab-df-spinner {\n",
              "    border: 2px solid var(--fill-color);\n",
              "    border-color: transparent;\n",
              "    border-bottom-color: var(--fill-color);\n",
              "    animation:\n",
              "      spin 1s steps(1) infinite;\n",
              "  }\n",
              "\n",
              "  @keyframes spin {\n",
              "    0% {\n",
              "      border-color: transparent;\n",
              "      border-bottom-color: var(--fill-color);\n",
              "      border-left-color: var(--fill-color);\n",
              "    }\n",
              "    20% {\n",
              "      border-color: transparent;\n",
              "      border-left-color: var(--fill-color);\n",
              "      border-top-color: var(--fill-color);\n",
              "    }\n",
              "    30% {\n",
              "      border-color: transparent;\n",
              "      border-left-color: var(--fill-color);\n",
              "      border-top-color: var(--fill-color);\n",
              "      border-right-color: var(--fill-color);\n",
              "    }\n",
              "    40% {\n",
              "      border-color: transparent;\n",
              "      border-right-color: var(--fill-color);\n",
              "      border-top-color: var(--fill-color);\n",
              "    }\n",
              "    60% {\n",
              "      border-color: transparent;\n",
              "      border-right-color: var(--fill-color);\n",
              "    }\n",
              "    80% {\n",
              "      border-color: transparent;\n",
              "      border-right-color: var(--fill-color);\n",
              "      border-bottom-color: var(--fill-color);\n",
              "    }\n",
              "    90% {\n",
              "      border-color: transparent;\n",
              "      border-bottom-color: var(--fill-color);\n",
              "    }\n",
              "  }\n",
              "</style>\n",
              "\n",
              "  <script>\n",
              "    async function quickchart(key) {\n",
              "      const quickchartButtonEl =\n",
              "        document.querySelector('#' + key + ' button');\n",
              "      quickchartButtonEl.disabled = true;  // To prevent multiple clicks.\n",
              "      quickchartButtonEl.classList.add('colab-df-spinner');\n",
              "      try {\n",
              "        const charts = await google.colab.kernel.invokeFunction(\n",
              "            'suggestCharts', [key], {});\n",
              "      } catch (error) {\n",
              "        console.error('Error during call to suggestCharts:', error);\n",
              "      }\n",
              "      quickchartButtonEl.classList.remove('colab-df-spinner');\n",
              "      quickchartButtonEl.classList.add('colab-df-quickchart-complete');\n",
              "    }\n",
              "    (() => {\n",
              "      let quickchartButtonEl =\n",
              "        document.querySelector('#df-793916d2-5202-4aeb-b748-b432e592f4bd button');\n",
              "      quickchartButtonEl.style.display =\n",
              "        google.colab.kernel.accessAllowed ? 'block' : 'none';\n",
              "    })();\n",
              "  </script>\n",
              "</div>\n",
              "    </div>\n",
              "  </div>\n"
            ]
          },
          "metadata": {},
          "execution_count": 764
        }
      ]
    },
    {
      "cell_type": "code",
      "source": [
        "df2.isnull().sum()"
      ],
      "metadata": {
        "colab": {
          "base_uri": "https://localhost:8080/"
        },
        "id": "ptxWM4SkMCc9",
        "outputId": "aed625c3-5893-462c-9467-aacd73501d64"
      },
      "execution_count": 765,
      "outputs": [
        {
          "output_type": "execute_result",
          "data": {
            "text/plain": [
              "marca               0\n",
              "modelo              0\n",
              "plazo               0\n",
              "precio              0\n",
              "enganche            0\n",
              "descuento           0\n",
              "semana              0\n",
              "monto_financiado    0\n",
              "costo_total         0\n",
              "monto_accesorios    0\n",
              "dis_venta           0\n",
              "status              0\n",
              "fraude              0\n",
              "empresa             0\n",
              "inversion           0\n",
              "pagos_realizados    0\n",
              "reautorizacion      0\n",
              "status_cuenta       0\n",
              "puntos              0\n",
              "riesgo              0\n",
              "score_buro          0\n",
              "porc_eng            0\n",
              "limite_credito      0\n",
              "semana_actual       0\n",
              "edad_cliente        0\n",
              "edo_venta           0\n",
              "dtype: int64"
            ]
          },
          "metadata": {},
          "execution_count": 765
        }
      ]
    },
    {
      "cell_type": "code",
      "source": [
        "y=df2\n",
        "Limite_Superior = y.mean(numeric_only=True) + 3 * y.std(numeric_only=True)\n",
        "Limite_Inferior = y.mean(numeric_only=True) - 3 * y.std(numeric_only=True)\n",
        "\n",
        "print(\"Limite superior permitido\", Limite_Superior)\n",
        "print(\"Limite inferior permitido\", Limite_Inferior)"
      ],
      "metadata": {
        "colab": {
          "base_uri": "https://localhost:8080/"
        },
        "id": "L2uNwKKoMFdr",
        "outputId": "1de86257-a136-4b54-bf0b-4e99a7ec57e0"
      },
      "execution_count": 766,
      "outputs": [
        {
          "output_type": "stream",
          "name": "stdout",
          "text": [
            "Limite superior permitido precio               8081.660632\n",
            "enganche             2356.485872\n",
            "descuento             478.233409\n",
            "semana                541.276328\n",
            "monto_financiado     6366.446292\n",
            "costo_total         12857.922009\n",
            "monto_accesorios      191.269482\n",
            "status                  2.611125\n",
            "fraude                  0.864169\n",
            "inversion               1.511659\n",
            "pagos_realizados       39.306541\n",
            "reautorizacion          0.578112\n",
            "puntos                 48.355862\n",
            "riesgo                 58.453828\n",
            "score_buro           1142.044924\n",
            "porc_eng               45.711381\n",
            "limite_credito      12330.216100\n",
            "semana_actual          64.382766\n",
            "edad_cliente          422.330150\n",
            "dtype: float64\n",
            "Limite inferior permitido precio               -87.662243\n",
            "enganche            -503.666794\n",
            "descuento           -321.268116\n",
            "semana               -65.794166\n",
            "monto_financiado    -214.191184\n",
            "costo_total        -1458.487179\n",
            "monto_accesorios    -164.339577\n",
            "status                -0.100414\n",
            "fraude                -0.714519\n",
            "inversion             -1.038426\n",
            "pagos_realizados     -18.944688\n",
            "reautorizacion        -0.510018\n",
            "puntos               -20.041869\n",
            "riesgo               -47.925380\n",
            "score_buro          -562.086802\n",
            "porc_eng               0.701921\n",
            "limite_credito      -489.592337\n",
            "semana_actual        -23.158906\n",
            "edad_cliente        -335.025351\n",
            "dtype: float64\n"
          ]
        }
      ]
    },
    {
      "cell_type": "code",
      "source": [
        "cuentas= df2[(y<=Limite_Superior)&(y>=Limite_Inferior)]\n",
        "cuentas"
      ],
      "metadata": {
        "colab": {
          "base_uri": "https://localhost:8080/",
          "height": 473
        },
        "id": "1IDocxs4MH2g",
        "outputId": "8780c309-3ddf-42c7-e370-42e2d41dcff2"
      },
      "execution_count": 767,
      "outputs": [
        {
          "output_type": "stream",
          "name": "stderr",
          "text": [
            "<ipython-input-767-2f18aa389e49>:1: FutureWarning: Automatic reindexing on DataFrame vs Series comparisons is deprecated and will raise ValueError in a future version. Do `left, right = left.align(right, axis=1, copy=False)` before e.g. `left == right`\n",
            "  cuentas= df2[(y<=Limite_Superior)&(y>=Limite_Inferior)]\n"
          ]
        },
        {
          "output_type": "execute_result",
          "data": {
            "text/plain": [
              "      marca modelo plazo  precio  enganche  descuento  semana  \\\n",
              "0       NaN    NaN   NaN  1949.0     780.0        0.0    81.0   \n",
              "1       NaN    NaN   NaN  2999.0    1050.0        0.0   225.0   \n",
              "2       NaN    NaN   NaN  1959.0     490.0        0.0   170.0   \n",
              "3       NaN    NaN   NaN  1959.0     490.0        0.0   170.0   \n",
              "4       NaN    NaN   NaN  4299.0    1075.0        0.0   178.0   \n",
              "...     ...    ...   ...     ...       ...        ...     ...   \n",
              "22730   NaN    NaN   NaN  3349.0     297.0        0.0   211.0   \n",
              "22731   NaN    NaN   NaN  4100.0    1209.0        0.0   200.0   \n",
              "22732   NaN    NaN   NaN  4849.0    1152.0        0.0   256.0   \n",
              "22733   NaN    NaN   NaN     NaN       NaN        0.0   386.0   \n",
              "22734   NaN    NaN   NaN  5399.0    1086.0        0.0   299.0   \n",
              "\n",
              "       monto_financiado  costo_total  monto_accesorios  ... reautorizacion  \\\n",
              "0                1169.0       2106.0               0.0  ...            0.0   \n",
              "1                1949.0       2925.0               0.0  ...            0.0   \n",
              "2                1469.0       2210.0               0.0  ...            0.0   \n",
              "3                1469.0       2210.0               0.0  ...            0.0   \n",
              "4                3224.0       6942.0               0.0  ...            0.0   \n",
              "...                 ...          ...               ...  ...            ...   \n",
              "22730            3052.0       5486.0               0.0  ...            0.0   \n",
              "22731            2891.0       5200.0               0.0  ...            0.0   \n",
              "22732            3697.0       6656.0               0.0  ...            0.0   \n",
              "22733               NaN          NaN               0.0  ...            0.0   \n",
              "22734            4313.0       7774.0               0.0  ...            0.0   \n",
              "\n",
              "       status_cuenta  puntos riesgo  score_buro  porc_eng  limite_credito  \\\n",
              "0                NaN     0.0   0.00           0     40.02          5000.0   \n",
              "1                NaN     0.0   0.00           0     35.01          6000.0   \n",
              "2                NaN     0.0   0.00           0     25.01             0.0   \n",
              "3                NaN     0.0   0.00           0     25.01          7000.0   \n",
              "4                NaN     0.0   0.00           0     25.01          7000.0   \n",
              "...              ...     ...    ...         ...       ...             ...   \n",
              "22730            NaN    10.0  27.40         469      8.87         10000.0   \n",
              "22731            NaN     9.0  19.00         502     29.49          5000.0   \n",
              "22732            NaN    11.0  26.65         459     23.76          4750.0   \n",
              "22733            NaN    14.0 -17.35         699     28.56          7000.0   \n",
              "22734            NaN    12.0  21.80           0     20.11          4750.0   \n",
              "\n",
              "      semana_actual  edad_cliente  edo_venta  \n",
              "0              26.0          23.0        NaN  \n",
              "1              13.0          60.0        NaN  \n",
              "2               NaN          58.0        NaN  \n",
              "3              13.0          42.0        NaN  \n",
              "4               NaN          33.0        NaN  \n",
              "...             ...           ...        ...  \n",
              "22730           0.0          22.0        NaN  \n",
              "22731           0.0          27.0        NaN  \n",
              "22732           0.0          36.0        NaN  \n",
              "22733           0.0          53.0        NaN  \n",
              "22734           0.0          19.0        NaN  \n",
              "\n",
              "[22733 rows x 26 columns]"
            ],
            "text/html": [
              "\n",
              "  <div id=\"df-37836b80-2989-419f-adb4-5c92ea029416\" class=\"colab-df-container\">\n",
              "    <div>\n",
              "<style scoped>\n",
              "    .dataframe tbody tr th:only-of-type {\n",
              "        vertical-align: middle;\n",
              "    }\n",
              "\n",
              "    .dataframe tbody tr th {\n",
              "        vertical-align: top;\n",
              "    }\n",
              "\n",
              "    .dataframe thead th {\n",
              "        text-align: right;\n",
              "    }\n",
              "</style>\n",
              "<table border=\"1\" class=\"dataframe\">\n",
              "  <thead>\n",
              "    <tr style=\"text-align: right;\">\n",
              "      <th></th>\n",
              "      <th>marca</th>\n",
              "      <th>modelo</th>\n",
              "      <th>plazo</th>\n",
              "      <th>precio</th>\n",
              "      <th>enganche</th>\n",
              "      <th>descuento</th>\n",
              "      <th>semana</th>\n",
              "      <th>monto_financiado</th>\n",
              "      <th>costo_total</th>\n",
              "      <th>monto_accesorios</th>\n",
              "      <th>...</th>\n",
              "      <th>reautorizacion</th>\n",
              "      <th>status_cuenta</th>\n",
              "      <th>puntos</th>\n",
              "      <th>riesgo</th>\n",
              "      <th>score_buro</th>\n",
              "      <th>porc_eng</th>\n",
              "      <th>limite_credito</th>\n",
              "      <th>semana_actual</th>\n",
              "      <th>edad_cliente</th>\n",
              "      <th>edo_venta</th>\n",
              "    </tr>\n",
              "  </thead>\n",
              "  <tbody>\n",
              "    <tr>\n",
              "      <th>0</th>\n",
              "      <td>NaN</td>\n",
              "      <td>NaN</td>\n",
              "      <td>NaN</td>\n",
              "      <td>1949.0</td>\n",
              "      <td>780.0</td>\n",
              "      <td>0.0</td>\n",
              "      <td>81.0</td>\n",
              "      <td>1169.0</td>\n",
              "      <td>2106.0</td>\n",
              "      <td>0.0</td>\n",
              "      <td>...</td>\n",
              "      <td>0.0</td>\n",
              "      <td>NaN</td>\n",
              "      <td>0.0</td>\n",
              "      <td>0.00</td>\n",
              "      <td>0</td>\n",
              "      <td>40.02</td>\n",
              "      <td>5000.0</td>\n",
              "      <td>26.0</td>\n",
              "      <td>23.0</td>\n",
              "      <td>NaN</td>\n",
              "    </tr>\n",
              "    <tr>\n",
              "      <th>1</th>\n",
              "      <td>NaN</td>\n",
              "      <td>NaN</td>\n",
              "      <td>NaN</td>\n",
              "      <td>2999.0</td>\n",
              "      <td>1050.0</td>\n",
              "      <td>0.0</td>\n",
              "      <td>225.0</td>\n",
              "      <td>1949.0</td>\n",
              "      <td>2925.0</td>\n",
              "      <td>0.0</td>\n",
              "      <td>...</td>\n",
              "      <td>0.0</td>\n",
              "      <td>NaN</td>\n",
              "      <td>0.0</td>\n",
              "      <td>0.00</td>\n",
              "      <td>0</td>\n",
              "      <td>35.01</td>\n",
              "      <td>6000.0</td>\n",
              "      <td>13.0</td>\n",
              "      <td>60.0</td>\n",
              "      <td>NaN</td>\n",
              "    </tr>\n",
              "    <tr>\n",
              "      <th>2</th>\n",
              "      <td>NaN</td>\n",
              "      <td>NaN</td>\n",
              "      <td>NaN</td>\n",
              "      <td>1959.0</td>\n",
              "      <td>490.0</td>\n",
              "      <td>0.0</td>\n",
              "      <td>170.0</td>\n",
              "      <td>1469.0</td>\n",
              "      <td>2210.0</td>\n",
              "      <td>0.0</td>\n",
              "      <td>...</td>\n",
              "      <td>0.0</td>\n",
              "      <td>NaN</td>\n",
              "      <td>0.0</td>\n",
              "      <td>0.00</td>\n",
              "      <td>0</td>\n",
              "      <td>25.01</td>\n",
              "      <td>0.0</td>\n",
              "      <td>NaN</td>\n",
              "      <td>58.0</td>\n",
              "      <td>NaN</td>\n",
              "    </tr>\n",
              "    <tr>\n",
              "      <th>3</th>\n",
              "      <td>NaN</td>\n",
              "      <td>NaN</td>\n",
              "      <td>NaN</td>\n",
              "      <td>1959.0</td>\n",
              "      <td>490.0</td>\n",
              "      <td>0.0</td>\n",
              "      <td>170.0</td>\n",
              "      <td>1469.0</td>\n",
              "      <td>2210.0</td>\n",
              "      <td>0.0</td>\n",
              "      <td>...</td>\n",
              "      <td>0.0</td>\n",
              "      <td>NaN</td>\n",
              "      <td>0.0</td>\n",
              "      <td>0.00</td>\n",
              "      <td>0</td>\n",
              "      <td>25.01</td>\n",
              "      <td>7000.0</td>\n",
              "      <td>13.0</td>\n",
              "      <td>42.0</td>\n",
              "      <td>NaN</td>\n",
              "    </tr>\n",
              "    <tr>\n",
              "      <th>4</th>\n",
              "      <td>NaN</td>\n",
              "      <td>NaN</td>\n",
              "      <td>NaN</td>\n",
              "      <td>4299.0</td>\n",
              "      <td>1075.0</td>\n",
              "      <td>0.0</td>\n",
              "      <td>178.0</td>\n",
              "      <td>3224.0</td>\n",
              "      <td>6942.0</td>\n",
              "      <td>0.0</td>\n",
              "      <td>...</td>\n",
              "      <td>0.0</td>\n",
              "      <td>NaN</td>\n",
              "      <td>0.0</td>\n",
              "      <td>0.00</td>\n",
              "      <td>0</td>\n",
              "      <td>25.01</td>\n",
              "      <td>7000.0</td>\n",
              "      <td>NaN</td>\n",
              "      <td>33.0</td>\n",
              "      <td>NaN</td>\n",
              "    </tr>\n",
              "    <tr>\n",
              "      <th>...</th>\n",
              "      <td>...</td>\n",
              "      <td>...</td>\n",
              "      <td>...</td>\n",
              "      <td>...</td>\n",
              "      <td>...</td>\n",
              "      <td>...</td>\n",
              "      <td>...</td>\n",
              "      <td>...</td>\n",
              "      <td>...</td>\n",
              "      <td>...</td>\n",
              "      <td>...</td>\n",
              "      <td>...</td>\n",
              "      <td>...</td>\n",
              "      <td>...</td>\n",
              "      <td>...</td>\n",
              "      <td>...</td>\n",
              "      <td>...</td>\n",
              "      <td>...</td>\n",
              "      <td>...</td>\n",
              "      <td>...</td>\n",
              "      <td>...</td>\n",
              "    </tr>\n",
              "    <tr>\n",
              "      <th>22730</th>\n",
              "      <td>NaN</td>\n",
              "      <td>NaN</td>\n",
              "      <td>NaN</td>\n",
              "      <td>3349.0</td>\n",
              "      <td>297.0</td>\n",
              "      <td>0.0</td>\n",
              "      <td>211.0</td>\n",
              "      <td>3052.0</td>\n",
              "      <td>5486.0</td>\n",
              "      <td>0.0</td>\n",
              "      <td>...</td>\n",
              "      <td>0.0</td>\n",
              "      <td>NaN</td>\n",
              "      <td>10.0</td>\n",
              "      <td>27.40</td>\n",
              "      <td>469</td>\n",
              "      <td>8.87</td>\n",
              "      <td>10000.0</td>\n",
              "      <td>0.0</td>\n",
              "      <td>22.0</td>\n",
              "      <td>NaN</td>\n",
              "    </tr>\n",
              "    <tr>\n",
              "      <th>22731</th>\n",
              "      <td>NaN</td>\n",
              "      <td>NaN</td>\n",
              "      <td>NaN</td>\n",
              "      <td>4100.0</td>\n",
              "      <td>1209.0</td>\n",
              "      <td>0.0</td>\n",
              "      <td>200.0</td>\n",
              "      <td>2891.0</td>\n",
              "      <td>5200.0</td>\n",
              "      <td>0.0</td>\n",
              "      <td>...</td>\n",
              "      <td>0.0</td>\n",
              "      <td>NaN</td>\n",
              "      <td>9.0</td>\n",
              "      <td>19.00</td>\n",
              "      <td>502</td>\n",
              "      <td>29.49</td>\n",
              "      <td>5000.0</td>\n",
              "      <td>0.0</td>\n",
              "      <td>27.0</td>\n",
              "      <td>NaN</td>\n",
              "    </tr>\n",
              "    <tr>\n",
              "      <th>22732</th>\n",
              "      <td>NaN</td>\n",
              "      <td>NaN</td>\n",
              "      <td>NaN</td>\n",
              "      <td>4849.0</td>\n",
              "      <td>1152.0</td>\n",
              "      <td>0.0</td>\n",
              "      <td>256.0</td>\n",
              "      <td>3697.0</td>\n",
              "      <td>6656.0</td>\n",
              "      <td>0.0</td>\n",
              "      <td>...</td>\n",
              "      <td>0.0</td>\n",
              "      <td>NaN</td>\n",
              "      <td>11.0</td>\n",
              "      <td>26.65</td>\n",
              "      <td>459</td>\n",
              "      <td>23.76</td>\n",
              "      <td>4750.0</td>\n",
              "      <td>0.0</td>\n",
              "      <td>36.0</td>\n",
              "      <td>NaN</td>\n",
              "    </tr>\n",
              "    <tr>\n",
              "      <th>22733</th>\n",
              "      <td>NaN</td>\n",
              "      <td>NaN</td>\n",
              "      <td>NaN</td>\n",
              "      <td>NaN</td>\n",
              "      <td>NaN</td>\n",
              "      <td>0.0</td>\n",
              "      <td>386.0</td>\n",
              "      <td>NaN</td>\n",
              "      <td>NaN</td>\n",
              "      <td>0.0</td>\n",
              "      <td>...</td>\n",
              "      <td>0.0</td>\n",
              "      <td>NaN</td>\n",
              "      <td>14.0</td>\n",
              "      <td>-17.35</td>\n",
              "      <td>699</td>\n",
              "      <td>28.56</td>\n",
              "      <td>7000.0</td>\n",
              "      <td>0.0</td>\n",
              "      <td>53.0</td>\n",
              "      <td>NaN</td>\n",
              "    </tr>\n",
              "    <tr>\n",
              "      <th>22734</th>\n",
              "      <td>NaN</td>\n",
              "      <td>NaN</td>\n",
              "      <td>NaN</td>\n",
              "      <td>5399.0</td>\n",
              "      <td>1086.0</td>\n",
              "      <td>0.0</td>\n",
              "      <td>299.0</td>\n",
              "      <td>4313.0</td>\n",
              "      <td>7774.0</td>\n",
              "      <td>0.0</td>\n",
              "      <td>...</td>\n",
              "      <td>0.0</td>\n",
              "      <td>NaN</td>\n",
              "      <td>12.0</td>\n",
              "      <td>21.80</td>\n",
              "      <td>0</td>\n",
              "      <td>20.11</td>\n",
              "      <td>4750.0</td>\n",
              "      <td>0.0</td>\n",
              "      <td>19.0</td>\n",
              "      <td>NaN</td>\n",
              "    </tr>\n",
              "  </tbody>\n",
              "</table>\n",
              "<p>22733 rows × 26 columns</p>\n",
              "</div>\n",
              "    <div class=\"colab-df-buttons\">\n",
              "\n",
              "  <div class=\"colab-df-container\">\n",
              "    <button class=\"colab-df-convert\" onclick=\"convertToInteractive('df-37836b80-2989-419f-adb4-5c92ea029416')\"\n",
              "            title=\"Convert this dataframe to an interactive table.\"\n",
              "            style=\"display:none;\">\n",
              "\n",
              "  <svg xmlns=\"http://www.w3.org/2000/svg\" height=\"24px\" viewBox=\"0 -960 960 960\">\n",
              "    <path d=\"M120-120v-720h720v720H120Zm60-500h600v-160H180v160Zm220 220h160v-160H400v160Zm0 220h160v-160H400v160ZM180-400h160v-160H180v160Zm440 0h160v-160H620v160ZM180-180h160v-160H180v160Zm440 0h160v-160H620v160Z\"/>\n",
              "  </svg>\n",
              "    </button>\n",
              "\n",
              "  <style>\n",
              "    .colab-df-container {\n",
              "      display:flex;\n",
              "      gap: 12px;\n",
              "    }\n",
              "\n",
              "    .colab-df-convert {\n",
              "      background-color: #E8F0FE;\n",
              "      border: none;\n",
              "      border-radius: 50%;\n",
              "      cursor: pointer;\n",
              "      display: none;\n",
              "      fill: #1967D2;\n",
              "      height: 32px;\n",
              "      padding: 0 0 0 0;\n",
              "      width: 32px;\n",
              "    }\n",
              "\n",
              "    .colab-df-convert:hover {\n",
              "      background-color: #E2EBFA;\n",
              "      box-shadow: 0px 1px 2px rgba(60, 64, 67, 0.3), 0px 1px 3px 1px rgba(60, 64, 67, 0.15);\n",
              "      fill: #174EA6;\n",
              "    }\n",
              "\n",
              "    .colab-df-buttons div {\n",
              "      margin-bottom: 4px;\n",
              "    }\n",
              "\n",
              "    [theme=dark] .colab-df-convert {\n",
              "      background-color: #3B4455;\n",
              "      fill: #D2E3FC;\n",
              "    }\n",
              "\n",
              "    [theme=dark] .colab-df-convert:hover {\n",
              "      background-color: #434B5C;\n",
              "      box-shadow: 0px 1px 3px 1px rgba(0, 0, 0, 0.15);\n",
              "      filter: drop-shadow(0px 1px 2px rgba(0, 0, 0, 0.3));\n",
              "      fill: #FFFFFF;\n",
              "    }\n",
              "  </style>\n",
              "\n",
              "    <script>\n",
              "      const buttonEl =\n",
              "        document.querySelector('#df-37836b80-2989-419f-adb4-5c92ea029416 button.colab-df-convert');\n",
              "      buttonEl.style.display =\n",
              "        google.colab.kernel.accessAllowed ? 'block' : 'none';\n",
              "\n",
              "      async function convertToInteractive(key) {\n",
              "        const element = document.querySelector('#df-37836b80-2989-419f-adb4-5c92ea029416');\n",
              "        const dataTable =\n",
              "          await google.colab.kernel.invokeFunction('convertToInteractive',\n",
              "                                                    [key], {});\n",
              "        if (!dataTable) return;\n",
              "\n",
              "        const docLinkHtml = 'Like what you see? Visit the ' +\n",
              "          '<a target=\"_blank\" href=https://colab.research.google.com/notebooks/data_table.ipynb>data table notebook</a>'\n",
              "          + ' to learn more about interactive tables.';\n",
              "        element.innerHTML = '';\n",
              "        dataTable['output_type'] = 'display_data';\n",
              "        await google.colab.output.renderOutput(dataTable, element);\n",
              "        const docLink = document.createElement('div');\n",
              "        docLink.innerHTML = docLinkHtml;\n",
              "        element.appendChild(docLink);\n",
              "      }\n",
              "    </script>\n",
              "  </div>\n",
              "\n",
              "\n",
              "<div id=\"df-41cc872b-0955-4c24-ab7b-3a8524761ee2\">\n",
              "  <button class=\"colab-df-quickchart\" onclick=\"quickchart('df-41cc872b-0955-4c24-ab7b-3a8524761ee2')\"\n",
              "            title=\"Suggest charts.\"\n",
              "            style=\"display:none;\">\n",
              "\n",
              "<svg xmlns=\"http://www.w3.org/2000/svg\" height=\"24px\"viewBox=\"0 0 24 24\"\n",
              "     width=\"24px\">\n",
              "    <g>\n",
              "        <path d=\"M19 3H5c-1.1 0-2 .9-2 2v14c0 1.1.9 2 2 2h14c1.1 0 2-.9 2-2V5c0-1.1-.9-2-2-2zM9 17H7v-7h2v7zm4 0h-2V7h2v10zm4 0h-2v-4h2v4z\"/>\n",
              "    </g>\n",
              "</svg>\n",
              "  </button>\n",
              "\n",
              "<style>\n",
              "  .colab-df-quickchart {\n",
              "      --bg-color: #E8F0FE;\n",
              "      --fill-color: #1967D2;\n",
              "      --hover-bg-color: #E2EBFA;\n",
              "      --hover-fill-color: #174EA6;\n",
              "      --disabled-fill-color: #AAA;\n",
              "      --disabled-bg-color: #DDD;\n",
              "  }\n",
              "\n",
              "  [theme=dark] .colab-df-quickchart {\n",
              "      --bg-color: #3B4455;\n",
              "      --fill-color: #D2E3FC;\n",
              "      --hover-bg-color: #434B5C;\n",
              "      --hover-fill-color: #FFFFFF;\n",
              "      --disabled-bg-color: #3B4455;\n",
              "      --disabled-fill-color: #666;\n",
              "  }\n",
              "\n",
              "  .colab-df-quickchart {\n",
              "    background-color: var(--bg-color);\n",
              "    border: none;\n",
              "    border-radius: 50%;\n",
              "    cursor: pointer;\n",
              "    display: none;\n",
              "    fill: var(--fill-color);\n",
              "    height: 32px;\n",
              "    padding: 0;\n",
              "    width: 32px;\n",
              "  }\n",
              "\n",
              "  .colab-df-quickchart:hover {\n",
              "    background-color: var(--hover-bg-color);\n",
              "    box-shadow: 0 1px 2px rgba(60, 64, 67, 0.3), 0 1px 3px 1px rgba(60, 64, 67, 0.15);\n",
              "    fill: var(--button-hover-fill-color);\n",
              "  }\n",
              "\n",
              "  .colab-df-quickchart-complete:disabled,\n",
              "  .colab-df-quickchart-complete:disabled:hover {\n",
              "    background-color: var(--disabled-bg-color);\n",
              "    fill: var(--disabled-fill-color);\n",
              "    box-shadow: none;\n",
              "  }\n",
              "\n",
              "  .colab-df-spinner {\n",
              "    border: 2px solid var(--fill-color);\n",
              "    border-color: transparent;\n",
              "    border-bottom-color: var(--fill-color);\n",
              "    animation:\n",
              "      spin 1s steps(1) infinite;\n",
              "  }\n",
              "\n",
              "  @keyframes spin {\n",
              "    0% {\n",
              "      border-color: transparent;\n",
              "      border-bottom-color: var(--fill-color);\n",
              "      border-left-color: var(--fill-color);\n",
              "    }\n",
              "    20% {\n",
              "      border-color: transparent;\n",
              "      border-left-color: var(--fill-color);\n",
              "      border-top-color: var(--fill-color);\n",
              "    }\n",
              "    30% {\n",
              "      border-color: transparent;\n",
              "      border-left-color: var(--fill-color);\n",
              "      border-top-color: var(--fill-color);\n",
              "      border-right-color: var(--fill-color);\n",
              "    }\n",
              "    40% {\n",
              "      border-color: transparent;\n",
              "      border-right-color: var(--fill-color);\n",
              "      border-top-color: var(--fill-color);\n",
              "    }\n",
              "    60% {\n",
              "      border-color: transparent;\n",
              "      border-right-color: var(--fill-color);\n",
              "    }\n",
              "    80% {\n",
              "      border-color: transparent;\n",
              "      border-right-color: var(--fill-color);\n",
              "      border-bottom-color: var(--fill-color);\n",
              "    }\n",
              "    90% {\n",
              "      border-color: transparent;\n",
              "      border-bottom-color: var(--fill-color);\n",
              "    }\n",
              "  }\n",
              "</style>\n",
              "\n",
              "  <script>\n",
              "    async function quickchart(key) {\n",
              "      const quickchartButtonEl =\n",
              "        document.querySelector('#' + key + ' button');\n",
              "      quickchartButtonEl.disabled = true;  // To prevent multiple clicks.\n",
              "      quickchartButtonEl.classList.add('colab-df-spinner');\n",
              "      try {\n",
              "        const charts = await google.colab.kernel.invokeFunction(\n",
              "            'suggestCharts', [key], {});\n",
              "      } catch (error) {\n",
              "        console.error('Error during call to suggestCharts:', error);\n",
              "      }\n",
              "      quickchartButtonEl.classList.remove('colab-df-spinner');\n",
              "      quickchartButtonEl.classList.add('colab-df-quickchart-complete');\n",
              "    }\n",
              "    (() => {\n",
              "      let quickchartButtonEl =\n",
              "        document.querySelector('#df-41cc872b-0955-4c24-ab7b-3a8524761ee2 button');\n",
              "      quickchartButtonEl.style.display =\n",
              "        google.colab.kernel.accessAllowed ? 'block' : 'none';\n",
              "    })();\n",
              "  </script>\n",
              "</div>\n",
              "    </div>\n",
              "  </div>\n"
            ]
          },
          "metadata": {},
          "execution_count": 767
        }
      ]
    },
    {
      "cell_type": "code",
      "source": [
        "cuentasl = df2.drop([\"semana_actual\",\"semana\"],axis=1)\n",
        "cuentasl = cuentasl.copy()\n",
        "cuentasl = cuentasl.fillna(round(cuentasl.mean(),1))\n",
        "cuentasl"
      ],
      "metadata": {
        "colab": {
          "base_uri": "https://localhost:8080/",
          "height": 711
        },
        "id": "mt1UWe2tMKAi",
        "outputId": "e437e875-cde3-4743-8420-1386fab0d62c"
      },
      "execution_count": 768,
      "outputs": [
        {
          "output_type": "stream",
          "name": "stderr",
          "text": [
            "<ipython-input-768-53821d16748d>:3: FutureWarning: The default value of numeric_only in DataFrame.mean is deprecated. In a future version, it will default to False. In addition, specifying 'numeric_only=None' is deprecated. Select only valid columns or specify the value of numeric_only to silence this warning.\n",
            "  cuentasl = cuentasl.fillna(round(cuentasl.mean(),1))\n"
          ]
        },
        {
          "output_type": "execute_result",
          "data": {
            "text/plain": [
              "          marca                        modelo plazo  precio  enganche  \\\n",
              "0           ZTE            Blade A3 2020 RO B   26S  1949.0     780.0   \n",
              "1      MOTOROLA  LTE XT2097-12 E7I POWER Azul   13S  2999.0    1050.0   \n",
              "2           ZTE            BLADE A3 2020 Gris   13S  1959.0     490.0   \n",
              "3           ZTE            BLADE A3 2020 Gris   13S  1959.0     490.0   \n",
              "4      MOTOROLA                         G10 B   39S  4299.0    1075.0   \n",
              "...         ...                           ...   ...     ...       ...   \n",
              "22730  Motorola                      Moto E13   26S  3349.0     297.0   \n",
              "22731  Motorola                     Moto E22i   26S  4100.0    1209.0   \n",
              "22732   Samsung                           A13   26S  4849.0    1152.0   \n",
              "22733   Samsung                        A53 5G   39S  9799.0    2799.0   \n",
              "22734   Samsung                        A22 5G   26S  5399.0    1086.0   \n",
              "\n",
              "       descuento  monto_financiado  costo_total  monto_accesorios dis_venta  \\\n",
              "0            0.0            1169.0         2106               0.0   mic0437   \n",
              "1            0.0            1949.0         2925               0.0    mic015   \n",
              "2            0.0            1469.0         2210               0.0   mic0437   \n",
              "3            0.0            1469.0         2210               0.0   mic0748   \n",
              "4            0.0            3224.0         6942               0.0   mic0437   \n",
              "...          ...               ...          ...               ...       ...   \n",
              "22730        0.0            3052.0         5486               0.0    svc044   \n",
              "22731        0.0            2891.0         5200               0.0    PXC004   \n",
              "22732        0.0            3697.0         6656               0.0    gph008   \n",
              "22733        0.0            7000.0        15054               0.0    gph014   \n",
              "22734        0.0            4313.0         7774               0.0    php005   \n",
              "\n",
              "       ...  pagos_realizados  reautorizacion status_cuenta  puntos  riesgo  \\\n",
              "0      ...                 0               0     Cancelado       0    0.00   \n",
              "1      ...                 0               0     Cancelado       0    0.00   \n",
              "2      ...                 0               0     Cancelado       0    0.00   \n",
              "3      ...                 0               0     Cancelado       0    0.00   \n",
              "4      ...                 0               0          Mora       0    0.00   \n",
              "...    ...               ...             ...           ...     ...     ...   \n",
              "22730  ...                 0               0     Cancelado      10   27.40   \n",
              "22731  ...                 0               0     Cancelado       9   19.00   \n",
              "22732  ...                 0               0     Cancelado      11   26.65   \n",
              "22733  ...                 0               0     Cancelado      14  -17.35   \n",
              "22734  ...                 0               0     Cancelado      12   21.80   \n",
              "\n",
              "       score_buro porc_eng  limite_credito  edad_cliente            edo_venta  \n",
              "0               0    40.02            5000          23.0             Veracruz  \n",
              "1               0    35.01            6000          60.0               Puebla  \n",
              "2               0    25.01               0          58.0                    0  \n",
              "3               0    25.01            7000          42.0               Puebla  \n",
              "4               0    25.01            7000          33.0             Veracruz  \n",
              "...           ...      ...             ...           ...                  ...  \n",
              "22730         469     8.87           10000          22.0              Yucatan  \n",
              "22731         502    29.49            5000          27.0           Guanajuato  \n",
              "22732         459    23.76            4750          36.0       Aguascalientes  \n",
              "22733         699    28.56            7000          53.0      San Luis Potosi  \n",
              "22734           0    20.11            4750          19.0  Baja California Sur  \n",
              "\n",
              "[22733 rows x 24 columns]"
            ],
            "text/html": [
              "\n",
              "  <div id=\"df-1507415e-1cbd-41ec-a3fb-235c048cd33b\" class=\"colab-df-container\">\n",
              "    <div>\n",
              "<style scoped>\n",
              "    .dataframe tbody tr th:only-of-type {\n",
              "        vertical-align: middle;\n",
              "    }\n",
              "\n",
              "    .dataframe tbody tr th {\n",
              "        vertical-align: top;\n",
              "    }\n",
              "\n",
              "    .dataframe thead th {\n",
              "        text-align: right;\n",
              "    }\n",
              "</style>\n",
              "<table border=\"1\" class=\"dataframe\">\n",
              "  <thead>\n",
              "    <tr style=\"text-align: right;\">\n",
              "      <th></th>\n",
              "      <th>marca</th>\n",
              "      <th>modelo</th>\n",
              "      <th>plazo</th>\n",
              "      <th>precio</th>\n",
              "      <th>enganche</th>\n",
              "      <th>descuento</th>\n",
              "      <th>monto_financiado</th>\n",
              "      <th>costo_total</th>\n",
              "      <th>monto_accesorios</th>\n",
              "      <th>dis_venta</th>\n",
              "      <th>...</th>\n",
              "      <th>pagos_realizados</th>\n",
              "      <th>reautorizacion</th>\n",
              "      <th>status_cuenta</th>\n",
              "      <th>puntos</th>\n",
              "      <th>riesgo</th>\n",
              "      <th>score_buro</th>\n",
              "      <th>porc_eng</th>\n",
              "      <th>limite_credito</th>\n",
              "      <th>edad_cliente</th>\n",
              "      <th>edo_venta</th>\n",
              "    </tr>\n",
              "  </thead>\n",
              "  <tbody>\n",
              "    <tr>\n",
              "      <th>0</th>\n",
              "      <td>ZTE</td>\n",
              "      <td>Blade A3 2020 RO B</td>\n",
              "      <td>26S</td>\n",
              "      <td>1949.0</td>\n",
              "      <td>780.0</td>\n",
              "      <td>0.0</td>\n",
              "      <td>1169.0</td>\n",
              "      <td>2106</td>\n",
              "      <td>0.0</td>\n",
              "      <td>mic0437</td>\n",
              "      <td>...</td>\n",
              "      <td>0</td>\n",
              "      <td>0</td>\n",
              "      <td>Cancelado</td>\n",
              "      <td>0</td>\n",
              "      <td>0.00</td>\n",
              "      <td>0</td>\n",
              "      <td>40.02</td>\n",
              "      <td>5000</td>\n",
              "      <td>23.0</td>\n",
              "      <td>Veracruz</td>\n",
              "    </tr>\n",
              "    <tr>\n",
              "      <th>1</th>\n",
              "      <td>MOTOROLA</td>\n",
              "      <td>LTE XT2097-12 E7I POWER Azul</td>\n",
              "      <td>13S</td>\n",
              "      <td>2999.0</td>\n",
              "      <td>1050.0</td>\n",
              "      <td>0.0</td>\n",
              "      <td>1949.0</td>\n",
              "      <td>2925</td>\n",
              "      <td>0.0</td>\n",
              "      <td>mic015</td>\n",
              "      <td>...</td>\n",
              "      <td>0</td>\n",
              "      <td>0</td>\n",
              "      <td>Cancelado</td>\n",
              "      <td>0</td>\n",
              "      <td>0.00</td>\n",
              "      <td>0</td>\n",
              "      <td>35.01</td>\n",
              "      <td>6000</td>\n",
              "      <td>60.0</td>\n",
              "      <td>Puebla</td>\n",
              "    </tr>\n",
              "    <tr>\n",
              "      <th>2</th>\n",
              "      <td>ZTE</td>\n",
              "      <td>BLADE A3 2020 Gris</td>\n",
              "      <td>13S</td>\n",
              "      <td>1959.0</td>\n",
              "      <td>490.0</td>\n",
              "      <td>0.0</td>\n",
              "      <td>1469.0</td>\n",
              "      <td>2210</td>\n",
              "      <td>0.0</td>\n",
              "      <td>mic0437</td>\n",
              "      <td>...</td>\n",
              "      <td>0</td>\n",
              "      <td>0</td>\n",
              "      <td>Cancelado</td>\n",
              "      <td>0</td>\n",
              "      <td>0.00</td>\n",
              "      <td>0</td>\n",
              "      <td>25.01</td>\n",
              "      <td>0</td>\n",
              "      <td>58.0</td>\n",
              "      <td>0</td>\n",
              "    </tr>\n",
              "    <tr>\n",
              "      <th>3</th>\n",
              "      <td>ZTE</td>\n",
              "      <td>BLADE A3 2020 Gris</td>\n",
              "      <td>13S</td>\n",
              "      <td>1959.0</td>\n",
              "      <td>490.0</td>\n",
              "      <td>0.0</td>\n",
              "      <td>1469.0</td>\n",
              "      <td>2210</td>\n",
              "      <td>0.0</td>\n",
              "      <td>mic0748</td>\n",
              "      <td>...</td>\n",
              "      <td>0</td>\n",
              "      <td>0</td>\n",
              "      <td>Cancelado</td>\n",
              "      <td>0</td>\n",
              "      <td>0.00</td>\n",
              "      <td>0</td>\n",
              "      <td>25.01</td>\n",
              "      <td>7000</td>\n",
              "      <td>42.0</td>\n",
              "      <td>Puebla</td>\n",
              "    </tr>\n",
              "    <tr>\n",
              "      <th>4</th>\n",
              "      <td>MOTOROLA</td>\n",
              "      <td>G10 B</td>\n",
              "      <td>39S</td>\n",
              "      <td>4299.0</td>\n",
              "      <td>1075.0</td>\n",
              "      <td>0.0</td>\n",
              "      <td>3224.0</td>\n",
              "      <td>6942</td>\n",
              "      <td>0.0</td>\n",
              "      <td>mic0437</td>\n",
              "      <td>...</td>\n",
              "      <td>0</td>\n",
              "      <td>0</td>\n",
              "      <td>Mora</td>\n",
              "      <td>0</td>\n",
              "      <td>0.00</td>\n",
              "      <td>0</td>\n",
              "      <td>25.01</td>\n",
              "      <td>7000</td>\n",
              "      <td>33.0</td>\n",
              "      <td>Veracruz</td>\n",
              "    </tr>\n",
              "    <tr>\n",
              "      <th>...</th>\n",
              "      <td>...</td>\n",
              "      <td>...</td>\n",
              "      <td>...</td>\n",
              "      <td>...</td>\n",
              "      <td>...</td>\n",
              "      <td>...</td>\n",
              "      <td>...</td>\n",
              "      <td>...</td>\n",
              "      <td>...</td>\n",
              "      <td>...</td>\n",
              "      <td>...</td>\n",
              "      <td>...</td>\n",
              "      <td>...</td>\n",
              "      <td>...</td>\n",
              "      <td>...</td>\n",
              "      <td>...</td>\n",
              "      <td>...</td>\n",
              "      <td>...</td>\n",
              "      <td>...</td>\n",
              "      <td>...</td>\n",
              "      <td>...</td>\n",
              "    </tr>\n",
              "    <tr>\n",
              "      <th>22730</th>\n",
              "      <td>Motorola</td>\n",
              "      <td>Moto E13</td>\n",
              "      <td>26S</td>\n",
              "      <td>3349.0</td>\n",
              "      <td>297.0</td>\n",
              "      <td>0.0</td>\n",
              "      <td>3052.0</td>\n",
              "      <td>5486</td>\n",
              "      <td>0.0</td>\n",
              "      <td>svc044</td>\n",
              "      <td>...</td>\n",
              "      <td>0</td>\n",
              "      <td>0</td>\n",
              "      <td>Cancelado</td>\n",
              "      <td>10</td>\n",
              "      <td>27.40</td>\n",
              "      <td>469</td>\n",
              "      <td>8.87</td>\n",
              "      <td>10000</td>\n",
              "      <td>22.0</td>\n",
              "      <td>Yucatan</td>\n",
              "    </tr>\n",
              "    <tr>\n",
              "      <th>22731</th>\n",
              "      <td>Motorola</td>\n",
              "      <td>Moto E22i</td>\n",
              "      <td>26S</td>\n",
              "      <td>4100.0</td>\n",
              "      <td>1209.0</td>\n",
              "      <td>0.0</td>\n",
              "      <td>2891.0</td>\n",
              "      <td>5200</td>\n",
              "      <td>0.0</td>\n",
              "      <td>PXC004</td>\n",
              "      <td>...</td>\n",
              "      <td>0</td>\n",
              "      <td>0</td>\n",
              "      <td>Cancelado</td>\n",
              "      <td>9</td>\n",
              "      <td>19.00</td>\n",
              "      <td>502</td>\n",
              "      <td>29.49</td>\n",
              "      <td>5000</td>\n",
              "      <td>27.0</td>\n",
              "      <td>Guanajuato</td>\n",
              "    </tr>\n",
              "    <tr>\n",
              "      <th>22732</th>\n",
              "      <td>Samsung</td>\n",
              "      <td>A13</td>\n",
              "      <td>26S</td>\n",
              "      <td>4849.0</td>\n",
              "      <td>1152.0</td>\n",
              "      <td>0.0</td>\n",
              "      <td>3697.0</td>\n",
              "      <td>6656</td>\n",
              "      <td>0.0</td>\n",
              "      <td>gph008</td>\n",
              "      <td>...</td>\n",
              "      <td>0</td>\n",
              "      <td>0</td>\n",
              "      <td>Cancelado</td>\n",
              "      <td>11</td>\n",
              "      <td>26.65</td>\n",
              "      <td>459</td>\n",
              "      <td>23.76</td>\n",
              "      <td>4750</td>\n",
              "      <td>36.0</td>\n",
              "      <td>Aguascalientes</td>\n",
              "    </tr>\n",
              "    <tr>\n",
              "      <th>22733</th>\n",
              "      <td>Samsung</td>\n",
              "      <td>A53 5G</td>\n",
              "      <td>39S</td>\n",
              "      <td>9799.0</td>\n",
              "      <td>2799.0</td>\n",
              "      <td>0.0</td>\n",
              "      <td>7000.0</td>\n",
              "      <td>15054</td>\n",
              "      <td>0.0</td>\n",
              "      <td>gph014</td>\n",
              "      <td>...</td>\n",
              "      <td>0</td>\n",
              "      <td>0</td>\n",
              "      <td>Cancelado</td>\n",
              "      <td>14</td>\n",
              "      <td>-17.35</td>\n",
              "      <td>699</td>\n",
              "      <td>28.56</td>\n",
              "      <td>7000</td>\n",
              "      <td>53.0</td>\n",
              "      <td>San Luis Potosi</td>\n",
              "    </tr>\n",
              "    <tr>\n",
              "      <th>22734</th>\n",
              "      <td>Samsung</td>\n",
              "      <td>A22 5G</td>\n",
              "      <td>26S</td>\n",
              "      <td>5399.0</td>\n",
              "      <td>1086.0</td>\n",
              "      <td>0.0</td>\n",
              "      <td>4313.0</td>\n",
              "      <td>7774</td>\n",
              "      <td>0.0</td>\n",
              "      <td>php005</td>\n",
              "      <td>...</td>\n",
              "      <td>0</td>\n",
              "      <td>0</td>\n",
              "      <td>Cancelado</td>\n",
              "      <td>12</td>\n",
              "      <td>21.80</td>\n",
              "      <td>0</td>\n",
              "      <td>20.11</td>\n",
              "      <td>4750</td>\n",
              "      <td>19.0</td>\n",
              "      <td>Baja California Sur</td>\n",
              "    </tr>\n",
              "  </tbody>\n",
              "</table>\n",
              "<p>22733 rows × 24 columns</p>\n",
              "</div>\n",
              "    <div class=\"colab-df-buttons\">\n",
              "\n",
              "  <div class=\"colab-df-container\">\n",
              "    <button class=\"colab-df-convert\" onclick=\"convertToInteractive('df-1507415e-1cbd-41ec-a3fb-235c048cd33b')\"\n",
              "            title=\"Convert this dataframe to an interactive table.\"\n",
              "            style=\"display:none;\">\n",
              "\n",
              "  <svg xmlns=\"http://www.w3.org/2000/svg\" height=\"24px\" viewBox=\"0 -960 960 960\">\n",
              "    <path d=\"M120-120v-720h720v720H120Zm60-500h600v-160H180v160Zm220 220h160v-160H400v160Zm0 220h160v-160H400v160ZM180-400h160v-160H180v160Zm440 0h160v-160H620v160ZM180-180h160v-160H180v160Zm440 0h160v-160H620v160Z\"/>\n",
              "  </svg>\n",
              "    </button>\n",
              "\n",
              "  <style>\n",
              "    .colab-df-container {\n",
              "      display:flex;\n",
              "      gap: 12px;\n",
              "    }\n",
              "\n",
              "    .colab-df-convert {\n",
              "      background-color: #E8F0FE;\n",
              "      border: none;\n",
              "      border-radius: 50%;\n",
              "      cursor: pointer;\n",
              "      display: none;\n",
              "      fill: #1967D2;\n",
              "      height: 32px;\n",
              "      padding: 0 0 0 0;\n",
              "      width: 32px;\n",
              "    }\n",
              "\n",
              "    .colab-df-convert:hover {\n",
              "      background-color: #E2EBFA;\n",
              "      box-shadow: 0px 1px 2px rgba(60, 64, 67, 0.3), 0px 1px 3px 1px rgba(60, 64, 67, 0.15);\n",
              "      fill: #174EA6;\n",
              "    }\n",
              "\n",
              "    .colab-df-buttons div {\n",
              "      margin-bottom: 4px;\n",
              "    }\n",
              "\n",
              "    [theme=dark] .colab-df-convert {\n",
              "      background-color: #3B4455;\n",
              "      fill: #D2E3FC;\n",
              "    }\n",
              "\n",
              "    [theme=dark] .colab-df-convert:hover {\n",
              "      background-color: #434B5C;\n",
              "      box-shadow: 0px 1px 3px 1px rgba(0, 0, 0, 0.15);\n",
              "      filter: drop-shadow(0px 1px 2px rgba(0, 0, 0, 0.3));\n",
              "      fill: #FFFFFF;\n",
              "    }\n",
              "  </style>\n",
              "\n",
              "    <script>\n",
              "      const buttonEl =\n",
              "        document.querySelector('#df-1507415e-1cbd-41ec-a3fb-235c048cd33b button.colab-df-convert');\n",
              "      buttonEl.style.display =\n",
              "        google.colab.kernel.accessAllowed ? 'block' : 'none';\n",
              "\n",
              "      async function convertToInteractive(key) {\n",
              "        const element = document.querySelector('#df-1507415e-1cbd-41ec-a3fb-235c048cd33b');\n",
              "        const dataTable =\n",
              "          await google.colab.kernel.invokeFunction('convertToInteractive',\n",
              "                                                    [key], {});\n",
              "        if (!dataTable) return;\n",
              "\n",
              "        const docLinkHtml = 'Like what you see? Visit the ' +\n",
              "          '<a target=\"_blank\" href=https://colab.research.google.com/notebooks/data_table.ipynb>data table notebook</a>'\n",
              "          + ' to learn more about interactive tables.';\n",
              "        element.innerHTML = '';\n",
              "        dataTable['output_type'] = 'display_data';\n",
              "        await google.colab.output.renderOutput(dataTable, element);\n",
              "        const docLink = document.createElement('div');\n",
              "        docLink.innerHTML = docLinkHtml;\n",
              "        element.appendChild(docLink);\n",
              "      }\n",
              "    </script>\n",
              "  </div>\n",
              "\n",
              "\n",
              "<div id=\"df-35192b87-3763-45e9-af83-b5f569057b14\">\n",
              "  <button class=\"colab-df-quickchart\" onclick=\"quickchart('df-35192b87-3763-45e9-af83-b5f569057b14')\"\n",
              "            title=\"Suggest charts.\"\n",
              "            style=\"display:none;\">\n",
              "\n",
              "<svg xmlns=\"http://www.w3.org/2000/svg\" height=\"24px\"viewBox=\"0 0 24 24\"\n",
              "     width=\"24px\">\n",
              "    <g>\n",
              "        <path d=\"M19 3H5c-1.1 0-2 .9-2 2v14c0 1.1.9 2 2 2h14c1.1 0 2-.9 2-2V5c0-1.1-.9-2-2-2zM9 17H7v-7h2v7zm4 0h-2V7h2v10zm4 0h-2v-4h2v4z\"/>\n",
              "    </g>\n",
              "</svg>\n",
              "  </button>\n",
              "\n",
              "<style>\n",
              "  .colab-df-quickchart {\n",
              "      --bg-color: #E8F0FE;\n",
              "      --fill-color: #1967D2;\n",
              "      --hover-bg-color: #E2EBFA;\n",
              "      --hover-fill-color: #174EA6;\n",
              "      --disabled-fill-color: #AAA;\n",
              "      --disabled-bg-color: #DDD;\n",
              "  }\n",
              "\n",
              "  [theme=dark] .colab-df-quickchart {\n",
              "      --bg-color: #3B4455;\n",
              "      --fill-color: #D2E3FC;\n",
              "      --hover-bg-color: #434B5C;\n",
              "      --hover-fill-color: #FFFFFF;\n",
              "      --disabled-bg-color: #3B4455;\n",
              "      --disabled-fill-color: #666;\n",
              "  }\n",
              "\n",
              "  .colab-df-quickchart {\n",
              "    background-color: var(--bg-color);\n",
              "    border: none;\n",
              "    border-radius: 50%;\n",
              "    cursor: pointer;\n",
              "    display: none;\n",
              "    fill: var(--fill-color);\n",
              "    height: 32px;\n",
              "    padding: 0;\n",
              "    width: 32px;\n",
              "  }\n",
              "\n",
              "  .colab-df-quickchart:hover {\n",
              "    background-color: var(--hover-bg-color);\n",
              "    box-shadow: 0 1px 2px rgba(60, 64, 67, 0.3), 0 1px 3px 1px rgba(60, 64, 67, 0.15);\n",
              "    fill: var(--button-hover-fill-color);\n",
              "  }\n",
              "\n",
              "  .colab-df-quickchart-complete:disabled,\n",
              "  .colab-df-quickchart-complete:disabled:hover {\n",
              "    background-color: var(--disabled-bg-color);\n",
              "    fill: var(--disabled-fill-color);\n",
              "    box-shadow: none;\n",
              "  }\n",
              "\n",
              "  .colab-df-spinner {\n",
              "    border: 2px solid var(--fill-color);\n",
              "    border-color: transparent;\n",
              "    border-bottom-color: var(--fill-color);\n",
              "    animation:\n",
              "      spin 1s steps(1) infinite;\n",
              "  }\n",
              "\n",
              "  @keyframes spin {\n",
              "    0% {\n",
              "      border-color: transparent;\n",
              "      border-bottom-color: var(--fill-color);\n",
              "      border-left-color: var(--fill-color);\n",
              "    }\n",
              "    20% {\n",
              "      border-color: transparent;\n",
              "      border-left-color: var(--fill-color);\n",
              "      border-top-color: var(--fill-color);\n",
              "    }\n",
              "    30% {\n",
              "      border-color: transparent;\n",
              "      border-left-color: var(--fill-color);\n",
              "      border-top-color: var(--fill-color);\n",
              "      border-right-color: var(--fill-color);\n",
              "    }\n",
              "    40% {\n",
              "      border-color: transparent;\n",
              "      border-right-color: var(--fill-color);\n",
              "      border-top-color: var(--fill-color);\n",
              "    }\n",
              "    60% {\n",
              "      border-color: transparent;\n",
              "      border-right-color: var(--fill-color);\n",
              "    }\n",
              "    80% {\n",
              "      border-color: transparent;\n",
              "      border-right-color: var(--fill-color);\n",
              "      border-bottom-color: var(--fill-color);\n",
              "    }\n",
              "    90% {\n",
              "      border-color: transparent;\n",
              "      border-bottom-color: var(--fill-color);\n",
              "    }\n",
              "  }\n",
              "</style>\n",
              "\n",
              "  <script>\n",
              "    async function quickchart(key) {\n",
              "      const quickchartButtonEl =\n",
              "        document.querySelector('#' + key + ' button');\n",
              "      quickchartButtonEl.disabled = true;  // To prevent multiple clicks.\n",
              "      quickchartButtonEl.classList.add('colab-df-spinner');\n",
              "      try {\n",
              "        const charts = await google.colab.kernel.invokeFunction(\n",
              "            'suggestCharts', [key], {});\n",
              "      } catch (error) {\n",
              "        console.error('Error during call to suggestCharts:', error);\n",
              "      }\n",
              "      quickchartButtonEl.classList.remove('colab-df-spinner');\n",
              "      quickchartButtonEl.classList.add('colab-df-quickchart-complete');\n",
              "    }\n",
              "    (() => {\n",
              "      let quickchartButtonEl =\n",
              "        document.querySelector('#df-35192b87-3763-45e9-af83-b5f569057b14 button');\n",
              "      quickchartButtonEl.style.display =\n",
              "        google.colab.kernel.accessAllowed ? 'block' : 'none';\n",
              "    })();\n",
              "  </script>\n",
              "</div>\n",
              "    </div>\n",
              "  </div>\n"
            ]
          },
          "metadata": {},
          "execution_count": 768
        }
      ]
    },
    {
      "cell_type": "markdown",
      "source": [
        "Correlacion 1"
      ],
      "metadata": {
        "id": "0swklaONgU5R"
      }
    },
    {
      "cell_type": "code",
      "source": [
        "unico = np.unique(df2['status'])\n",
        "unico"
      ],
      "metadata": {
        "colab": {
          "base_uri": "https://localhost:8080/"
        },
        "id": "nUUk38I_gT7T",
        "outputId": "4dcd4af8-728d-46d0-9cf1-7e720bea3b83"
      },
      "execution_count": 769,
      "outputs": [
        {
          "output_type": "execute_result",
          "data": {
            "text/plain": [
              "array([1, 2, 3, 4])"
            ]
          },
          "metadata": {},
          "execution_count": 769
        }
      ]
    },
    {
      "cell_type": "code",
      "source": [
        "df2['status']= df2['status'].replace([\"3\", \"4\"], \"2\")"
      ],
      "metadata": {
        "id": "coXXJgohgbXS"
      },
      "execution_count": 770,
      "outputs": []
    },
    {
      "cell_type": "code",
      "source": [
        "Vars_Indep= df2[['monto_financiado', 'costo_total', 'enganche']]\n",
        "Var_Dep= df2['status']"
      ],
      "metadata": {
        "id": "BNoyoddXcRvT"
      },
      "execution_count": 771,
      "outputs": []
    },
    {
      "cell_type": "code",
      "source": [
        "X= Vars_Indep\n",
        "y= Var_Dep"
      ],
      "metadata": {
        "id": "6NnKb-9QeGMB"
      },
      "execution_count": 772,
      "outputs": []
    },
    {
      "cell_type": "code",
      "source": [
        "X_train, X_test, y_train, y_test = train_test_split(X, y, test_size=0.3, random_state =None)"
      ],
      "metadata": {
        "id": "wBu5UEA3eH16"
      },
      "execution_count": 773,
      "outputs": []
    },
    {
      "cell_type": "code",
      "source": [
        "escalar = StandardScaler()"
      ],
      "metadata": {
        "id": "57UJ46UVeJ6f"
      },
      "execution_count": 774,
      "outputs": []
    },
    {
      "cell_type": "code",
      "source": [
        "X_train = escalar.fit_transform(X_train)\n",
        "X_test = escalar.transform(X_test)"
      ],
      "metadata": {
        "id": "7w4W24UbeMDM"
      },
      "execution_count": 775,
      "outputs": []
    },
    {
      "cell_type": "code",
      "source": [
        "from sklearn.linear_model import LogisticRegression\n",
        "algoritmo = LogisticRegression()"
      ],
      "metadata": {
        "id": "yxyJDwEaeON1"
      },
      "execution_count": 776,
      "outputs": []
    },
    {
      "cell_type": "code",
      "source": [
        "algoritmo.fit(X_train, y_train)"
      ],
      "metadata": {
        "colab": {
          "base_uri": "https://localhost:8080/",
          "height": 74
        },
        "id": "Lh1lrA7zeRmf",
        "outputId": "f53bfc16-189c-40bc-d6d9-2d739a6a7de2"
      },
      "execution_count": 777,
      "outputs": [
        {
          "output_type": "execute_result",
          "data": {
            "text/plain": [
              "LogisticRegression()"
            ],
            "text/html": [
              "<style>#sk-container-id-41 {color: black;background-color: white;}#sk-container-id-41 pre{padding: 0;}#sk-container-id-41 div.sk-toggleable {background-color: white;}#sk-container-id-41 label.sk-toggleable__label {cursor: pointer;display: block;width: 100%;margin-bottom: 0;padding: 0.3em;box-sizing: border-box;text-align: center;}#sk-container-id-41 label.sk-toggleable__label-arrow:before {content: \"▸\";float: left;margin-right: 0.25em;color: #696969;}#sk-container-id-41 label.sk-toggleable__label-arrow:hover:before {color: black;}#sk-container-id-41 div.sk-estimator:hover label.sk-toggleable__label-arrow:before {color: black;}#sk-container-id-41 div.sk-toggleable__content {max-height: 0;max-width: 0;overflow: hidden;text-align: left;background-color: #f0f8ff;}#sk-container-id-41 div.sk-toggleable__content pre {margin: 0.2em;color: black;border-radius: 0.25em;background-color: #f0f8ff;}#sk-container-id-41 input.sk-toggleable__control:checked~div.sk-toggleable__content {max-height: 200px;max-width: 100%;overflow: auto;}#sk-container-id-41 input.sk-toggleable__control:checked~label.sk-toggleable__label-arrow:before {content: \"▾\";}#sk-container-id-41 div.sk-estimator input.sk-toggleable__control:checked~label.sk-toggleable__label {background-color: #d4ebff;}#sk-container-id-41 div.sk-label input.sk-toggleable__control:checked~label.sk-toggleable__label {background-color: #d4ebff;}#sk-container-id-41 input.sk-hidden--visually {border: 0;clip: rect(1px 1px 1px 1px);clip: rect(1px, 1px, 1px, 1px);height: 1px;margin: -1px;overflow: hidden;padding: 0;position: absolute;width: 1px;}#sk-container-id-41 div.sk-estimator {font-family: monospace;background-color: #f0f8ff;border: 1px dotted black;border-radius: 0.25em;box-sizing: border-box;margin-bottom: 0.5em;}#sk-container-id-41 div.sk-estimator:hover {background-color: #d4ebff;}#sk-container-id-41 div.sk-parallel-item::after {content: \"\";width: 100%;border-bottom: 1px solid gray;flex-grow: 1;}#sk-container-id-41 div.sk-label:hover label.sk-toggleable__label {background-color: #d4ebff;}#sk-container-id-41 div.sk-serial::before {content: \"\";position: absolute;border-left: 1px solid gray;box-sizing: border-box;top: 0;bottom: 0;left: 50%;z-index: 0;}#sk-container-id-41 div.sk-serial {display: flex;flex-direction: column;align-items: center;background-color: white;padding-right: 0.2em;padding-left: 0.2em;position: relative;}#sk-container-id-41 div.sk-item {position: relative;z-index: 1;}#sk-container-id-41 div.sk-parallel {display: flex;align-items: stretch;justify-content: center;background-color: white;position: relative;}#sk-container-id-41 div.sk-item::before, #sk-container-id-41 div.sk-parallel-item::before {content: \"\";position: absolute;border-left: 1px solid gray;box-sizing: border-box;top: 0;bottom: 0;left: 50%;z-index: -1;}#sk-container-id-41 div.sk-parallel-item {display: flex;flex-direction: column;z-index: 1;position: relative;background-color: white;}#sk-container-id-41 div.sk-parallel-item:first-child::after {align-self: flex-end;width: 50%;}#sk-container-id-41 div.sk-parallel-item:last-child::after {align-self: flex-start;width: 50%;}#sk-container-id-41 div.sk-parallel-item:only-child::after {width: 0;}#sk-container-id-41 div.sk-dashed-wrapped {border: 1px dashed gray;margin: 0 0.4em 0.5em 0.4em;box-sizing: border-box;padding-bottom: 0.4em;background-color: white;}#sk-container-id-41 div.sk-label label {font-family: monospace;font-weight: bold;display: inline-block;line-height: 1.2em;}#sk-container-id-41 div.sk-label-container {text-align: center;}#sk-container-id-41 div.sk-container {/* jupyter's `normalize.less` sets `[hidden] { display: none; }` but bootstrap.min.css set `[hidden] { display: none !important; }` so we also need the `!important` here to be able to override the default hidden behavior on the sphinx rendered scikit-learn.org. See: https://github.com/scikit-learn/scikit-learn/issues/21755 */display: inline-block !important;position: relative;}#sk-container-id-41 div.sk-text-repr-fallback {display: none;}</style><div id=\"sk-container-id-41\" class=\"sk-top-container\"><div class=\"sk-text-repr-fallback\"><pre>LogisticRegression()</pre><b>In a Jupyter environment, please rerun this cell to show the HTML representation or trust the notebook. <br />On GitHub, the HTML representation is unable to render, please try loading this page with nbviewer.org.</b></div><div class=\"sk-container\" hidden><div class=\"sk-item\"><div class=\"sk-estimator sk-toggleable\"><input class=\"sk-toggleable__control sk-hidden--visually\" id=\"sk-estimator-id-41\" type=\"checkbox\" checked><label for=\"sk-estimator-id-41\" class=\"sk-toggleable__label sk-toggleable__label-arrow\">LogisticRegression</label><div class=\"sk-toggleable__content\"><pre>LogisticRegression()</pre></div></div></div></div></div>"
            ]
          },
          "metadata": {},
          "execution_count": 777
        }
      ]
    },
    {
      "cell_type": "code",
      "source": [
        "y_pred = algoritmo.predict(X_test)\n",
        "y_pred"
      ],
      "metadata": {
        "colab": {
          "base_uri": "https://localhost:8080/"
        },
        "id": "FF6aHTVseUNq",
        "outputId": "01a0ea36-6744-4d27-f568-f66936cc0f26"
      },
      "execution_count": 778,
      "outputs": [
        {
          "output_type": "execute_result",
          "data": {
            "text/plain": [
              "array([1, 1, 1, ..., 1, 1, 1])"
            ]
          },
          "metadata": {},
          "execution_count": 778
        }
      ]
    },
    {
      "cell_type": "code",
      "source": [
        "from sklearn.metrics import confusion_matrix\n",
        "matriz = confusion_matrix(y_test, y_pred)\n",
        "print('Matriz de Confusión:')\n",
        "print(matriz)"
      ],
      "metadata": {
        "colab": {
          "base_uri": "https://localhost:8080/"
        },
        "id": "Ct-LnhpceXEe",
        "outputId": "562a1d8f-2180-4909-c560-cbf4947e5c17"
      },
      "execution_count": 779,
      "outputs": [
        {
          "output_type": "stream",
          "name": "stdout",
          "text": [
            "Matriz de Confusión:\n",
            "[[5112   72    0]\n",
            " [1564   38    0]\n",
            " [  32    2    0]]\n"
          ]
        }
      ]
    },
    {
      "cell_type": "code",
      "source": [
        "from sklearn.metrics import precision_score\n",
        "\n",
        "precision1 = precision_score(y_test, y_pred, average=\"micro\", pos_label=\"1\")\n",
        "print('Precisión del modelo:')\n",
        "print(precision1)"
      ],
      "metadata": {
        "colab": {
          "base_uri": "https://localhost:8080/"
        },
        "id": "dySeDjt6eaCP",
        "outputId": "36e4fc0f-0c12-463e-895a-8a1fb4ddefcd"
      },
      "execution_count": 780,
      "outputs": [
        {
          "output_type": "stream",
          "name": "stdout",
          "text": [
            "Precisión del modelo:\n",
            "0.7551319648093842\n"
          ]
        },
        {
          "output_type": "stream",
          "name": "stderr",
          "text": [
            "/usr/local/lib/python3.10/dist-packages/sklearn/metrics/_classification.py:1396: UserWarning: Note that pos_label (set to '1') is ignored when average != 'binary' (got 'micro'). You may use labels=[pos_label] to specify a single positive class.\n",
            "  warnings.warn(\n"
          ]
        }
      ]
    },
    {
      "cell_type": "code",
      "source": [
        "from sklearn.metrics import accuracy_score\n",
        "\n",
        "exactitud1 = accuracy_score(y_test, y_pred)\n",
        "print('Exactitud del modelo:')\n",
        "print(exactitud1)"
      ],
      "metadata": {
        "colab": {
          "base_uri": "https://localhost:8080/"
        },
        "id": "e-b6l-dRfAbw",
        "outputId": "e36c4ad3-920c-45e0-8329-33abd433d629"
      },
      "execution_count": 781,
      "outputs": [
        {
          "output_type": "stream",
          "name": "stdout",
          "text": [
            "Exactitud del modelo:\n",
            "0.7551319648093842\n"
          ]
        }
      ]
    },
    {
      "cell_type": "code",
      "source": [
        "from sklearn.metrics import recall_score\n",
        "\n",
        "sensibilidad1 = recall_score(y_test, y_pred, average=\"micro\", pos_label=\"1\")\n",
        "print('Sensibilidad del modelo:')\n",
        "print(sensibilidad1)"
      ],
      "metadata": {
        "colab": {
          "base_uri": "https://localhost:8080/"
        },
        "id": "Shi7-GyRfNah",
        "outputId": "c07cabcc-0ed4-46ed-e7d0-b1f1be9778a1"
      },
      "execution_count": 782,
      "outputs": [
        {
          "output_type": "stream",
          "name": "stdout",
          "text": [
            "Sensibilidad del modelo:\n",
            "0.7551319648093842\n"
          ]
        },
        {
          "output_type": "stream",
          "name": "stderr",
          "text": [
            "/usr/local/lib/python3.10/dist-packages/sklearn/metrics/_classification.py:1396: UserWarning: Note that pos_label (set to '1') is ignored when average != 'binary' (got 'micro'). You may use labels=[pos_label] to specify a single positive class.\n",
            "  warnings.warn(\n"
          ]
        }
      ]
    },
    {
      "cell_type": "code",
      "source": [
        "from sklearn.metrics import f1_score\n",
        "puntajef1 = f1_score(y_test, y_pred, average=\"micro\", pos_label=\"1\")\n",
        "print('Puntaje F1 del modelo:')\n",
        "print(puntajef1)"
      ],
      "metadata": {
        "colab": {
          "base_uri": "https://localhost:8080/"
        },
        "id": "oz6Q-_nhejNG",
        "outputId": "8f1cbc3f-88a0-48f8-a66e-1efaa9fee234"
      },
      "execution_count": 783,
      "outputs": [
        {
          "output_type": "stream",
          "name": "stdout",
          "text": [
            "Puntaje F1 del modelo:\n",
            "0.7551319648093842\n"
          ]
        },
        {
          "output_type": "stream",
          "name": "stderr",
          "text": [
            "/usr/local/lib/python3.10/dist-packages/sklearn/metrics/_classification.py:1396: UserWarning: Note that pos_label (set to '1') is ignored when average != 'binary' (got 'micro'). You may use labels=[pos_label] to specify a single positive class.\n",
            "  warnings.warn(\n"
          ]
        }
      ]
    },
    {
      "cell_type": "markdown",
      "source": [
        "Correlacion 2"
      ],
      "metadata": {
        "id": "al-R54WKg3a4"
      }
    },
    {
      "cell_type": "code",
      "source": [
        "unico1 = np.unique(df2['fraude'])\n",
        "unico1"
      ],
      "metadata": {
        "colab": {
          "base_uri": "https://localhost:8080/"
        },
        "id": "RVfAerpYg4r2",
        "outputId": "575c0b31-0d85-4a7b-a067-c153c4e0bf39"
      },
      "execution_count": 784,
      "outputs": [
        {
          "output_type": "execute_result",
          "data": {
            "text/plain": [
              "array([0, 1])"
            ]
          },
          "metadata": {},
          "execution_count": 784
        }
      ]
    },
    {
      "cell_type": "code",
      "source": [
        "Vars_Indep1= df2[['precio', 'costo_total', 'monto_financiado']]\n",
        "Var_Dep1= df2['fraude']"
      ],
      "metadata": {
        "id": "Jg3y0duJhId7"
      },
      "execution_count": 785,
      "outputs": []
    },
    {
      "cell_type": "code",
      "source": [
        "X= Vars_Indep1\n",
        "y= Var_Dep1"
      ],
      "metadata": {
        "id": "7ffsL01Dham5"
      },
      "execution_count": 786,
      "outputs": []
    },
    {
      "cell_type": "code",
      "source": [
        "X_train1, X_test1, y_train1, y_test1 = train_test_split(X, y, test_size=0.3, random_state =None)"
      ],
      "metadata": {
        "id": "cE77I1jshcK4"
      },
      "execution_count": 787,
      "outputs": []
    },
    {
      "cell_type": "code",
      "source": [
        " escalar1 = StandardScaler()"
      ],
      "metadata": {
        "id": "xLWTFTmyheF3"
      },
      "execution_count": 788,
      "outputs": []
    },
    {
      "cell_type": "code",
      "source": [
        "X_train1 = escalar1.fit_transform(X_train)\n",
        "X_test1 = escalar1.transform(X_test)"
      ],
      "metadata": {
        "id": "wqWijW0ZhhZg"
      },
      "execution_count": 789,
      "outputs": []
    },
    {
      "cell_type": "code",
      "source": [
        "from sklearn.linear_model import LogisticRegression\n",
        "algoritmo1 = LogisticRegression()"
      ],
      "metadata": {
        "id": "Yp-_6v7miC2F"
      },
      "execution_count": 790,
      "outputs": []
    },
    {
      "cell_type": "code",
      "source": [
        "algoritmo1.fit(X_train1, y_train1)"
      ],
      "metadata": {
        "colab": {
          "base_uri": "https://localhost:8080/",
          "height": 74
        },
        "id": "JVtCxb0UiFlL",
        "outputId": "def44dd7-5809-42bb-e8d3-bfd0e93aae92"
      },
      "execution_count": 791,
      "outputs": [
        {
          "output_type": "execute_result",
          "data": {
            "text/plain": [
              "LogisticRegression()"
            ],
            "text/html": [
              "<style>#sk-container-id-42 {color: black;background-color: white;}#sk-container-id-42 pre{padding: 0;}#sk-container-id-42 div.sk-toggleable {background-color: white;}#sk-container-id-42 label.sk-toggleable__label {cursor: pointer;display: block;width: 100%;margin-bottom: 0;padding: 0.3em;box-sizing: border-box;text-align: center;}#sk-container-id-42 label.sk-toggleable__label-arrow:before {content: \"▸\";float: left;margin-right: 0.25em;color: #696969;}#sk-container-id-42 label.sk-toggleable__label-arrow:hover:before {color: black;}#sk-container-id-42 div.sk-estimator:hover label.sk-toggleable__label-arrow:before {color: black;}#sk-container-id-42 div.sk-toggleable__content {max-height: 0;max-width: 0;overflow: hidden;text-align: left;background-color: #f0f8ff;}#sk-container-id-42 div.sk-toggleable__content pre {margin: 0.2em;color: black;border-radius: 0.25em;background-color: #f0f8ff;}#sk-container-id-42 input.sk-toggleable__control:checked~div.sk-toggleable__content {max-height: 200px;max-width: 100%;overflow: auto;}#sk-container-id-42 input.sk-toggleable__control:checked~label.sk-toggleable__label-arrow:before {content: \"▾\";}#sk-container-id-42 div.sk-estimator input.sk-toggleable__control:checked~label.sk-toggleable__label {background-color: #d4ebff;}#sk-container-id-42 div.sk-label input.sk-toggleable__control:checked~label.sk-toggleable__label {background-color: #d4ebff;}#sk-container-id-42 input.sk-hidden--visually {border: 0;clip: rect(1px 1px 1px 1px);clip: rect(1px, 1px, 1px, 1px);height: 1px;margin: -1px;overflow: hidden;padding: 0;position: absolute;width: 1px;}#sk-container-id-42 div.sk-estimator {font-family: monospace;background-color: #f0f8ff;border: 1px dotted black;border-radius: 0.25em;box-sizing: border-box;margin-bottom: 0.5em;}#sk-container-id-42 div.sk-estimator:hover {background-color: #d4ebff;}#sk-container-id-42 div.sk-parallel-item::after {content: \"\";width: 100%;border-bottom: 1px solid gray;flex-grow: 1;}#sk-container-id-42 div.sk-label:hover label.sk-toggleable__label {background-color: #d4ebff;}#sk-container-id-42 div.sk-serial::before {content: \"\";position: absolute;border-left: 1px solid gray;box-sizing: border-box;top: 0;bottom: 0;left: 50%;z-index: 0;}#sk-container-id-42 div.sk-serial {display: flex;flex-direction: column;align-items: center;background-color: white;padding-right: 0.2em;padding-left: 0.2em;position: relative;}#sk-container-id-42 div.sk-item {position: relative;z-index: 1;}#sk-container-id-42 div.sk-parallel {display: flex;align-items: stretch;justify-content: center;background-color: white;position: relative;}#sk-container-id-42 div.sk-item::before, #sk-container-id-42 div.sk-parallel-item::before {content: \"\";position: absolute;border-left: 1px solid gray;box-sizing: border-box;top: 0;bottom: 0;left: 50%;z-index: -1;}#sk-container-id-42 div.sk-parallel-item {display: flex;flex-direction: column;z-index: 1;position: relative;background-color: white;}#sk-container-id-42 div.sk-parallel-item:first-child::after {align-self: flex-end;width: 50%;}#sk-container-id-42 div.sk-parallel-item:last-child::after {align-self: flex-start;width: 50%;}#sk-container-id-42 div.sk-parallel-item:only-child::after {width: 0;}#sk-container-id-42 div.sk-dashed-wrapped {border: 1px dashed gray;margin: 0 0.4em 0.5em 0.4em;box-sizing: border-box;padding-bottom: 0.4em;background-color: white;}#sk-container-id-42 div.sk-label label {font-family: monospace;font-weight: bold;display: inline-block;line-height: 1.2em;}#sk-container-id-42 div.sk-label-container {text-align: center;}#sk-container-id-42 div.sk-container {/* jupyter's `normalize.less` sets `[hidden] { display: none; }` but bootstrap.min.css set `[hidden] { display: none !important; }` so we also need the `!important` here to be able to override the default hidden behavior on the sphinx rendered scikit-learn.org. See: https://github.com/scikit-learn/scikit-learn/issues/21755 */display: inline-block !important;position: relative;}#sk-container-id-42 div.sk-text-repr-fallback {display: none;}</style><div id=\"sk-container-id-42\" class=\"sk-top-container\"><div class=\"sk-text-repr-fallback\"><pre>LogisticRegression()</pre><b>In a Jupyter environment, please rerun this cell to show the HTML representation or trust the notebook. <br />On GitHub, the HTML representation is unable to render, please try loading this page with nbviewer.org.</b></div><div class=\"sk-container\" hidden><div class=\"sk-item\"><div class=\"sk-estimator sk-toggleable\"><input class=\"sk-toggleable__control sk-hidden--visually\" id=\"sk-estimator-id-42\" type=\"checkbox\" checked><label for=\"sk-estimator-id-42\" class=\"sk-toggleable__label sk-toggleable__label-arrow\">LogisticRegression</label><div class=\"sk-toggleable__content\"><pre>LogisticRegression()</pre></div></div></div></div></div>"
            ]
          },
          "metadata": {},
          "execution_count": 791
        }
      ]
    },
    {
      "cell_type": "code",
      "source": [
        "y_pred1 = algoritmo1.predict(X_test)\n",
        "y_pred1"
      ],
      "metadata": {
        "colab": {
          "base_uri": "https://localhost:8080/"
        },
        "id": "1xCh3qNqiJNM",
        "outputId": "c0f02277-f25a-4be4-dbd6-b34f12617c23"
      },
      "execution_count": 792,
      "outputs": [
        {
          "output_type": "execute_result",
          "data": {
            "text/plain": [
              "array([0, 0, 0, ..., 0, 0, 0])"
            ]
          },
          "metadata": {},
          "execution_count": 792
        }
      ]
    },
    {
      "cell_type": "code",
      "source": [
        "from sklearn.metrics import confusion_matrix\n",
        "matriz1 = confusion_matrix(y_test1, y_pred1)\n",
        "print('Matriz de Confusión:')\n",
        "print(matriz)"
      ],
      "metadata": {
        "colab": {
          "base_uri": "https://localhost:8080/"
        },
        "id": "7_X8DlYoiLSi",
        "outputId": "88a3c768-789c-46b1-b9cd-00f589a0b644"
      },
      "execution_count": 793,
      "outputs": [
        {
          "output_type": "stream",
          "name": "stdout",
          "text": [
            "Matriz de Confusión:\n",
            "[[5112   72    0]\n",
            " [1564   38    0]\n",
            " [  32    2    0]]\n"
          ]
        }
      ]
    },
    {
      "cell_type": "code",
      "source": [
        "from sklearn.metrics import precision_score\n",
        "\n",
        "precision2 = precision_score(y_test1, y_pred1, average=\"micro\", pos_label=\"1\")\n",
        "print('Precisión del modelo:')\n",
        "print(precision2)"
      ],
      "metadata": {
        "colab": {
          "base_uri": "https://localhost:8080/"
        },
        "id": "XBgJomiuiSPR",
        "outputId": "d3e9cc82-a00f-4132-9edc-b97ab4dfe739"
      },
      "execution_count": 794,
      "outputs": [
        {
          "output_type": "stream",
          "name": "stdout",
          "text": [
            "Precisión del modelo:\n",
            "0.9215542521994134\n"
          ]
        },
        {
          "output_type": "stream",
          "name": "stderr",
          "text": [
            "/usr/local/lib/python3.10/dist-packages/sklearn/metrics/_classification.py:1396: UserWarning: Note that pos_label (set to '1') is ignored when average != 'binary' (got 'micro'). You may use labels=[pos_label] to specify a single positive class.\n",
            "  warnings.warn(\n"
          ]
        }
      ]
    },
    {
      "cell_type": "code",
      "source": [
        "from sklearn.metrics import accuracy_score\n",
        "\n",
        "exactitud2 = accuracy_score(y_test1, y_pred1)\n",
        "print('Exactitud del modelo:')\n",
        "print(exactitud2)"
      ],
      "metadata": {
        "colab": {
          "base_uri": "https://localhost:8080/"
        },
        "id": "bgKJrTEdih9z",
        "outputId": "40f94693-eb09-49b3-d75d-e40e289366f9"
      },
      "execution_count": 795,
      "outputs": [
        {
          "output_type": "stream",
          "name": "stdout",
          "text": [
            "Exactitud del modelo:\n",
            "0.9215542521994134\n"
          ]
        }
      ]
    },
    {
      "cell_type": "code",
      "source": [
        "from sklearn.metrics import recall_score\n",
        "\n",
        "sensibilidad2 = recall_score(y_test, y_pred, average=\"macro\", pos_label=\"1\")\n",
        "print('Sensibilidad del modelo:')\n",
        "print(sensibilidad2)"
      ],
      "metadata": {
        "colab": {
          "base_uri": "https://localhost:8080/"
        },
        "id": "1yVMtXxKimx2",
        "outputId": "3c68ff5f-28ae-448c-ba1c-bee2c00a2b20"
      },
      "execution_count": 796,
      "outputs": [
        {
          "output_type": "stream",
          "name": "stdout",
          "text": [
            "Sensibilidad del modelo:\n",
            "0.3366104868913858\n"
          ]
        },
        {
          "output_type": "stream",
          "name": "stderr",
          "text": [
            "/usr/local/lib/python3.10/dist-packages/sklearn/metrics/_classification.py:1396: UserWarning: Note that pos_label (set to '1') is ignored when average != 'binary' (got 'macro'). You may use labels=[pos_label] to specify a single positive class.\n",
            "  warnings.warn(\n"
          ]
        }
      ]
    },
    {
      "cell_type": "code",
      "source": [
        "from sklearn.metrics import f1_score\n",
        "puntajef12 = f1_score(y_test1, y_pred1, average=\"micro\", pos_label=\"1\")\n",
        "print('Puntaje F1 del modelo:')\n",
        "print(puntajef12)"
      ],
      "metadata": {
        "colab": {
          "base_uri": "https://localhost:8080/"
        },
        "id": "5_uEUCGzjIEV",
        "outputId": "413b96df-ff70-4a58-f4f2-5cf4e26a587e"
      },
      "execution_count": 797,
      "outputs": [
        {
          "output_type": "stream",
          "name": "stdout",
          "text": [
            "Puntaje F1 del modelo:\n",
            "0.9215542521994134\n"
          ]
        },
        {
          "output_type": "stream",
          "name": "stderr",
          "text": [
            "/usr/local/lib/python3.10/dist-packages/sklearn/metrics/_classification.py:1396: UserWarning: Note that pos_label (set to '1') is ignored when average != 'binary' (got 'micro'). You may use labels=[pos_label] to specify a single positive class.\n",
            "  warnings.warn(\n"
          ]
        }
      ]
    },
    {
      "cell_type": "markdown",
      "source": [
        "Correlacion 3\n"
      ],
      "metadata": {
        "id": "-i58pte1jRyt"
      }
    },
    {
      "cell_type": "code",
      "source": [
        "unico = np.unique(df2['inversion'])\n",
        "unico"
      ],
      "metadata": {
        "colab": {
          "base_uri": "https://localhost:8080/"
        },
        "id": "w43I1QcgjTmz",
        "outputId": "6637ced7-6f35-46dd-af17-f84b3d0032a2"
      },
      "execution_count": 798,
      "outputs": [
        {
          "output_type": "execute_result",
          "data": {
            "text/plain": [
              "array([0, 1])"
            ]
          },
          "metadata": {},
          "execution_count": 798
        }
      ]
    },
    {
      "cell_type": "code",
      "source": [
        "Vars_Indep2= df2[['costo_total', 'descuento', 'monto_financiado']]\n",
        "Var_Dep2= df2['inversion']"
      ],
      "metadata": {
        "id": "Vf76ZaTqjf9f"
      },
      "execution_count": 799,
      "outputs": []
    },
    {
      "cell_type": "code",
      "source": [
        "X= Vars_Indep2\n",
        "y= Var_Dep2"
      ],
      "metadata": {
        "id": "n3pMRiaTjgFp"
      },
      "execution_count": 800,
      "outputs": []
    },
    {
      "cell_type": "code",
      "source": [
        "X_train2, X_test2, y_train2, y_test2 = train_test_split(X, y, test_size=0.3, random_state =None)"
      ],
      "metadata": {
        "id": "myS2af4RkFgO"
      },
      "execution_count": 801,
      "outputs": []
    },
    {
      "cell_type": "code",
      "source": [
        "escalar2 = StandardScaler()"
      ],
      "metadata": {
        "id": "_iCfvt_pkKJ5"
      },
      "execution_count": 802,
      "outputs": []
    },
    {
      "cell_type": "code",
      "source": [
        "X_train2 = escalar2.fit_transform(X_train2)\n",
        "X_test2 = escalar2.transform(X_test2)"
      ],
      "metadata": {
        "id": "_eQrpvPzkMSW"
      },
      "execution_count": 803,
      "outputs": []
    },
    {
      "cell_type": "code",
      "source": [
        "from sklearn.linear_model import LogisticRegression\n",
        "algoritmo2 = LogisticRegression()"
      ],
      "metadata": {
        "id": "82bjj0EwkO8M"
      },
      "execution_count": 804,
      "outputs": []
    },
    {
      "cell_type": "code",
      "source": [
        "algoritmo2.fit(X_train2, y_train2)"
      ],
      "metadata": {
        "colab": {
          "base_uri": "https://localhost:8080/",
          "height": 74
        },
        "id": "pB3stGa0kTNi",
        "outputId": "d9b57d21-a790-4583-bc84-25876b8a0b9e"
      },
      "execution_count": 805,
      "outputs": [
        {
          "output_type": "execute_result",
          "data": {
            "text/plain": [
              "LogisticRegression()"
            ],
            "text/html": [
              "<style>#sk-container-id-43 {color: black;background-color: white;}#sk-container-id-43 pre{padding: 0;}#sk-container-id-43 div.sk-toggleable {background-color: white;}#sk-container-id-43 label.sk-toggleable__label {cursor: pointer;display: block;width: 100%;margin-bottom: 0;padding: 0.3em;box-sizing: border-box;text-align: center;}#sk-container-id-43 label.sk-toggleable__label-arrow:before {content: \"▸\";float: left;margin-right: 0.25em;color: #696969;}#sk-container-id-43 label.sk-toggleable__label-arrow:hover:before {color: black;}#sk-container-id-43 div.sk-estimator:hover label.sk-toggleable__label-arrow:before {color: black;}#sk-container-id-43 div.sk-toggleable__content {max-height: 0;max-width: 0;overflow: hidden;text-align: left;background-color: #f0f8ff;}#sk-container-id-43 div.sk-toggleable__content pre {margin: 0.2em;color: black;border-radius: 0.25em;background-color: #f0f8ff;}#sk-container-id-43 input.sk-toggleable__control:checked~div.sk-toggleable__content {max-height: 200px;max-width: 100%;overflow: auto;}#sk-container-id-43 input.sk-toggleable__control:checked~label.sk-toggleable__label-arrow:before {content: \"▾\";}#sk-container-id-43 div.sk-estimator input.sk-toggleable__control:checked~label.sk-toggleable__label {background-color: #d4ebff;}#sk-container-id-43 div.sk-label input.sk-toggleable__control:checked~label.sk-toggleable__label {background-color: #d4ebff;}#sk-container-id-43 input.sk-hidden--visually {border: 0;clip: rect(1px 1px 1px 1px);clip: rect(1px, 1px, 1px, 1px);height: 1px;margin: -1px;overflow: hidden;padding: 0;position: absolute;width: 1px;}#sk-container-id-43 div.sk-estimator {font-family: monospace;background-color: #f0f8ff;border: 1px dotted black;border-radius: 0.25em;box-sizing: border-box;margin-bottom: 0.5em;}#sk-container-id-43 div.sk-estimator:hover {background-color: #d4ebff;}#sk-container-id-43 div.sk-parallel-item::after {content: \"\";width: 100%;border-bottom: 1px solid gray;flex-grow: 1;}#sk-container-id-43 div.sk-label:hover label.sk-toggleable__label {background-color: #d4ebff;}#sk-container-id-43 div.sk-serial::before {content: \"\";position: absolute;border-left: 1px solid gray;box-sizing: border-box;top: 0;bottom: 0;left: 50%;z-index: 0;}#sk-container-id-43 div.sk-serial {display: flex;flex-direction: column;align-items: center;background-color: white;padding-right: 0.2em;padding-left: 0.2em;position: relative;}#sk-container-id-43 div.sk-item {position: relative;z-index: 1;}#sk-container-id-43 div.sk-parallel {display: flex;align-items: stretch;justify-content: center;background-color: white;position: relative;}#sk-container-id-43 div.sk-item::before, #sk-container-id-43 div.sk-parallel-item::before {content: \"\";position: absolute;border-left: 1px solid gray;box-sizing: border-box;top: 0;bottom: 0;left: 50%;z-index: -1;}#sk-container-id-43 div.sk-parallel-item {display: flex;flex-direction: column;z-index: 1;position: relative;background-color: white;}#sk-container-id-43 div.sk-parallel-item:first-child::after {align-self: flex-end;width: 50%;}#sk-container-id-43 div.sk-parallel-item:last-child::after {align-self: flex-start;width: 50%;}#sk-container-id-43 div.sk-parallel-item:only-child::after {width: 0;}#sk-container-id-43 div.sk-dashed-wrapped {border: 1px dashed gray;margin: 0 0.4em 0.5em 0.4em;box-sizing: border-box;padding-bottom: 0.4em;background-color: white;}#sk-container-id-43 div.sk-label label {font-family: monospace;font-weight: bold;display: inline-block;line-height: 1.2em;}#sk-container-id-43 div.sk-label-container {text-align: center;}#sk-container-id-43 div.sk-container {/* jupyter's `normalize.less` sets `[hidden] { display: none; }` but bootstrap.min.css set `[hidden] { display: none !important; }` so we also need the `!important` here to be able to override the default hidden behavior on the sphinx rendered scikit-learn.org. See: https://github.com/scikit-learn/scikit-learn/issues/21755 */display: inline-block !important;position: relative;}#sk-container-id-43 div.sk-text-repr-fallback {display: none;}</style><div id=\"sk-container-id-43\" class=\"sk-top-container\"><div class=\"sk-text-repr-fallback\"><pre>LogisticRegression()</pre><b>In a Jupyter environment, please rerun this cell to show the HTML representation or trust the notebook. <br />On GitHub, the HTML representation is unable to render, please try loading this page with nbviewer.org.</b></div><div class=\"sk-container\" hidden><div class=\"sk-item\"><div class=\"sk-estimator sk-toggleable\"><input class=\"sk-toggleable__control sk-hidden--visually\" id=\"sk-estimator-id-43\" type=\"checkbox\" checked><label for=\"sk-estimator-id-43\" class=\"sk-toggleable__label sk-toggleable__label-arrow\">LogisticRegression</label><div class=\"sk-toggleable__content\"><pre>LogisticRegression()</pre></div></div></div></div></div>"
            ]
          },
          "metadata": {},
          "execution_count": 805
        }
      ]
    },
    {
      "cell_type": "code",
      "source": [
        "y_pred2 = algoritmo2.predict(X_test2)\n",
        "y_pred2"
      ],
      "metadata": {
        "colab": {
          "base_uri": "https://localhost:8080/"
        },
        "id": "ZkPLToawkVoz",
        "outputId": "02b4183b-cd15-490d-f9ce-a5eeb265c924"
      },
      "execution_count": 806,
      "outputs": [
        {
          "output_type": "execute_result",
          "data": {
            "text/plain": [
              "array([0, 0, 0, ..., 0, 0, 0])"
            ]
          },
          "metadata": {},
          "execution_count": 806
        }
      ]
    },
    {
      "cell_type": "code",
      "source": [
        "from sklearn.metrics import confusion_matrix\n",
        "matriz2 = confusion_matrix(y_test2, y_pred2)\n",
        "print('Matriz de Confusión:')\n",
        "print(matriz2)"
      ],
      "metadata": {
        "colab": {
          "base_uri": "https://localhost:8080/"
        },
        "id": "6VnTQ2xika4y",
        "outputId": "6cf195cf-5dc6-4976-b482-7f074411bae8"
      },
      "execution_count": 807,
      "outputs": [
        {
          "output_type": "stream",
          "name": "stdout",
          "text": [
            "Matriz de Confusión:\n",
            "[[5007  192]\n",
            " [1479  142]]\n"
          ]
        }
      ]
    },
    {
      "cell_type": "code",
      "source": [
        "from sklearn.metrics import precision_score\n",
        "\n",
        "precision3 = precision_score(y_test2, y_pred2, average=\"micro\", pos_label=\"1\")\n",
        "print('Precisión del modelo:')\n",
        "print(precision3)"
      ],
      "metadata": {
        "colab": {
          "base_uri": "https://localhost:8080/"
        },
        "id": "jlTaj9wakfHm",
        "outputId": "75d15315-d759-4345-90f2-524835e024de"
      },
      "execution_count": 808,
      "outputs": [
        {
          "output_type": "stream",
          "name": "stdout",
          "text": [
            "Precisión del modelo:\n",
            "0.7549853372434018\n"
          ]
        },
        {
          "output_type": "stream",
          "name": "stderr",
          "text": [
            "/usr/local/lib/python3.10/dist-packages/sklearn/metrics/_classification.py:1396: UserWarning: Note that pos_label (set to '1') is ignored when average != 'binary' (got 'micro'). You may use labels=[pos_label] to specify a single positive class.\n",
            "  warnings.warn(\n"
          ]
        }
      ]
    },
    {
      "cell_type": "code",
      "source": [
        "from sklearn.metrics import accuracy_score\n",
        "\n",
        "exactitud3 = accuracy_score(y_test2, y_pred2)\n",
        "print('Exactitud del modelo:')\n",
        "print(exactitud3)"
      ],
      "metadata": {
        "colab": {
          "base_uri": "https://localhost:8080/"
        },
        "id": "OTyvAkDBkuSY",
        "outputId": "fe7def3e-28e7-4097-dbce-5886f80ffdb1"
      },
      "execution_count": 809,
      "outputs": [
        {
          "output_type": "stream",
          "name": "stdout",
          "text": [
            "Exactitud del modelo:\n",
            "0.7549853372434018\n"
          ]
        }
      ]
    },
    {
      "cell_type": "code",
      "source": [
        "from sklearn.metrics import recall_score\n",
        "\n",
        "sensibilidad3 = recall_score(y_test2, y_pred2, average=\"micro\", pos_label=\"1\")\n",
        "print('Sensibilidad del modelo:')\n",
        "print(sensibilidad3)"
      ],
      "metadata": {
        "colab": {
          "base_uri": "https://localhost:8080/"
        },
        "id": "8oM4tHTTkzJk",
        "outputId": "36736cc2-9a93-431c-ba57-2dd5481f6db4"
      },
      "execution_count": 810,
      "outputs": [
        {
          "output_type": "stream",
          "name": "stdout",
          "text": [
            "Sensibilidad del modelo:\n",
            "0.7549853372434018\n"
          ]
        },
        {
          "output_type": "stream",
          "name": "stderr",
          "text": [
            "/usr/local/lib/python3.10/dist-packages/sklearn/metrics/_classification.py:1396: UserWarning: Note that pos_label (set to '1') is ignored when average != 'binary' (got 'micro'). You may use labels=[pos_label] to specify a single positive class.\n",
            "  warnings.warn(\n"
          ]
        }
      ]
    },
    {
      "cell_type": "code",
      "source": [
        "from sklearn.metrics import f1_score\n",
        "puntajef13 = f1_score(y_test2, y_pred2, average=\"micro\", pos_label=\"1\")\n",
        "print('Puntaje F1 del modelo:')\n",
        "print(puntajef13)"
      ],
      "metadata": {
        "colab": {
          "base_uri": "https://localhost:8080/"
        },
        "id": "hsnVpJR-k-XR",
        "outputId": "40eb31ef-75db-444f-d421-e8575d5c72aa"
      },
      "execution_count": 811,
      "outputs": [
        {
          "output_type": "stream",
          "name": "stdout",
          "text": [
            "Puntaje F1 del modelo:\n",
            "0.7549853372434018\n"
          ]
        },
        {
          "output_type": "stream",
          "name": "stderr",
          "text": [
            "/usr/local/lib/python3.10/dist-packages/sklearn/metrics/_classification.py:1396: UserWarning: Note that pos_label (set to '1') is ignored when average != 'binary' (got 'micro'). You may use labels=[pos_label] to specify a single positive class.\n",
            "  warnings.warn(\n"
          ]
        }
      ]
    },
    {
      "cell_type": "markdown",
      "source": [
        "Correlación 4"
      ],
      "metadata": {
        "id": "DgWll5Walc1y"
      }
    },
    {
      "cell_type": "code",
      "source": [
        "unico = np.unique(df2['reautorizacion'])\n",
        "unico"
      ],
      "metadata": {
        "colab": {
          "base_uri": "https://localhost:8080/"
        },
        "outputId": "cf2888ee-f876-49da-8bc2-638f3f41b835",
        "id": "J19zNtqrlz-s"
      },
      "execution_count": 812,
      "outputs": [
        {
          "output_type": "execute_result",
          "data": {
            "text/plain": [
              "array([0, 1])"
            ]
          },
          "metadata": {},
          "execution_count": 812
        }
      ]
    },
    {
      "cell_type": "code",
      "source": [
        "Vars_Indep4= df2[['precio', 'enganche', 'costo_total']]\n",
        "Var_Dep4= df2['reautorizacion']"
      ],
      "metadata": {
        "id": "c-8taxiklz-w"
      },
      "execution_count": 813,
      "outputs": []
    },
    {
      "cell_type": "code",
      "source": [
        "X= Vars_Indep4\n",
        "y= Var_Dep4"
      ],
      "metadata": {
        "id": "NqepkZ4Tlz-x"
      },
      "execution_count": 814,
      "outputs": []
    },
    {
      "cell_type": "code",
      "source": [
        "X_train4, X_test4, y_train4, y_test4 = train_test_split(X, y, test_size=0.3, random_state =None)"
      ],
      "metadata": {
        "id": "kJHb3ydQlz-x"
      },
      "execution_count": 815,
      "outputs": []
    },
    {
      "cell_type": "code",
      "source": [
        "escalar4 = StandardScaler()"
      ],
      "metadata": {
        "id": "uK8FM5IVlz-y"
      },
      "execution_count": 816,
      "outputs": []
    },
    {
      "cell_type": "code",
      "source": [
        "X_train4 = escalar4.fit_transform(X_train4)\n",
        "X_test4 = escalar4.transform(X_test4)"
      ],
      "metadata": {
        "id": "nScRub18lz-y"
      },
      "execution_count": 817,
      "outputs": []
    },
    {
      "cell_type": "code",
      "source": [
        "from sklearn.linear_model import LogisticRegression\n",
        "algoritmo4 = LogisticRegression()"
      ],
      "metadata": {
        "id": "92RpTq87lz-z"
      },
      "execution_count": 818,
      "outputs": []
    },
    {
      "cell_type": "code",
      "source": [
        "algoritmo4.fit(X_train4, y_train4)"
      ],
      "metadata": {
        "colab": {
          "base_uri": "https://localhost:8080/",
          "height": 74
        },
        "outputId": "d9b57055-b75e-49b8-fc13-97be1203161d",
        "id": "ISTgM3qilz-z"
      },
      "execution_count": 819,
      "outputs": [
        {
          "output_type": "execute_result",
          "data": {
            "text/plain": [
              "LogisticRegression()"
            ],
            "text/html": [
              "<style>#sk-container-id-44 {color: black;background-color: white;}#sk-container-id-44 pre{padding: 0;}#sk-container-id-44 div.sk-toggleable {background-color: white;}#sk-container-id-44 label.sk-toggleable__label {cursor: pointer;display: block;width: 100%;margin-bottom: 0;padding: 0.3em;box-sizing: border-box;text-align: center;}#sk-container-id-44 label.sk-toggleable__label-arrow:before {content: \"▸\";float: left;margin-right: 0.25em;color: #696969;}#sk-container-id-44 label.sk-toggleable__label-arrow:hover:before {color: black;}#sk-container-id-44 div.sk-estimator:hover label.sk-toggleable__label-arrow:before {color: black;}#sk-container-id-44 div.sk-toggleable__content {max-height: 0;max-width: 0;overflow: hidden;text-align: left;background-color: #f0f8ff;}#sk-container-id-44 div.sk-toggleable__content pre {margin: 0.2em;color: black;border-radius: 0.25em;background-color: #f0f8ff;}#sk-container-id-44 input.sk-toggleable__control:checked~div.sk-toggleable__content {max-height: 200px;max-width: 100%;overflow: auto;}#sk-container-id-44 input.sk-toggleable__control:checked~label.sk-toggleable__label-arrow:before {content: \"▾\";}#sk-container-id-44 div.sk-estimator input.sk-toggleable__control:checked~label.sk-toggleable__label {background-color: #d4ebff;}#sk-container-id-44 div.sk-label input.sk-toggleable__control:checked~label.sk-toggleable__label {background-color: #d4ebff;}#sk-container-id-44 input.sk-hidden--visually {border: 0;clip: rect(1px 1px 1px 1px);clip: rect(1px, 1px, 1px, 1px);height: 1px;margin: -1px;overflow: hidden;padding: 0;position: absolute;width: 1px;}#sk-container-id-44 div.sk-estimator {font-family: monospace;background-color: #f0f8ff;border: 1px dotted black;border-radius: 0.25em;box-sizing: border-box;margin-bottom: 0.5em;}#sk-container-id-44 div.sk-estimator:hover {background-color: #d4ebff;}#sk-container-id-44 div.sk-parallel-item::after {content: \"\";width: 100%;border-bottom: 1px solid gray;flex-grow: 1;}#sk-container-id-44 div.sk-label:hover label.sk-toggleable__label {background-color: #d4ebff;}#sk-container-id-44 div.sk-serial::before {content: \"\";position: absolute;border-left: 1px solid gray;box-sizing: border-box;top: 0;bottom: 0;left: 50%;z-index: 0;}#sk-container-id-44 div.sk-serial {display: flex;flex-direction: column;align-items: center;background-color: white;padding-right: 0.2em;padding-left: 0.2em;position: relative;}#sk-container-id-44 div.sk-item {position: relative;z-index: 1;}#sk-container-id-44 div.sk-parallel {display: flex;align-items: stretch;justify-content: center;background-color: white;position: relative;}#sk-container-id-44 div.sk-item::before, #sk-container-id-44 div.sk-parallel-item::before {content: \"\";position: absolute;border-left: 1px solid gray;box-sizing: border-box;top: 0;bottom: 0;left: 50%;z-index: -1;}#sk-container-id-44 div.sk-parallel-item {display: flex;flex-direction: column;z-index: 1;position: relative;background-color: white;}#sk-container-id-44 div.sk-parallel-item:first-child::after {align-self: flex-end;width: 50%;}#sk-container-id-44 div.sk-parallel-item:last-child::after {align-self: flex-start;width: 50%;}#sk-container-id-44 div.sk-parallel-item:only-child::after {width: 0;}#sk-container-id-44 div.sk-dashed-wrapped {border: 1px dashed gray;margin: 0 0.4em 0.5em 0.4em;box-sizing: border-box;padding-bottom: 0.4em;background-color: white;}#sk-container-id-44 div.sk-label label {font-family: monospace;font-weight: bold;display: inline-block;line-height: 1.2em;}#sk-container-id-44 div.sk-label-container {text-align: center;}#sk-container-id-44 div.sk-container {/* jupyter's `normalize.less` sets `[hidden] { display: none; }` but bootstrap.min.css set `[hidden] { display: none !important; }` so we also need the `!important` here to be able to override the default hidden behavior on the sphinx rendered scikit-learn.org. See: https://github.com/scikit-learn/scikit-learn/issues/21755 */display: inline-block !important;position: relative;}#sk-container-id-44 div.sk-text-repr-fallback {display: none;}</style><div id=\"sk-container-id-44\" class=\"sk-top-container\"><div class=\"sk-text-repr-fallback\"><pre>LogisticRegression()</pre><b>In a Jupyter environment, please rerun this cell to show the HTML representation or trust the notebook. <br />On GitHub, the HTML representation is unable to render, please try loading this page with nbviewer.org.</b></div><div class=\"sk-container\" hidden><div class=\"sk-item\"><div class=\"sk-estimator sk-toggleable\"><input class=\"sk-toggleable__control sk-hidden--visually\" id=\"sk-estimator-id-44\" type=\"checkbox\" checked><label for=\"sk-estimator-id-44\" class=\"sk-toggleable__label sk-toggleable__label-arrow\">LogisticRegression</label><div class=\"sk-toggleable__content\"><pre>LogisticRegression()</pre></div></div></div></div></div>"
            ]
          },
          "metadata": {},
          "execution_count": 819
        }
      ]
    },
    {
      "cell_type": "code",
      "source": [
        "y_pred4 = algoritmo4.predict(X_test4)\n",
        "y_pred4"
      ],
      "metadata": {
        "colab": {
          "base_uri": "https://localhost:8080/"
        },
        "outputId": "357e3fac-dd01-4a96-c706-0f4bbe89a127",
        "id": "cCajhkn2lz-0"
      },
      "execution_count": 820,
      "outputs": [
        {
          "output_type": "execute_result",
          "data": {
            "text/plain": [
              "array([0, 0, 0, ..., 0, 0, 0])"
            ]
          },
          "metadata": {},
          "execution_count": 820
        }
      ]
    },
    {
      "cell_type": "code",
      "source": [
        "from sklearn.metrics import confusion_matrix\n",
        "matriz4 = confusion_matrix(y_test4, y_pred4)\n",
        "print('Matriz de Confusión:')\n",
        "print(matriz4)"
      ],
      "metadata": {
        "colab": {
          "base_uri": "https://localhost:8080/"
        },
        "outputId": "8ddb972b-7297-4079-ee5f-7b05a16e64ba",
        "id": "Prvt-Ihwlz-2"
      },
      "execution_count": 821,
      "outputs": [
        {
          "output_type": "stream",
          "name": "stdout",
          "text": [
            "Matriz de Confusión:\n",
            "[[6601    0]\n",
            " [ 219    0]]\n"
          ]
        }
      ]
    },
    {
      "cell_type": "code",
      "source": [
        "from sklearn.metrics import precision_score\n",
        "\n",
        "precision4 = precision_score(y_test4, y_pred4, average=\"micro\", pos_label=\"1\")\n",
        "print('Precisión del modelo:')\n",
        "print(precision4)"
      ],
      "metadata": {
        "colab": {
          "base_uri": "https://localhost:8080/"
        },
        "outputId": "ce32a014-5db2-4cc4-ac4d-4d1dfe9480ce",
        "id": "G1CWL88clz-3"
      },
      "execution_count": 822,
      "outputs": [
        {
          "output_type": "stream",
          "name": "stdout",
          "text": [
            "Precisión del modelo:\n",
            "0.9678885630498534\n"
          ]
        },
        {
          "output_type": "stream",
          "name": "stderr",
          "text": [
            "/usr/local/lib/python3.10/dist-packages/sklearn/metrics/_classification.py:1396: UserWarning: Note that pos_label (set to '1') is ignored when average != 'binary' (got 'micro'). You may use labels=[pos_label] to specify a single positive class.\n",
            "  warnings.warn(\n"
          ]
        }
      ]
    },
    {
      "cell_type": "code",
      "source": [
        "from sklearn.metrics import accuracy_score\n",
        "\n",
        "exactitud4 = accuracy_score(y_test4, y_pred4)\n",
        "print('Exactitud del modelo:')\n",
        "print(exactitud4)"
      ],
      "metadata": {
        "colab": {
          "base_uri": "https://localhost:8080/"
        },
        "outputId": "5703254e-cd63-40af-fc35-20951605988c",
        "id": "r76qXZR6lz-4"
      },
      "execution_count": 823,
      "outputs": [
        {
          "output_type": "stream",
          "name": "stdout",
          "text": [
            "Exactitud del modelo:\n",
            "0.9678885630498534\n"
          ]
        }
      ]
    },
    {
      "cell_type": "code",
      "source": [
        "from sklearn.metrics import recall_score\n",
        "\n",
        "sensibilidad4 = recall_score(y_test4, y_pred4, average=\"micro\", pos_label=\"1\")\n",
        "print('Sensibilidad del modelo:')\n",
        "print(sensibilidad4)"
      ],
      "metadata": {
        "colab": {
          "base_uri": "https://localhost:8080/"
        },
        "outputId": "4b7f838d-a11f-476c-e93a-f94ff5e4149b",
        "id": "Y0xH3NAKlz-4"
      },
      "execution_count": 824,
      "outputs": [
        {
          "output_type": "stream",
          "name": "stdout",
          "text": [
            "Sensibilidad del modelo:\n",
            "0.9678885630498534\n"
          ]
        },
        {
          "output_type": "stream",
          "name": "stderr",
          "text": [
            "/usr/local/lib/python3.10/dist-packages/sklearn/metrics/_classification.py:1396: UserWarning: Note that pos_label (set to '1') is ignored when average != 'binary' (got 'micro'). You may use labels=[pos_label] to specify a single positive class.\n",
            "  warnings.warn(\n"
          ]
        }
      ]
    },
    {
      "cell_type": "code",
      "source": [
        "from sklearn.metrics import f1_score\n",
        "puntajef14 = f1_score(y_test4, y_pred4, average=\"micro\", pos_label=\"1\")\n",
        "print('Puntaje F1 del modelo:')\n",
        "print(puntajef14)"
      ],
      "metadata": {
        "colab": {
          "base_uri": "https://localhost:8080/"
        },
        "id": "QAXWZqN1RRBU",
        "outputId": "80f1ed29-66d3-43c4-8ba0-e3ac54405f0b"
      },
      "execution_count": 825,
      "outputs": [
        {
          "output_type": "stream",
          "name": "stdout",
          "text": [
            "Puntaje F1 del modelo:\n",
            "0.9678885630498534\n"
          ]
        },
        {
          "output_type": "stream",
          "name": "stderr",
          "text": [
            "/usr/local/lib/python3.10/dist-packages/sklearn/metrics/_classification.py:1396: UserWarning: Note that pos_label (set to '1') is ignored when average != 'binary' (got 'micro'). You may use labels=[pos_label] to specify a single positive class.\n",
            "  warnings.warn(\n"
          ]
        }
      ]
    },
    {
      "cell_type": "markdown",
      "source": [
        "Correlacion 5"
      ],
      "metadata": {
        "id": "dkU8v2WjlhFb"
      }
    },
    {
      "cell_type": "code",
      "source": [
        "unico = np.unique(df2['marca'])\n",
        "unico"
      ],
      "metadata": {
        "colab": {
          "base_uri": "https://localhost:8080/"
        },
        "outputId": "46543633-7d2e-4352-f7c5-29792ce51379",
        "id": "JcytQDMIl1cG"
      },
      "execution_count": 826,
      "outputs": [
        {
          "output_type": "execute_result",
          "data": {
            "text/plain": [
              "array(['ALCATEL', 'Alcatel', 'B2M', 'HISENSE', 'Hisense', 'Huawei',\n",
              "       'INCO', 'KODAK', 'LANIX', 'LG', 'Lanix', 'MOTOROLA', 'Motorola',\n",
              "       'NOKIA', 'NYX', 'Nokia', 'RT', 'SAMSUNG', 'SENWA', 'Samsung',\n",
              "       'Senwa', 'TCL', 'TECHPAD', 'TECNO MOBILE', 'VIVO', 'Vivo', 'WIKO',\n",
              "       'ZTE', 'alcatel'], dtype=object)"
            ]
          },
          "metadata": {},
          "execution_count": 826
        }
      ]
    },
    {
      "cell_type": "code",
      "source": [
        "df2['marca']= df2['marca'].replace([\"ALCATEL\",\"Alcatel\",\"NOKIA\",\"NYX\",\"Nokia\",\"RT\",\"alcatel\",\"SENWA\",\"WIKO\",\"Senwa\",\"TCL\",\"Samsung\",\"SAMSUNG\",\"TECHPAD\",\"TECNO MOBILE\",\"Vivo\",\"VIVO\",\"Motorola\",\"B2M\",\"HISENSE\",\"Huawei\",\"INCO\",\"KODAK\",\"LANIX\",\"MOTOROLA\"], \"otro\")"
      ],
      "metadata": {
        "id": "y7hPoPQ0l1cH"
      },
      "execution_count": 827,
      "outputs": []
    },
    {
      "cell_type": "code",
      "source": [
        "Vars_Indep5= df2[['precio', 'descuento', 'enganche']]\n",
        "Var_Dep5= df2['marca']"
      ],
      "metadata": {
        "id": "40qw7PmHl1cH"
      },
      "execution_count": 828,
      "outputs": []
    },
    {
      "cell_type": "code",
      "source": [
        "X= Vars_Indep5\n",
        "y= Var_Dep5"
      ],
      "metadata": {
        "id": "jnXFW1ngl1cI"
      },
      "execution_count": 829,
      "outputs": []
    },
    {
      "cell_type": "code",
      "source": [
        "X_train5, X_test5, y_train5, y_test5 = train_test_split(X, y, test_size=0.3, random_state =None)"
      ],
      "metadata": {
        "id": "hlDhkKswl1cI"
      },
      "execution_count": 830,
      "outputs": []
    },
    {
      "cell_type": "code",
      "source": [
        "escalar5 = StandardScaler()"
      ],
      "metadata": {
        "id": "zTuHNpngl1cJ"
      },
      "execution_count": 831,
      "outputs": []
    },
    {
      "cell_type": "code",
      "source": [
        "X_train5 = escalar5.fit_transform(X_train5)\n",
        "X_test5 = escalar5.transform(X_test5)"
      ],
      "metadata": {
        "id": "_93tHNyyl1cJ"
      },
      "execution_count": 832,
      "outputs": []
    },
    {
      "cell_type": "code",
      "source": [
        "from sklearn.linear_model import LogisticRegression\n",
        "algoritmo5 = LogisticRegression()"
      ],
      "metadata": {
        "id": "aWywKlCzl1cK"
      },
      "execution_count": 833,
      "outputs": []
    },
    {
      "cell_type": "code",
      "source": [
        "algoritmo5.fit(X_train5, y_train5)"
      ],
      "metadata": {
        "colab": {
          "base_uri": "https://localhost:8080/",
          "height": 74
        },
        "outputId": "d7734b7e-0fba-4d4c-cce2-4179b79aaf40",
        "id": "yJ9MsJcWl1cK"
      },
      "execution_count": 834,
      "outputs": [
        {
          "output_type": "execute_result",
          "data": {
            "text/plain": [
              "LogisticRegression()"
            ],
            "text/html": [
              "<style>#sk-container-id-45 {color: black;background-color: white;}#sk-container-id-45 pre{padding: 0;}#sk-container-id-45 div.sk-toggleable {background-color: white;}#sk-container-id-45 label.sk-toggleable__label {cursor: pointer;display: block;width: 100%;margin-bottom: 0;padding: 0.3em;box-sizing: border-box;text-align: center;}#sk-container-id-45 label.sk-toggleable__label-arrow:before {content: \"▸\";float: left;margin-right: 0.25em;color: #696969;}#sk-container-id-45 label.sk-toggleable__label-arrow:hover:before {color: black;}#sk-container-id-45 div.sk-estimator:hover label.sk-toggleable__label-arrow:before {color: black;}#sk-container-id-45 div.sk-toggleable__content {max-height: 0;max-width: 0;overflow: hidden;text-align: left;background-color: #f0f8ff;}#sk-container-id-45 div.sk-toggleable__content pre {margin: 0.2em;color: black;border-radius: 0.25em;background-color: #f0f8ff;}#sk-container-id-45 input.sk-toggleable__control:checked~div.sk-toggleable__content {max-height: 200px;max-width: 100%;overflow: auto;}#sk-container-id-45 input.sk-toggleable__control:checked~label.sk-toggleable__label-arrow:before {content: \"▾\";}#sk-container-id-45 div.sk-estimator input.sk-toggleable__control:checked~label.sk-toggleable__label {background-color: #d4ebff;}#sk-container-id-45 div.sk-label input.sk-toggleable__control:checked~label.sk-toggleable__label {background-color: #d4ebff;}#sk-container-id-45 input.sk-hidden--visually {border: 0;clip: rect(1px 1px 1px 1px);clip: rect(1px, 1px, 1px, 1px);height: 1px;margin: -1px;overflow: hidden;padding: 0;position: absolute;width: 1px;}#sk-container-id-45 div.sk-estimator {font-family: monospace;background-color: #f0f8ff;border: 1px dotted black;border-radius: 0.25em;box-sizing: border-box;margin-bottom: 0.5em;}#sk-container-id-45 div.sk-estimator:hover {background-color: #d4ebff;}#sk-container-id-45 div.sk-parallel-item::after {content: \"\";width: 100%;border-bottom: 1px solid gray;flex-grow: 1;}#sk-container-id-45 div.sk-label:hover label.sk-toggleable__label {background-color: #d4ebff;}#sk-container-id-45 div.sk-serial::before {content: \"\";position: absolute;border-left: 1px solid gray;box-sizing: border-box;top: 0;bottom: 0;left: 50%;z-index: 0;}#sk-container-id-45 div.sk-serial {display: flex;flex-direction: column;align-items: center;background-color: white;padding-right: 0.2em;padding-left: 0.2em;position: relative;}#sk-container-id-45 div.sk-item {position: relative;z-index: 1;}#sk-container-id-45 div.sk-parallel {display: flex;align-items: stretch;justify-content: center;background-color: white;position: relative;}#sk-container-id-45 div.sk-item::before, #sk-container-id-45 div.sk-parallel-item::before {content: \"\";position: absolute;border-left: 1px solid gray;box-sizing: border-box;top: 0;bottom: 0;left: 50%;z-index: -1;}#sk-container-id-45 div.sk-parallel-item {display: flex;flex-direction: column;z-index: 1;position: relative;background-color: white;}#sk-container-id-45 div.sk-parallel-item:first-child::after {align-self: flex-end;width: 50%;}#sk-container-id-45 div.sk-parallel-item:last-child::after {align-self: flex-start;width: 50%;}#sk-container-id-45 div.sk-parallel-item:only-child::after {width: 0;}#sk-container-id-45 div.sk-dashed-wrapped {border: 1px dashed gray;margin: 0 0.4em 0.5em 0.4em;box-sizing: border-box;padding-bottom: 0.4em;background-color: white;}#sk-container-id-45 div.sk-label label {font-family: monospace;font-weight: bold;display: inline-block;line-height: 1.2em;}#sk-container-id-45 div.sk-label-container {text-align: center;}#sk-container-id-45 div.sk-container {/* jupyter's `normalize.less` sets `[hidden] { display: none; }` but bootstrap.min.css set `[hidden] { display: none !important; }` so we also need the `!important` here to be able to override the default hidden behavior on the sphinx rendered scikit-learn.org. See: https://github.com/scikit-learn/scikit-learn/issues/21755 */display: inline-block !important;position: relative;}#sk-container-id-45 div.sk-text-repr-fallback {display: none;}</style><div id=\"sk-container-id-45\" class=\"sk-top-container\"><div class=\"sk-text-repr-fallback\"><pre>LogisticRegression()</pre><b>In a Jupyter environment, please rerun this cell to show the HTML representation or trust the notebook. <br />On GitHub, the HTML representation is unable to render, please try loading this page with nbviewer.org.</b></div><div class=\"sk-container\" hidden><div class=\"sk-item\"><div class=\"sk-estimator sk-toggleable\"><input class=\"sk-toggleable__control sk-hidden--visually\" id=\"sk-estimator-id-45\" type=\"checkbox\" checked><label for=\"sk-estimator-id-45\" class=\"sk-toggleable__label sk-toggleable__label-arrow\">LogisticRegression</label><div class=\"sk-toggleable__content\"><pre>LogisticRegression()</pre></div></div></div></div></div>"
            ]
          },
          "metadata": {},
          "execution_count": 834
        }
      ]
    },
    {
      "cell_type": "code",
      "source": [
        "y_pred5 = algoritmo5.predict(X_test)\n",
        "y_pred5"
      ],
      "metadata": {
        "colab": {
          "base_uri": "https://localhost:8080/"
        },
        "outputId": "91ad7d41-f919-4a7c-e95b-456cc1137a35",
        "id": "L2V9rkJyl1cK"
      },
      "execution_count": 835,
      "outputs": [
        {
          "output_type": "execute_result",
          "data": {
            "text/plain": [
              "array(['otro', 'ZTE', 'otro', ..., 'otro', 'otro', 'otro'], dtype=object)"
            ]
          },
          "metadata": {},
          "execution_count": 835
        }
      ]
    },
    {
      "cell_type": "code",
      "source": [
        "from sklearn.metrics import confusion_matrix\n",
        "matriz5 = confusion_matrix(y_test, y_pred)\n",
        "print('Matriz de Confusión:')\n",
        "print(matriz5)"
      ],
      "metadata": {
        "colab": {
          "base_uri": "https://localhost:8080/"
        },
        "outputId": "0313cb88-efec-4524-8511-7142f0ae65b0",
        "id": "lU6H0oTul1cL"
      },
      "execution_count": 836,
      "outputs": [
        {
          "output_type": "stream",
          "name": "stdout",
          "text": [
            "Matriz de Confusión:\n",
            "[[5112   72    0]\n",
            " [1564   38    0]\n",
            " [  32    2    0]]\n"
          ]
        }
      ]
    },
    {
      "cell_type": "code",
      "source": [
        "from sklearn.metrics import precision_score\n",
        "\n",
        "precision5 = precision_score(y_test5, y_pred5, average=\"micro\", pos_label=\"ZTE\")\n",
        "print('Precisión del modelo:')\n",
        "print(precision5)"
      ],
      "metadata": {
        "colab": {
          "base_uri": "https://localhost:8080/"
        },
        "outputId": "a69113be-3a1b-44f9-bbcc-90071ab63e11",
        "id": "P40LyIFLl1cL"
      },
      "execution_count": 837,
      "outputs": [
        {
          "output_type": "stream",
          "name": "stdout",
          "text": [
            "Precisión del modelo:\n",
            "0.8306451612903226\n"
          ]
        },
        {
          "output_type": "stream",
          "name": "stderr",
          "text": [
            "/usr/local/lib/python3.10/dist-packages/sklearn/metrics/_classification.py:1396: UserWarning: Note that pos_label (set to 'ZTE') is ignored when average != 'binary' (got 'micro'). You may use labels=[pos_label] to specify a single positive class.\n",
            "  warnings.warn(\n"
          ]
        }
      ]
    },
    {
      "cell_type": "code",
      "source": [
        "from sklearn.metrics import accuracy_score\n",
        "\n",
        "exactitud5 = accuracy_score(y_test5, y_pred5)\n",
        "print('Exactitud del modelo:')\n",
        "print(exactitud5)"
      ],
      "metadata": {
        "colab": {
          "base_uri": "https://localhost:8080/"
        },
        "outputId": "0c084b89-0d2f-4530-9838-b4aae68846dd",
        "id": "reHKCxrPl1cM"
      },
      "execution_count": 838,
      "outputs": [
        {
          "output_type": "stream",
          "name": "stdout",
          "text": [
            "Exactitud del modelo:\n",
            "0.8306451612903226\n"
          ]
        }
      ]
    },
    {
      "cell_type": "code",
      "source": [
        "from sklearn.metrics import recall_score\n",
        "\n",
        "sensibilidad5 = recall_score(y_test5, y_pred5, average=\"micro\", pos_label=\"ZTE\")\n",
        "print('Sensibilidad del modelo:')\n",
        "print(sensibilidad5)"
      ],
      "metadata": {
        "colab": {
          "base_uri": "https://localhost:8080/"
        },
        "outputId": "dcc8e75f-a683-48a3-e465-14ff17653575",
        "id": "b-RstoLgl1cM"
      },
      "execution_count": 839,
      "outputs": [
        {
          "output_type": "stream",
          "name": "stdout",
          "text": [
            "Sensibilidad del modelo:\n",
            "0.8306451612903226\n"
          ]
        },
        {
          "output_type": "stream",
          "name": "stderr",
          "text": [
            "/usr/local/lib/python3.10/dist-packages/sklearn/metrics/_classification.py:1396: UserWarning: Note that pos_label (set to 'ZTE') is ignored when average != 'binary' (got 'micro'). You may use labels=[pos_label] to specify a single positive class.\n",
            "  warnings.warn(\n"
          ]
        }
      ]
    },
    {
      "cell_type": "code",
      "source": [
        "from sklearn.metrics import f1_score\n",
        "puntajef15 = f1_score(y_test5, y_pred5, average=\"micro\", pos_label=\"ZTE\")\n",
        "print('Puntaje F1 del modelo:')\n",
        "print(puntajef15)"
      ],
      "metadata": {
        "colab": {
          "base_uri": "https://localhost:8080/"
        },
        "id": "Uk5WSpPORGv4",
        "outputId": "7c59714f-a5ed-4118-819a-6d9a60d17720"
      },
      "execution_count": 840,
      "outputs": [
        {
          "output_type": "stream",
          "name": "stdout",
          "text": [
            "Puntaje F1 del modelo:\n",
            "0.8306451612903226\n"
          ]
        },
        {
          "output_type": "stream",
          "name": "stderr",
          "text": [
            "/usr/local/lib/python3.10/dist-packages/sklearn/metrics/_classification.py:1396: UserWarning: Note that pos_label (set to 'ZTE') is ignored when average != 'binary' (got 'micro'). You may use labels=[pos_label] to specify a single positive class.\n",
            "  warnings.warn(\n"
          ]
        }
      ]
    },
    {
      "cell_type": "markdown",
      "source": [
        "Correlación 6"
      ],
      "metadata": {
        "id": "DiqlX8RWlfLh"
      }
    },
    {
      "cell_type": "code",
      "source": [
        "unico = np.unique(df2['status_cuenta'])\n",
        "unico"
      ],
      "metadata": {
        "colab": {
          "base_uri": "https://localhost:8080/"
        },
        "outputId": "3f156c2b-631a-497c-f452-42e36fcfc9b2",
        "id": "jkV_itc0l2W8"
      },
      "execution_count": 841,
      "outputs": [
        {
          "output_type": "execute_result",
          "data": {
            "text/plain": [
              "array(['Atraso', 'Cancelado', 'Corriente', 'Fraude', 'Mora'], dtype=object)"
            ]
          },
          "metadata": {},
          "execution_count": 841
        }
      ]
    },
    {
      "cell_type": "code",
      "source": [
        "df2['status_cuenta']= df2['status_cuenta'].replace([\"Atraso\", \"Cancelado\",\"Fraude\",\"Mora\"], \"No al corriente\")"
      ],
      "metadata": {
        "id": "mq5qFZuPl2W-"
      },
      "execution_count": 842,
      "outputs": []
    },
    {
      "cell_type": "code",
      "source": [
        "Vars_Indep6= df2[['monto_financiado', 'costo_total', 'enganche']]\n",
        "Var_Dep6= df2['status_cuenta']"
      ],
      "metadata": {
        "id": "0XNx0tFil2W-"
      },
      "execution_count": 843,
      "outputs": []
    },
    {
      "cell_type": "code",
      "source": [
        "X= Vars_Indep6\n",
        "y= Var_Dep6"
      ],
      "metadata": {
        "id": "YerATjKdl2W_"
      },
      "execution_count": 844,
      "outputs": []
    },
    {
      "cell_type": "code",
      "source": [
        "X_train6, X_test6, y_train6, y_test6 = train_test_split(X, y, test_size=0.3, random_state =None)"
      ],
      "metadata": {
        "id": "i4JkWeUul2W_"
      },
      "execution_count": 845,
      "outputs": []
    },
    {
      "cell_type": "code",
      "source": [
        "escalar6 = StandardScaler()"
      ],
      "metadata": {
        "id": "9g83eWPDl2W_"
      },
      "execution_count": 846,
      "outputs": []
    },
    {
      "cell_type": "code",
      "source": [
        "X_train6 = escalar6.fit_transform(X_train6)\n",
        "X_test6 = escalar6.transform(X_test6)"
      ],
      "metadata": {
        "id": "OsmKdjjal2XA"
      },
      "execution_count": 847,
      "outputs": []
    },
    {
      "cell_type": "code",
      "source": [
        "from sklearn.linear_model import LogisticRegression\n",
        "algoritmo6 = LogisticRegression()"
      ],
      "metadata": {
        "id": "LANPHTzZl2XA"
      },
      "execution_count": 848,
      "outputs": []
    },
    {
      "cell_type": "code",
      "source": [
        "algoritmo6.fit(X_train6, y_train6)"
      ],
      "metadata": {
        "colab": {
          "base_uri": "https://localhost:8080/",
          "height": 74
        },
        "outputId": "077964f4-5251-4f7e-aaf2-7803f6d6b5ed",
        "id": "MurRnxzYl2XA"
      },
      "execution_count": 849,
      "outputs": [
        {
          "output_type": "execute_result",
          "data": {
            "text/plain": [
              "LogisticRegression()"
            ],
            "text/html": [
              "<style>#sk-container-id-46 {color: black;background-color: white;}#sk-container-id-46 pre{padding: 0;}#sk-container-id-46 div.sk-toggleable {background-color: white;}#sk-container-id-46 label.sk-toggleable__label {cursor: pointer;display: block;width: 100%;margin-bottom: 0;padding: 0.3em;box-sizing: border-box;text-align: center;}#sk-container-id-46 label.sk-toggleable__label-arrow:before {content: \"▸\";float: left;margin-right: 0.25em;color: #696969;}#sk-container-id-46 label.sk-toggleable__label-arrow:hover:before {color: black;}#sk-container-id-46 div.sk-estimator:hover label.sk-toggleable__label-arrow:before {color: black;}#sk-container-id-46 div.sk-toggleable__content {max-height: 0;max-width: 0;overflow: hidden;text-align: left;background-color: #f0f8ff;}#sk-container-id-46 div.sk-toggleable__content pre {margin: 0.2em;color: black;border-radius: 0.25em;background-color: #f0f8ff;}#sk-container-id-46 input.sk-toggleable__control:checked~div.sk-toggleable__content {max-height: 200px;max-width: 100%;overflow: auto;}#sk-container-id-46 input.sk-toggleable__control:checked~label.sk-toggleable__label-arrow:before {content: \"▾\";}#sk-container-id-46 div.sk-estimator input.sk-toggleable__control:checked~label.sk-toggleable__label {background-color: #d4ebff;}#sk-container-id-46 div.sk-label input.sk-toggleable__control:checked~label.sk-toggleable__label {background-color: #d4ebff;}#sk-container-id-46 input.sk-hidden--visually {border: 0;clip: rect(1px 1px 1px 1px);clip: rect(1px, 1px, 1px, 1px);height: 1px;margin: -1px;overflow: hidden;padding: 0;position: absolute;width: 1px;}#sk-container-id-46 div.sk-estimator {font-family: monospace;background-color: #f0f8ff;border: 1px dotted black;border-radius: 0.25em;box-sizing: border-box;margin-bottom: 0.5em;}#sk-container-id-46 div.sk-estimator:hover {background-color: #d4ebff;}#sk-container-id-46 div.sk-parallel-item::after {content: \"\";width: 100%;border-bottom: 1px solid gray;flex-grow: 1;}#sk-container-id-46 div.sk-label:hover label.sk-toggleable__label {background-color: #d4ebff;}#sk-container-id-46 div.sk-serial::before {content: \"\";position: absolute;border-left: 1px solid gray;box-sizing: border-box;top: 0;bottom: 0;left: 50%;z-index: 0;}#sk-container-id-46 div.sk-serial {display: flex;flex-direction: column;align-items: center;background-color: white;padding-right: 0.2em;padding-left: 0.2em;position: relative;}#sk-container-id-46 div.sk-item {position: relative;z-index: 1;}#sk-container-id-46 div.sk-parallel {display: flex;align-items: stretch;justify-content: center;background-color: white;position: relative;}#sk-container-id-46 div.sk-item::before, #sk-container-id-46 div.sk-parallel-item::before {content: \"\";position: absolute;border-left: 1px solid gray;box-sizing: border-box;top: 0;bottom: 0;left: 50%;z-index: -1;}#sk-container-id-46 div.sk-parallel-item {display: flex;flex-direction: column;z-index: 1;position: relative;background-color: white;}#sk-container-id-46 div.sk-parallel-item:first-child::after {align-self: flex-end;width: 50%;}#sk-container-id-46 div.sk-parallel-item:last-child::after {align-self: flex-start;width: 50%;}#sk-container-id-46 div.sk-parallel-item:only-child::after {width: 0;}#sk-container-id-46 div.sk-dashed-wrapped {border: 1px dashed gray;margin: 0 0.4em 0.5em 0.4em;box-sizing: border-box;padding-bottom: 0.4em;background-color: white;}#sk-container-id-46 div.sk-label label {font-family: monospace;font-weight: bold;display: inline-block;line-height: 1.2em;}#sk-container-id-46 div.sk-label-container {text-align: center;}#sk-container-id-46 div.sk-container {/* jupyter's `normalize.less` sets `[hidden] { display: none; }` but bootstrap.min.css set `[hidden] { display: none !important; }` so we also need the `!important` here to be able to override the default hidden behavior on the sphinx rendered scikit-learn.org. See: https://github.com/scikit-learn/scikit-learn/issues/21755 */display: inline-block !important;position: relative;}#sk-container-id-46 div.sk-text-repr-fallback {display: none;}</style><div id=\"sk-container-id-46\" class=\"sk-top-container\"><div class=\"sk-text-repr-fallback\"><pre>LogisticRegression()</pre><b>In a Jupyter environment, please rerun this cell to show the HTML representation or trust the notebook. <br />On GitHub, the HTML representation is unable to render, please try loading this page with nbviewer.org.</b></div><div class=\"sk-container\" hidden><div class=\"sk-item\"><div class=\"sk-estimator sk-toggleable\"><input class=\"sk-toggleable__control sk-hidden--visually\" id=\"sk-estimator-id-46\" type=\"checkbox\" checked><label for=\"sk-estimator-id-46\" class=\"sk-toggleable__label sk-toggleable__label-arrow\">LogisticRegression</label><div class=\"sk-toggleable__content\"><pre>LogisticRegression()</pre></div></div></div></div></div>"
            ]
          },
          "metadata": {},
          "execution_count": 849
        }
      ]
    },
    {
      "cell_type": "code",
      "source": [
        "y_pred6 = algoritmo6.predict(X_test6)\n",
        "y_pred6"
      ],
      "metadata": {
        "colab": {
          "base_uri": "https://localhost:8080/"
        },
        "outputId": "4ec43000-9dad-4941-f84e-a0f37c89b73b",
        "id": "R8CODmWDl2XB"
      },
      "execution_count": 850,
      "outputs": [
        {
          "output_type": "execute_result",
          "data": {
            "text/plain": [
              "array(['Corriente', 'No al corriente', 'No al corriente', ...,\n",
              "       'Corriente', 'No al corriente', 'Corriente'], dtype=object)"
            ]
          },
          "metadata": {},
          "execution_count": 850
        }
      ]
    },
    {
      "cell_type": "code",
      "source": [
        "from sklearn.metrics import confusion_matrix\n",
        "matriz6 = confusion_matrix(y_test6, y_pred6)\n",
        "print('Matriz de Confusión:')\n",
        "print(matriz6)"
      ],
      "metadata": {
        "colab": {
          "base_uri": "https://localhost:8080/"
        },
        "outputId": "4cbab7a1-4cc8-4526-b9ec-8e7053ebec52",
        "id": "qu0nntp-l2XB"
      },
      "execution_count": 851,
      "outputs": [
        {
          "output_type": "stream",
          "name": "stdout",
          "text": [
            "Matriz de Confusión:\n",
            "[[ 911 2415]\n",
            " [ 822 2672]]\n"
          ]
        }
      ]
    },
    {
      "cell_type": "code",
      "source": [
        "from sklearn.metrics import precision_score\n",
        "\n",
        "precision6 = precision_score(y_test6, y_pred6, average=\"weighted\", pos_label=\"corriente\")\n",
        "print('Precisión del modelo:')\n",
        "print(precision6)"
      ],
      "metadata": {
        "colab": {
          "base_uri": "https://localhost:8080/"
        },
        "outputId": "6b77b0eb-1db8-473a-85c9-1a89f24a6bd8",
        "id": "qM_F0O9Bl2XB"
      },
      "execution_count": 852,
      "outputs": [
        {
          "output_type": "stream",
          "name": "stdout",
          "text": [
            "Precisión del modelo:\n",
            "0.5254640986216733\n"
          ]
        },
        {
          "output_type": "stream",
          "name": "stderr",
          "text": [
            "/usr/local/lib/python3.10/dist-packages/sklearn/metrics/_classification.py:1396: UserWarning: Note that pos_label (set to 'corriente') is ignored when average != 'binary' (got 'weighted'). You may use labels=[pos_label] to specify a single positive class.\n",
            "  warnings.warn(\n"
          ]
        }
      ]
    },
    {
      "cell_type": "code",
      "source": [
        "from sklearn.metrics import accuracy_score\n",
        "\n",
        "exactitud6 = accuracy_score(y_test6, y_pred6)\n",
        "print('Exactitud del modelo:')\n",
        "print(exactitud6)"
      ],
      "metadata": {
        "colab": {
          "base_uri": "https://localhost:8080/"
        },
        "outputId": "39c8036c-cb75-430e-8437-bfc4ad32f090",
        "id": "19xJcc0Yl2XC"
      },
      "execution_count": 853,
      "outputs": [
        {
          "output_type": "stream",
          "name": "stdout",
          "text": [
            "Exactitud del modelo:\n",
            "0.525366568914956\n"
          ]
        }
      ]
    },
    {
      "cell_type": "code",
      "source": [
        "from sklearn.metrics import recall_score\n",
        "\n",
        "sensibilidad6 = recall_score(y_test6, y_pred6, average=\"weighted\", pos_label=\"corriente\")\n",
        "print('Sensibilidad del modelo:')\n",
        "print(sensibilidad6)"
      ],
      "metadata": {
        "colab": {
          "base_uri": "https://localhost:8080/"
        },
        "outputId": "4a50699a-8fc8-4453-e168-87b808f7cb43",
        "id": "EnoPWT3jl2XC"
      },
      "execution_count": 854,
      "outputs": [
        {
          "output_type": "stream",
          "name": "stdout",
          "text": [
            "Sensibilidad del modelo:\n",
            "0.525366568914956\n"
          ]
        },
        {
          "output_type": "stream",
          "name": "stderr",
          "text": [
            "/usr/local/lib/python3.10/dist-packages/sklearn/metrics/_classification.py:1396: UserWarning: Note that pos_label (set to 'corriente') is ignored when average != 'binary' (got 'weighted'). You may use labels=[pos_label] to specify a single positive class.\n",
            "  warnings.warn(\n"
          ]
        }
      ]
    },
    {
      "cell_type": "code",
      "source": [
        "from sklearn.metrics import f1_score\n",
        "puntajef16 = f1_score(y_test6, y_pred6, average=\"micro\", pos_label=\"corriente\")\n",
        "print('Puntaje F1 del modelo:')\n",
        "print(puntajef16)"
      ],
      "metadata": {
        "colab": {
          "base_uri": "https://localhost:8080/"
        },
        "id": "VloOog9OQ6WC",
        "outputId": "ebd53bef-893c-4074-c56b-6a2e98b4156f"
      },
      "execution_count": 855,
      "outputs": [
        {
          "output_type": "stream",
          "name": "stdout",
          "text": [
            "Puntaje F1 del modelo:\n",
            "0.525366568914956\n"
          ]
        },
        {
          "output_type": "stream",
          "name": "stderr",
          "text": [
            "/usr/local/lib/python3.10/dist-packages/sklearn/metrics/_classification.py:1396: UserWarning: Note that pos_label (set to 'corriente') is ignored when average != 'binary' (got 'micro'). You may use labels=[pos_label] to specify a single positive class.\n",
            "  warnings.warn(\n"
          ]
        }
      ]
    },
    {
      "cell_type": "markdown",
      "source": [
        "Correlacion 7"
      ],
      "metadata": {
        "id": "q0G2klOClkBq"
      }
    },
    {
      "cell_type": "code",
      "source": [
        "unico = np.unique(df2['status'])\n",
        "unico"
      ],
      "metadata": {
        "colab": {
          "base_uri": "https://localhost:8080/"
        },
        "outputId": "08dfd55d-fb46-4422-ab4e-99bfc5a6fafc",
        "id": "fdd-IV_al3Y-"
      },
      "execution_count": 856,
      "outputs": [
        {
          "output_type": "execute_result",
          "data": {
            "text/plain": [
              "array([1, 2, 3, 4])"
            ]
          },
          "metadata": {},
          "execution_count": 856
        }
      ]
    },
    {
      "cell_type": "code",
      "source": [
        "df2['edo_venta']= df2['edo_venta'].replace([\"3\", \"4\"], \"2\")"
      ],
      "metadata": {
        "id": "JKgxBvlml3Y_"
      },
      "execution_count": 857,
      "outputs": []
    },
    {
      "cell_type": "code",
      "source": [
        "Vars_Indep7= df2[['precio', 'descuento', 'edad_cliente']]\n",
        "Var_Dep7= df2['status']"
      ],
      "metadata": {
        "id": "y9AaDkXnl3ZA"
      },
      "execution_count": 858,
      "outputs": []
    },
    {
      "cell_type": "code",
      "source": [
        "X= Vars_Indep7\n",
        "y= Var_Dep7"
      ],
      "metadata": {
        "id": "wBqIWI92l3ZA"
      },
      "execution_count": 859,
      "outputs": []
    },
    {
      "cell_type": "code",
      "source": [
        "X_train7, X_test7, y_train7, y_test7 = train_test_split(X, y, test_size=0.3, random_state =None)"
      ],
      "metadata": {
        "id": "N_HGJ59Il3ZB"
      },
      "execution_count": 860,
      "outputs": []
    },
    {
      "cell_type": "code",
      "source": [
        "escalar7 = StandardScaler()"
      ],
      "metadata": {
        "id": "DQwfWA8al3ZB"
      },
      "execution_count": 861,
      "outputs": []
    },
    {
      "cell_type": "code",
      "source": [
        "X_train7 = escalar7.fit_transform(X_train7)\n",
        "X_test7 = escalar7.transform(X_test7)"
      ],
      "metadata": {
        "id": "PhJ9aA6ol3ZB"
      },
      "execution_count": 862,
      "outputs": []
    },
    {
      "cell_type": "code",
      "source": [
        "from sklearn.linear_model import LogisticRegression\n",
        "algoritmo7 = LogisticRegression()"
      ],
      "metadata": {
        "id": "KImlSxWil3ZC"
      },
      "execution_count": 863,
      "outputs": []
    },
    {
      "cell_type": "code",
      "source": [
        "algoritmo7.fit(X_train7, y_train7)"
      ],
      "metadata": {
        "colab": {
          "base_uri": "https://localhost:8080/",
          "height": 74
        },
        "outputId": "8c880dc1-7e2d-4b47-cc94-85fb69cf8a24",
        "id": "ApqZQgvFl3ZC"
      },
      "execution_count": 864,
      "outputs": [
        {
          "output_type": "execute_result",
          "data": {
            "text/plain": [
              "LogisticRegression()"
            ],
            "text/html": [
              "<style>#sk-container-id-47 {color: black;background-color: white;}#sk-container-id-47 pre{padding: 0;}#sk-container-id-47 div.sk-toggleable {background-color: white;}#sk-container-id-47 label.sk-toggleable__label {cursor: pointer;display: block;width: 100%;margin-bottom: 0;padding: 0.3em;box-sizing: border-box;text-align: center;}#sk-container-id-47 label.sk-toggleable__label-arrow:before {content: \"▸\";float: left;margin-right: 0.25em;color: #696969;}#sk-container-id-47 label.sk-toggleable__label-arrow:hover:before {color: black;}#sk-container-id-47 div.sk-estimator:hover label.sk-toggleable__label-arrow:before {color: black;}#sk-container-id-47 div.sk-toggleable__content {max-height: 0;max-width: 0;overflow: hidden;text-align: left;background-color: #f0f8ff;}#sk-container-id-47 div.sk-toggleable__content pre {margin: 0.2em;color: black;border-radius: 0.25em;background-color: #f0f8ff;}#sk-container-id-47 input.sk-toggleable__control:checked~div.sk-toggleable__content {max-height: 200px;max-width: 100%;overflow: auto;}#sk-container-id-47 input.sk-toggleable__control:checked~label.sk-toggleable__label-arrow:before {content: \"▾\";}#sk-container-id-47 div.sk-estimator input.sk-toggleable__control:checked~label.sk-toggleable__label {background-color: #d4ebff;}#sk-container-id-47 div.sk-label input.sk-toggleable__control:checked~label.sk-toggleable__label {background-color: #d4ebff;}#sk-container-id-47 input.sk-hidden--visually {border: 0;clip: rect(1px 1px 1px 1px);clip: rect(1px, 1px, 1px, 1px);height: 1px;margin: -1px;overflow: hidden;padding: 0;position: absolute;width: 1px;}#sk-container-id-47 div.sk-estimator {font-family: monospace;background-color: #f0f8ff;border: 1px dotted black;border-radius: 0.25em;box-sizing: border-box;margin-bottom: 0.5em;}#sk-container-id-47 div.sk-estimator:hover {background-color: #d4ebff;}#sk-container-id-47 div.sk-parallel-item::after {content: \"\";width: 100%;border-bottom: 1px solid gray;flex-grow: 1;}#sk-container-id-47 div.sk-label:hover label.sk-toggleable__label {background-color: #d4ebff;}#sk-container-id-47 div.sk-serial::before {content: \"\";position: absolute;border-left: 1px solid gray;box-sizing: border-box;top: 0;bottom: 0;left: 50%;z-index: 0;}#sk-container-id-47 div.sk-serial {display: flex;flex-direction: column;align-items: center;background-color: white;padding-right: 0.2em;padding-left: 0.2em;position: relative;}#sk-container-id-47 div.sk-item {position: relative;z-index: 1;}#sk-container-id-47 div.sk-parallel {display: flex;align-items: stretch;justify-content: center;background-color: white;position: relative;}#sk-container-id-47 div.sk-item::before, #sk-container-id-47 div.sk-parallel-item::before {content: \"\";position: absolute;border-left: 1px solid gray;box-sizing: border-box;top: 0;bottom: 0;left: 50%;z-index: -1;}#sk-container-id-47 div.sk-parallel-item {display: flex;flex-direction: column;z-index: 1;position: relative;background-color: white;}#sk-container-id-47 div.sk-parallel-item:first-child::after {align-self: flex-end;width: 50%;}#sk-container-id-47 div.sk-parallel-item:last-child::after {align-self: flex-start;width: 50%;}#sk-container-id-47 div.sk-parallel-item:only-child::after {width: 0;}#sk-container-id-47 div.sk-dashed-wrapped {border: 1px dashed gray;margin: 0 0.4em 0.5em 0.4em;box-sizing: border-box;padding-bottom: 0.4em;background-color: white;}#sk-container-id-47 div.sk-label label {font-family: monospace;font-weight: bold;display: inline-block;line-height: 1.2em;}#sk-container-id-47 div.sk-label-container {text-align: center;}#sk-container-id-47 div.sk-container {/* jupyter's `normalize.less` sets `[hidden] { display: none; }` but bootstrap.min.css set `[hidden] { display: none !important; }` so we also need the `!important` here to be able to override the default hidden behavior on the sphinx rendered scikit-learn.org. See: https://github.com/scikit-learn/scikit-learn/issues/21755 */display: inline-block !important;position: relative;}#sk-container-id-47 div.sk-text-repr-fallback {display: none;}</style><div id=\"sk-container-id-47\" class=\"sk-top-container\"><div class=\"sk-text-repr-fallback\"><pre>LogisticRegression()</pre><b>In a Jupyter environment, please rerun this cell to show the HTML representation or trust the notebook. <br />On GitHub, the HTML representation is unable to render, please try loading this page with nbviewer.org.</b></div><div class=\"sk-container\" hidden><div class=\"sk-item\"><div class=\"sk-estimator sk-toggleable\"><input class=\"sk-toggleable__control sk-hidden--visually\" id=\"sk-estimator-id-47\" type=\"checkbox\" checked><label for=\"sk-estimator-id-47\" class=\"sk-toggleable__label sk-toggleable__label-arrow\">LogisticRegression</label><div class=\"sk-toggleable__content\"><pre>LogisticRegression()</pre></div></div></div></div></div>"
            ]
          },
          "metadata": {},
          "execution_count": 864
        }
      ]
    },
    {
      "cell_type": "code",
      "source": [
        "y_pred7 = algoritmo7.predict(X_test7)\n",
        "y_pred7"
      ],
      "metadata": {
        "colab": {
          "base_uri": "https://localhost:8080/"
        },
        "outputId": "c99d83ef-7b35-46b2-e088-2d4e06817501",
        "id": "i_LxVG0Dl3ZC"
      },
      "execution_count": 865,
      "outputs": [
        {
          "output_type": "execute_result",
          "data": {
            "text/plain": [
              "array([1, 1, 1, ..., 1, 1, 1])"
            ]
          },
          "metadata": {},
          "execution_count": 865
        }
      ]
    },
    {
      "cell_type": "code",
      "source": [
        "from sklearn.metrics import confusion_matrix\n",
        "matriz7 = confusion_matrix(y_test7, y_pred7)\n",
        "print('Matriz de Confusión:')\n",
        "print(matriz7)"
      ],
      "metadata": {
        "colab": {
          "base_uri": "https://localhost:8080/"
        },
        "outputId": "7fdc148a-8a1a-4b86-9cac-5c909f7d6686",
        "id": "-UippX36l3ZD"
      },
      "execution_count": 866,
      "outputs": [
        {
          "output_type": "stream",
          "name": "stdout",
          "text": [
            "Matriz de Confusión:\n",
            "[[5183    0    0    0]\n",
            " [1592    0    0    0]\n",
            " [  44    0    0    0]\n",
            " [   1    0    0    0]]\n"
          ]
        }
      ]
    },
    {
      "cell_type": "code",
      "source": [
        "from sklearn.metrics import precision_score\n",
        "\n",
        "precision7 = precision_score(y_test7, y_pred7, average=\"micro\", pos_label=\"1\")\n",
        "print('Precisión del modelo:')\n",
        "print(precision7)"
      ],
      "metadata": {
        "colab": {
          "base_uri": "https://localhost:8080/"
        },
        "outputId": "444a148f-3f50-4f61-fcad-de9df6c48856",
        "id": "OMmFi2T2l3ZD"
      },
      "execution_count": 867,
      "outputs": [
        {
          "output_type": "stream",
          "name": "stdout",
          "text": [
            "Precisión del modelo:\n",
            "0.7599706744868036\n"
          ]
        },
        {
          "output_type": "stream",
          "name": "stderr",
          "text": [
            "/usr/local/lib/python3.10/dist-packages/sklearn/metrics/_classification.py:1396: UserWarning: Note that pos_label (set to '1') is ignored when average != 'binary' (got 'micro'). You may use labels=[pos_label] to specify a single positive class.\n",
            "  warnings.warn(\n"
          ]
        }
      ]
    },
    {
      "cell_type": "code",
      "source": [
        "from sklearn.metrics import accuracy_score\n",
        "\n",
        "exactitud7 = accuracy_score(y_test7, y_pred7)\n",
        "print('Exactitud del modelo:')\n",
        "print(exactitud7)"
      ],
      "metadata": {
        "colab": {
          "base_uri": "https://localhost:8080/"
        },
        "outputId": "b662e13e-0ddc-42d7-d0ac-b571d51bec03",
        "id": "H1AVgcjGl3ZD"
      },
      "execution_count": 868,
      "outputs": [
        {
          "output_type": "stream",
          "name": "stdout",
          "text": [
            "Exactitud del modelo:\n",
            "0.7599706744868036\n"
          ]
        }
      ]
    },
    {
      "cell_type": "code",
      "source": [
        "from sklearn.metrics import recall_score\n",
        "\n",
        "sensibilidad7 = recall_score(y_test7, y_pred7, average=\"weighted\", pos_label=\"1\")\n",
        "print('Sensibilidad del modelo:')\n",
        "print(sensibilidad7)"
      ],
      "metadata": {
        "colab": {
          "base_uri": "https://localhost:8080/"
        },
        "outputId": "07507bf7-5728-4e15-d94a-b16179d431a5",
        "id": "SYtoL9utl3ZE"
      },
      "execution_count": 869,
      "outputs": [
        {
          "output_type": "stream",
          "name": "stdout",
          "text": [
            "Sensibilidad del modelo:\n",
            "0.7599706744868036\n"
          ]
        },
        {
          "output_type": "stream",
          "name": "stderr",
          "text": [
            "/usr/local/lib/python3.10/dist-packages/sklearn/metrics/_classification.py:1396: UserWarning: Note that pos_label (set to '1') is ignored when average != 'binary' (got 'weighted'). You may use labels=[pos_label] to specify a single positive class.\n",
            "  warnings.warn(\n"
          ]
        }
      ]
    },
    {
      "cell_type": "code",
      "source": [
        "from sklearn.metrics import f1_score\n",
        "puntajef17 = f1_score(y_test7, y_pred7, average=\"micro\", pos_label=\"1\")\n",
        "print('Puntaje F1 del modelo:')\n",
        "print(puntajef17)"
      ],
      "metadata": {
        "colab": {
          "base_uri": "https://localhost:8080/"
        },
        "id": "yHjR8zbaQrR5",
        "outputId": "cb8a5b4a-f795-4915-c65c-499107f07c96"
      },
      "execution_count": 870,
      "outputs": [
        {
          "output_type": "stream",
          "name": "stdout",
          "text": [
            "Puntaje F1 del modelo:\n",
            "0.7599706744868036\n"
          ]
        },
        {
          "output_type": "stream",
          "name": "stderr",
          "text": [
            "/usr/local/lib/python3.10/dist-packages/sklearn/metrics/_classification.py:1396: UserWarning: Note that pos_label (set to '1') is ignored when average != 'binary' (got 'micro'). You may use labels=[pos_label] to specify a single positive class.\n",
            "  warnings.warn(\n"
          ]
        }
      ]
    },
    {
      "cell_type": "markdown",
      "source": [
        "Correlacion 8"
      ],
      "metadata": {
        "id": "_PicbOZMlnAL"
      }
    },
    {
      "cell_type": "code",
      "source": [
        "unico = np.unique(df2['inversion'])\n",
        "unico"
      ],
      "metadata": {
        "colab": {
          "base_uri": "https://localhost:8080/"
        },
        "outputId": "eca5798b-a669-4be4-8109-39d09cf78437",
        "id": "1RHx2h2Bl4GK"
      },
      "execution_count": 871,
      "outputs": [
        {
          "output_type": "execute_result",
          "data": {
            "text/plain": [
              "array([0, 1])"
            ]
          },
          "metadata": {},
          "execution_count": 871
        }
      ]
    },
    {
      "cell_type": "code",
      "source": [
        "Vars_Indep8= df2[['precio', 'costo_total', 'limite_credito']]\n",
        "Var_Dep8= df2['inversion']\n"
      ],
      "metadata": {
        "id": "XtYj6XDvl4GO"
      },
      "execution_count": 872,
      "outputs": []
    },
    {
      "cell_type": "code",
      "source": [
        "X= Vars_Indep8\n",
        "y= Var_Dep8"
      ],
      "metadata": {
        "id": "xNUrShInl4GO"
      },
      "execution_count": 873,
      "outputs": []
    },
    {
      "cell_type": "code",
      "source": [
        "X_train8, X_test8, y_train8, y_test8 = train_test_split(X, y, test_size=0.3, random_state =None)"
      ],
      "metadata": {
        "id": "hZ4oFNSQl4GP"
      },
      "execution_count": 874,
      "outputs": []
    },
    {
      "cell_type": "code",
      "source": [
        "escalar8 = StandardScaler()"
      ],
      "metadata": {
        "id": "46YjXbSil4GP"
      },
      "execution_count": 875,
      "outputs": []
    },
    {
      "cell_type": "code",
      "source": [
        "X_train8 = escalar8.fit_transform(X_train8)\n",
        "X_test8 = escalar8.transform(X_test8)"
      ],
      "metadata": {
        "id": "wgttyaztl4GP"
      },
      "execution_count": 876,
      "outputs": []
    },
    {
      "cell_type": "code",
      "source": [
        "from sklearn.linear_model import LogisticRegression\n",
        "algoritmo8 = LogisticRegression()"
      ],
      "metadata": {
        "id": "UeBDJDYql4GQ"
      },
      "execution_count": 877,
      "outputs": []
    },
    {
      "cell_type": "code",
      "source": [
        "algoritmo8.fit(X_train8, y_train8)"
      ],
      "metadata": {
        "colab": {
          "base_uri": "https://localhost:8080/",
          "height": 74
        },
        "outputId": "dca54ef8-8a93-4ba4-ea11-25f6b9bb8719",
        "id": "uhUdeBFOl4GQ"
      },
      "execution_count": 878,
      "outputs": [
        {
          "output_type": "execute_result",
          "data": {
            "text/plain": [
              "LogisticRegression()"
            ],
            "text/html": [
              "<style>#sk-container-id-48 {color: black;background-color: white;}#sk-container-id-48 pre{padding: 0;}#sk-container-id-48 div.sk-toggleable {background-color: white;}#sk-container-id-48 label.sk-toggleable__label {cursor: pointer;display: block;width: 100%;margin-bottom: 0;padding: 0.3em;box-sizing: border-box;text-align: center;}#sk-container-id-48 label.sk-toggleable__label-arrow:before {content: \"▸\";float: left;margin-right: 0.25em;color: #696969;}#sk-container-id-48 label.sk-toggleable__label-arrow:hover:before {color: black;}#sk-container-id-48 div.sk-estimator:hover label.sk-toggleable__label-arrow:before {color: black;}#sk-container-id-48 div.sk-toggleable__content {max-height: 0;max-width: 0;overflow: hidden;text-align: left;background-color: #f0f8ff;}#sk-container-id-48 div.sk-toggleable__content pre {margin: 0.2em;color: black;border-radius: 0.25em;background-color: #f0f8ff;}#sk-container-id-48 input.sk-toggleable__control:checked~div.sk-toggleable__content {max-height: 200px;max-width: 100%;overflow: auto;}#sk-container-id-48 input.sk-toggleable__control:checked~label.sk-toggleable__label-arrow:before {content: \"▾\";}#sk-container-id-48 div.sk-estimator input.sk-toggleable__control:checked~label.sk-toggleable__label {background-color: #d4ebff;}#sk-container-id-48 div.sk-label input.sk-toggleable__control:checked~label.sk-toggleable__label {background-color: #d4ebff;}#sk-container-id-48 input.sk-hidden--visually {border: 0;clip: rect(1px 1px 1px 1px);clip: rect(1px, 1px, 1px, 1px);height: 1px;margin: -1px;overflow: hidden;padding: 0;position: absolute;width: 1px;}#sk-container-id-48 div.sk-estimator {font-family: monospace;background-color: #f0f8ff;border: 1px dotted black;border-radius: 0.25em;box-sizing: border-box;margin-bottom: 0.5em;}#sk-container-id-48 div.sk-estimator:hover {background-color: #d4ebff;}#sk-container-id-48 div.sk-parallel-item::after {content: \"\";width: 100%;border-bottom: 1px solid gray;flex-grow: 1;}#sk-container-id-48 div.sk-label:hover label.sk-toggleable__label {background-color: #d4ebff;}#sk-container-id-48 div.sk-serial::before {content: \"\";position: absolute;border-left: 1px solid gray;box-sizing: border-box;top: 0;bottom: 0;left: 50%;z-index: 0;}#sk-container-id-48 div.sk-serial {display: flex;flex-direction: column;align-items: center;background-color: white;padding-right: 0.2em;padding-left: 0.2em;position: relative;}#sk-container-id-48 div.sk-item {position: relative;z-index: 1;}#sk-container-id-48 div.sk-parallel {display: flex;align-items: stretch;justify-content: center;background-color: white;position: relative;}#sk-container-id-48 div.sk-item::before, #sk-container-id-48 div.sk-parallel-item::before {content: \"\";position: absolute;border-left: 1px solid gray;box-sizing: border-box;top: 0;bottom: 0;left: 50%;z-index: -1;}#sk-container-id-48 div.sk-parallel-item {display: flex;flex-direction: column;z-index: 1;position: relative;background-color: white;}#sk-container-id-48 div.sk-parallel-item:first-child::after {align-self: flex-end;width: 50%;}#sk-container-id-48 div.sk-parallel-item:last-child::after {align-self: flex-start;width: 50%;}#sk-container-id-48 div.sk-parallel-item:only-child::after {width: 0;}#sk-container-id-48 div.sk-dashed-wrapped {border: 1px dashed gray;margin: 0 0.4em 0.5em 0.4em;box-sizing: border-box;padding-bottom: 0.4em;background-color: white;}#sk-container-id-48 div.sk-label label {font-family: monospace;font-weight: bold;display: inline-block;line-height: 1.2em;}#sk-container-id-48 div.sk-label-container {text-align: center;}#sk-container-id-48 div.sk-container {/* jupyter's `normalize.less` sets `[hidden] { display: none; }` but bootstrap.min.css set `[hidden] { display: none !important; }` so we also need the `!important` here to be able to override the default hidden behavior on the sphinx rendered scikit-learn.org. See: https://github.com/scikit-learn/scikit-learn/issues/21755 */display: inline-block !important;position: relative;}#sk-container-id-48 div.sk-text-repr-fallback {display: none;}</style><div id=\"sk-container-id-48\" class=\"sk-top-container\"><div class=\"sk-text-repr-fallback\"><pre>LogisticRegression()</pre><b>In a Jupyter environment, please rerun this cell to show the HTML representation or trust the notebook. <br />On GitHub, the HTML representation is unable to render, please try loading this page with nbviewer.org.</b></div><div class=\"sk-container\" hidden><div class=\"sk-item\"><div class=\"sk-estimator sk-toggleable\"><input class=\"sk-toggleable__control sk-hidden--visually\" id=\"sk-estimator-id-48\" type=\"checkbox\" checked><label for=\"sk-estimator-id-48\" class=\"sk-toggleable__label sk-toggleable__label-arrow\">LogisticRegression</label><div class=\"sk-toggleable__content\"><pre>LogisticRegression()</pre></div></div></div></div></div>"
            ]
          },
          "metadata": {},
          "execution_count": 878
        }
      ]
    },
    {
      "cell_type": "code",
      "source": [
        "y_pred8 = algoritmo.predict(X_test8)\n",
        "y_pred8"
      ],
      "metadata": {
        "colab": {
          "base_uri": "https://localhost:8080/"
        },
        "outputId": "d97d0ed2-f88a-4698-8f9d-e415a2d9fd6b",
        "id": "6RvlOJJal4GR"
      },
      "execution_count": 879,
      "outputs": [
        {
          "output_type": "execute_result",
          "data": {
            "text/plain": [
              "array([1, 1, 1, ..., 2, 1, 1])"
            ]
          },
          "metadata": {},
          "execution_count": 879
        }
      ]
    },
    {
      "cell_type": "code",
      "source": [
        "from sklearn.metrics import confusion_matrix\n",
        "matriz8 = confusion_matrix(y_test8, y_pred8)\n",
        "print('Matriz de Confusión:')\n",
        "print(matriz8)"
      ],
      "metadata": {
        "colab": {
          "base_uri": "https://localhost:8080/"
        },
        "outputId": "cf7ecb02-10cf-4446-fa9f-9d64ed4d3ede",
        "id": "YTOT6qbvl4GS"
      },
      "execution_count": 880,
      "outputs": [
        {
          "output_type": "stream",
          "name": "stdout",
          "text": [
            "Matriz de Confusión:\n",
            "[[   0 4752  480]\n",
            " [   0 1477  111]\n",
            " [   0    0    0]]\n"
          ]
        }
      ]
    },
    {
      "cell_type": "code",
      "source": [
        "from sklearn.metrics import precision_score\n",
        "\n",
        "precision8 = precision_score(y_test8, y_pred8, average=\"micro\", pos_label=\"1\")\n",
        "print('Precisión del modelo:')\n",
        "print(precision8)"
      ],
      "metadata": {
        "colab": {
          "base_uri": "https://localhost:8080/"
        },
        "outputId": "bb4e732b-ab4a-48b4-e445-2a12beed6f63",
        "id": "9oaWcseGl4GT"
      },
      "execution_count": 881,
      "outputs": [
        {
          "output_type": "stream",
          "name": "stdout",
          "text": [
            "Precisión del modelo:\n",
            "0.21656891495601174\n"
          ]
        },
        {
          "output_type": "stream",
          "name": "stderr",
          "text": [
            "/usr/local/lib/python3.10/dist-packages/sklearn/metrics/_classification.py:1396: UserWarning: Note that pos_label (set to '1') is ignored when average != 'binary' (got 'micro'). You may use labels=[pos_label] to specify a single positive class.\n",
            "  warnings.warn(\n"
          ]
        }
      ]
    },
    {
      "cell_type": "code",
      "source": [
        "from sklearn.metrics import accuracy_score\n",
        "\n",
        "exactitud8 = accuracy_score(y_test8, y_pred8)\n",
        "print('Exactitud del modelo:')\n",
        "print(exactitud8)"
      ],
      "metadata": {
        "colab": {
          "base_uri": "https://localhost:8080/"
        },
        "outputId": "dd8572cf-03ac-4af6-8956-3c26e485fd1f",
        "id": "Imq6-9N7l4GT"
      },
      "execution_count": 882,
      "outputs": [
        {
          "output_type": "stream",
          "name": "stdout",
          "text": [
            "Exactitud del modelo:\n",
            "0.21656891495601174\n"
          ]
        }
      ]
    },
    {
      "cell_type": "code",
      "source": [
        "from sklearn.metrics import recall_score\n",
        "\n",
        "sensibilidad8 = recall_score(y_test8, y_pred8, average=\"weighted\", pos_label=\"1\")\n",
        "print('Sensibilidad del modelo:')\n",
        "print(sensibilidad)"
      ],
      "metadata": {
        "colab": {
          "base_uri": "https://localhost:8080/"
        },
        "outputId": "367782b3-3241-45d9-fbbc-437367b0b9f9",
        "id": "F6eMCVmKl4GT"
      },
      "execution_count": 883,
      "outputs": [
        {
          "output_type": "stream",
          "name": "stdout",
          "text": [
            "Sensibilidad del modelo:\n",
            "0.3447820999560429\n"
          ]
        },
        {
          "output_type": "stream",
          "name": "stderr",
          "text": [
            "/usr/local/lib/python3.10/dist-packages/sklearn/metrics/_classification.py:1396: UserWarning: Note that pos_label (set to '1') is ignored when average != 'binary' (got 'weighted'). You may use labels=[pos_label] to specify a single positive class.\n",
            "  warnings.warn(\n",
            "/usr/local/lib/python3.10/dist-packages/sklearn/metrics/_classification.py:1344: UndefinedMetricWarning: Recall is ill-defined and being set to 0.0 in labels with no true samples. Use `zero_division` parameter to control this behavior.\n",
            "  _warn_prf(average, modifier, msg_start, len(result))\n"
          ]
        }
      ]
    },
    {
      "cell_type": "code",
      "source": [
        "from sklearn.metrics import f1_score\n",
        "puntajef18 = f1_score(y_test8, y_pred8, average=\"micro\", pos_label=\"1\")\n",
        "print('Puntaje F1 del modelo:')\n",
        "print(puntajef18)"
      ],
      "metadata": {
        "colab": {
          "base_uri": "https://localhost:8080/"
        },
        "id": "RR01CtJkRkPF",
        "outputId": "2632e0bf-a703-4f8e-fb50-ed55cb7927c4"
      },
      "execution_count": 884,
      "outputs": [
        {
          "output_type": "stream",
          "name": "stdout",
          "text": [
            "Puntaje F1 del modelo:\n",
            "0.21656891495601174\n"
          ]
        },
        {
          "output_type": "stream",
          "name": "stderr",
          "text": [
            "/usr/local/lib/python3.10/dist-packages/sklearn/metrics/_classification.py:1396: UserWarning: Note that pos_label (set to '1') is ignored when average != 'binary' (got 'micro'). You may use labels=[pos_label] to specify a single positive class.\n",
            "  warnings.warn(\n"
          ]
        }
      ]
    },
    {
      "cell_type": "markdown",
      "source": [
        "Correlacion 9"
      ],
      "metadata": {
        "id": "dekVEJKkloRU"
      }
    },
    {
      "cell_type": "code",
      "source": [
        "unico = np.unique(df2['reautorizacion'])\n",
        "unico"
      ],
      "metadata": {
        "colab": {
          "base_uri": "https://localhost:8080/"
        },
        "outputId": "94f976bf-72d8-4830-a816-0ed1089eb1bd",
        "id": "2uKJsH1pl43V"
      },
      "execution_count": 885,
      "outputs": [
        {
          "output_type": "execute_result",
          "data": {
            "text/plain": [
              "array([0, 1])"
            ]
          },
          "metadata": {},
          "execution_count": 885
        }
      ]
    },
    {
      "cell_type": "code",
      "source": [
        "Vars_Indep9= df2[['monto_financiado', 'score_buro', 'porc_eng']]\n",
        "Var_Dep9= df2['reautorizacion']\n"
      ],
      "metadata": {
        "id": "ezI663Ngl43W"
      },
      "execution_count": 886,
      "outputs": []
    },
    {
      "cell_type": "code",
      "source": [
        "X= Vars_Indep9\n",
        "y= Var_Dep9"
      ],
      "metadata": {
        "id": "IDbKhjswl43W"
      },
      "execution_count": 887,
      "outputs": []
    },
    {
      "cell_type": "code",
      "source": [
        "X_train9, X_test9, y_train9, y_test9 = train_test_split(X, y, test_size=0.3, random_state =None)"
      ],
      "metadata": {
        "id": "HKFFEzJFl43X"
      },
      "execution_count": 888,
      "outputs": []
    },
    {
      "cell_type": "code",
      "source": [
        "escalar9 = StandardScaler()"
      ],
      "metadata": {
        "id": "LFSz3CTDl43X"
      },
      "execution_count": 889,
      "outputs": []
    },
    {
      "cell_type": "code",
      "source": [
        "X_train9 = escalar9.fit_transform(X_train9)\n",
        "X_test9 = escalar9.transform(X_test9)"
      ],
      "metadata": {
        "id": "ZRo6ccCsl43X"
      },
      "execution_count": 890,
      "outputs": []
    },
    {
      "cell_type": "code",
      "source": [
        "from sklearn.linear_model import LogisticRegression\n",
        "algoritmo9 = LogisticRegression()"
      ],
      "metadata": {
        "id": "Cn9xL2nql43X"
      },
      "execution_count": 891,
      "outputs": []
    },
    {
      "cell_type": "code",
      "source": [
        "algoritmo9.fit(X_train9, y_train9)"
      ],
      "metadata": {
        "colab": {
          "base_uri": "https://localhost:8080/",
          "height": 74
        },
        "outputId": "e6c9758b-5dad-4e09-9a38-3a60ede8b8bc",
        "id": "szGLdpyjl43Y"
      },
      "execution_count": 892,
      "outputs": [
        {
          "output_type": "execute_result",
          "data": {
            "text/plain": [
              "LogisticRegression()"
            ],
            "text/html": [
              "<style>#sk-container-id-49 {color: black;background-color: white;}#sk-container-id-49 pre{padding: 0;}#sk-container-id-49 div.sk-toggleable {background-color: white;}#sk-container-id-49 label.sk-toggleable__label {cursor: pointer;display: block;width: 100%;margin-bottom: 0;padding: 0.3em;box-sizing: border-box;text-align: center;}#sk-container-id-49 label.sk-toggleable__label-arrow:before {content: \"▸\";float: left;margin-right: 0.25em;color: #696969;}#sk-container-id-49 label.sk-toggleable__label-arrow:hover:before {color: black;}#sk-container-id-49 div.sk-estimator:hover label.sk-toggleable__label-arrow:before {color: black;}#sk-container-id-49 div.sk-toggleable__content {max-height: 0;max-width: 0;overflow: hidden;text-align: left;background-color: #f0f8ff;}#sk-container-id-49 div.sk-toggleable__content pre {margin: 0.2em;color: black;border-radius: 0.25em;background-color: #f0f8ff;}#sk-container-id-49 input.sk-toggleable__control:checked~div.sk-toggleable__content {max-height: 200px;max-width: 100%;overflow: auto;}#sk-container-id-49 input.sk-toggleable__control:checked~label.sk-toggleable__label-arrow:before {content: \"▾\";}#sk-container-id-49 div.sk-estimator input.sk-toggleable__control:checked~label.sk-toggleable__label {background-color: #d4ebff;}#sk-container-id-49 div.sk-label input.sk-toggleable__control:checked~label.sk-toggleable__label {background-color: #d4ebff;}#sk-container-id-49 input.sk-hidden--visually {border: 0;clip: rect(1px 1px 1px 1px);clip: rect(1px, 1px, 1px, 1px);height: 1px;margin: -1px;overflow: hidden;padding: 0;position: absolute;width: 1px;}#sk-container-id-49 div.sk-estimator {font-family: monospace;background-color: #f0f8ff;border: 1px dotted black;border-radius: 0.25em;box-sizing: border-box;margin-bottom: 0.5em;}#sk-container-id-49 div.sk-estimator:hover {background-color: #d4ebff;}#sk-container-id-49 div.sk-parallel-item::after {content: \"\";width: 100%;border-bottom: 1px solid gray;flex-grow: 1;}#sk-container-id-49 div.sk-label:hover label.sk-toggleable__label {background-color: #d4ebff;}#sk-container-id-49 div.sk-serial::before {content: \"\";position: absolute;border-left: 1px solid gray;box-sizing: border-box;top: 0;bottom: 0;left: 50%;z-index: 0;}#sk-container-id-49 div.sk-serial {display: flex;flex-direction: column;align-items: center;background-color: white;padding-right: 0.2em;padding-left: 0.2em;position: relative;}#sk-container-id-49 div.sk-item {position: relative;z-index: 1;}#sk-container-id-49 div.sk-parallel {display: flex;align-items: stretch;justify-content: center;background-color: white;position: relative;}#sk-container-id-49 div.sk-item::before, #sk-container-id-49 div.sk-parallel-item::before {content: \"\";position: absolute;border-left: 1px solid gray;box-sizing: border-box;top: 0;bottom: 0;left: 50%;z-index: -1;}#sk-container-id-49 div.sk-parallel-item {display: flex;flex-direction: column;z-index: 1;position: relative;background-color: white;}#sk-container-id-49 div.sk-parallel-item:first-child::after {align-self: flex-end;width: 50%;}#sk-container-id-49 div.sk-parallel-item:last-child::after {align-self: flex-start;width: 50%;}#sk-container-id-49 div.sk-parallel-item:only-child::after {width: 0;}#sk-container-id-49 div.sk-dashed-wrapped {border: 1px dashed gray;margin: 0 0.4em 0.5em 0.4em;box-sizing: border-box;padding-bottom: 0.4em;background-color: white;}#sk-container-id-49 div.sk-label label {font-family: monospace;font-weight: bold;display: inline-block;line-height: 1.2em;}#sk-container-id-49 div.sk-label-container {text-align: center;}#sk-container-id-49 div.sk-container {/* jupyter's `normalize.less` sets `[hidden] { display: none; }` but bootstrap.min.css set `[hidden] { display: none !important; }` so we also need the `!important` here to be able to override the default hidden behavior on the sphinx rendered scikit-learn.org. See: https://github.com/scikit-learn/scikit-learn/issues/21755 */display: inline-block !important;position: relative;}#sk-container-id-49 div.sk-text-repr-fallback {display: none;}</style><div id=\"sk-container-id-49\" class=\"sk-top-container\"><div class=\"sk-text-repr-fallback\"><pre>LogisticRegression()</pre><b>In a Jupyter environment, please rerun this cell to show the HTML representation or trust the notebook. <br />On GitHub, the HTML representation is unable to render, please try loading this page with nbviewer.org.</b></div><div class=\"sk-container\" hidden><div class=\"sk-item\"><div class=\"sk-estimator sk-toggleable\"><input class=\"sk-toggleable__control sk-hidden--visually\" id=\"sk-estimator-id-49\" type=\"checkbox\" checked><label for=\"sk-estimator-id-49\" class=\"sk-toggleable__label sk-toggleable__label-arrow\">LogisticRegression</label><div class=\"sk-toggleable__content\"><pre>LogisticRegression()</pre></div></div></div></div></div>"
            ]
          },
          "metadata": {},
          "execution_count": 892
        }
      ]
    },
    {
      "cell_type": "code",
      "source": [
        "y_pred9 = algoritmo9.predict(X_test9)\n",
        "y_pred9"
      ],
      "metadata": {
        "colab": {
          "base_uri": "https://localhost:8080/"
        },
        "outputId": "05c59953-de88-4d15-9e71-561f969be980",
        "id": "PNWM0M-Ml43Z"
      },
      "execution_count": 893,
      "outputs": [
        {
          "output_type": "execute_result",
          "data": {
            "text/plain": [
              "array([0, 0, 0, ..., 0, 0, 0])"
            ]
          },
          "metadata": {},
          "execution_count": 893
        }
      ]
    },
    {
      "cell_type": "code",
      "source": [
        "from sklearn.metrics import confusion_matrix\n",
        "matriz9 = confusion_matrix(y_test9, y_pred9)\n",
        "print('Matriz de Confusión:')\n",
        "print(matriz9)"
      ],
      "metadata": {
        "colab": {
          "base_uri": "https://localhost:8080/"
        },
        "outputId": "3ebe366f-14f8-4173-fa8c-6f649b33cc60",
        "id": "ZdXDzBuQl43Z"
      },
      "execution_count": 894,
      "outputs": [
        {
          "output_type": "stream",
          "name": "stdout",
          "text": [
            "Matriz de Confusión:\n",
            "[[6572    0]\n",
            " [ 248    0]]\n"
          ]
        }
      ]
    },
    {
      "cell_type": "code",
      "source": [
        "from sklearn.metrics import precision_score\n",
        "\n",
        "precision9 = precision_score(y_test9, y_pred9, average=\"micro\", pos_label=\"1\")\n",
        "print('Precisión del modelo:')\n",
        "print(precision9)"
      ],
      "metadata": {
        "colab": {
          "base_uri": "https://localhost:8080/"
        },
        "outputId": "e0490b95-5b82-4c44-d91b-bcf44ce56cee",
        "id": "HE92VC18l43Z"
      },
      "execution_count": 895,
      "outputs": [
        {
          "output_type": "stream",
          "name": "stdout",
          "text": [
            "Precisión del modelo:\n",
            "0.9636363636363636\n"
          ]
        },
        {
          "output_type": "stream",
          "name": "stderr",
          "text": [
            "/usr/local/lib/python3.10/dist-packages/sklearn/metrics/_classification.py:1396: UserWarning: Note that pos_label (set to '1') is ignored when average != 'binary' (got 'micro'). You may use labels=[pos_label] to specify a single positive class.\n",
            "  warnings.warn(\n"
          ]
        }
      ]
    },
    {
      "cell_type": "code",
      "source": [
        "from sklearn.metrics import accuracy_score\n",
        "\n",
        "exactitud9 = accuracy_score(y_test9, y_pred9)\n",
        "print('Exactitud del modelo:')\n",
        "print(exactitud9)"
      ],
      "metadata": {
        "colab": {
          "base_uri": "https://localhost:8080/"
        },
        "outputId": "b12d114b-93b5-41ef-f1c7-0e73f6606a8b",
        "id": "OzpL9mxTl43a"
      },
      "execution_count": 896,
      "outputs": [
        {
          "output_type": "stream",
          "name": "stdout",
          "text": [
            "Exactitud del modelo:\n",
            "0.9636363636363636\n"
          ]
        }
      ]
    },
    {
      "cell_type": "code",
      "source": [
        "from sklearn.metrics import recall_score\n",
        "\n",
        "sensibilidad9 = recall_score(y_test9, y_pred9, average=\"micro\", pos_label=\"1\")\n",
        "print('Sensibilidad del modelo:')\n",
        "print(sensibilidad9)"
      ],
      "metadata": {
        "colab": {
          "base_uri": "https://localhost:8080/"
        },
        "outputId": "9e1e319f-e057-497b-802d-ec3016093813",
        "id": "m5CWkOKPl43a"
      },
      "execution_count": 897,
      "outputs": [
        {
          "output_type": "stream",
          "name": "stdout",
          "text": [
            "Sensibilidad del modelo:\n",
            "0.9636363636363636\n"
          ]
        },
        {
          "output_type": "stream",
          "name": "stderr",
          "text": [
            "/usr/local/lib/python3.10/dist-packages/sklearn/metrics/_classification.py:1396: UserWarning: Note that pos_label (set to '1') is ignored when average != 'binary' (got 'micro'). You may use labels=[pos_label] to specify a single positive class.\n",
            "  warnings.warn(\n"
          ]
        }
      ]
    },
    {
      "cell_type": "code",
      "source": [
        "from sklearn.metrics import f1_score\n",
        "puntajef19 = f1_score(y_test9, y_pred9, average=\"micro\", pos_label=\"1\")\n",
        "print('Puntaje F1 del modelo:')\n",
        "print(puntajef19)"
      ],
      "metadata": {
        "colab": {
          "base_uri": "https://localhost:8080/"
        },
        "id": "3TTlljNqRh6r",
        "outputId": "413e74b2-a5f8-4d72-de41-72e378c0f4c5"
      },
      "execution_count": 898,
      "outputs": [
        {
          "output_type": "stream",
          "name": "stdout",
          "text": [
            "Puntaje F1 del modelo:\n",
            "0.9636363636363636\n"
          ]
        },
        {
          "output_type": "stream",
          "name": "stderr",
          "text": [
            "/usr/local/lib/python3.10/dist-packages/sklearn/metrics/_classification.py:1396: UserWarning: Note that pos_label (set to '1') is ignored when average != 'binary' (got 'micro'). You may use labels=[pos_label] to specify a single positive class.\n",
            "  warnings.warn(\n"
          ]
        }
      ]
    },
    {
      "cell_type": "markdown",
      "source": [
        "Correlacion 10"
      ],
      "metadata": {
        "id": "YqghIaZ0lp4Z"
      }
    },
    {
      "cell_type": "code",
      "source": [
        "unico = np.unique(df2['fraude'])\n",
        "unico"
      ],
      "metadata": {
        "colab": {
          "base_uri": "https://localhost:8080/"
        },
        "outputId": "69cc83e7-8553-4d57-8c27-d811bbacfb89",
        "id": "p2CNUQmol5ob"
      },
      "execution_count": 899,
      "outputs": [
        {
          "output_type": "execute_result",
          "data": {
            "text/plain": [
              "array([0, 1])"
            ]
          },
          "metadata": {},
          "execution_count": 899
        }
      ]
    },
    {
      "cell_type": "code",
      "source": [
        "Vars_Indep10= df2[['edad_cliente', 'precio', 'enganche']]\n",
        "Var_Dep10= df2['fraude']\n"
      ],
      "metadata": {
        "id": "IEvI_KDrl5od"
      },
      "execution_count": 900,
      "outputs": []
    },
    {
      "cell_type": "code",
      "source": [
        "X= Vars_Indep10\n",
        "y= Var_Dep10"
      ],
      "metadata": {
        "id": "TOoIW5F0l5od"
      },
      "execution_count": 901,
      "outputs": []
    },
    {
      "cell_type": "code",
      "source": [
        "X_train10, X_test10, y_train10, y_test10 = train_test_split(X, y, test_size=0.3, random_state =None)"
      ],
      "metadata": {
        "id": "EX4SR0Inl5od"
      },
      "execution_count": 902,
      "outputs": []
    },
    {
      "cell_type": "code",
      "source": [
        "escalar10 = StandardScaler()"
      ],
      "metadata": {
        "id": "yg4egh1gl5oe"
      },
      "execution_count": 903,
      "outputs": []
    },
    {
      "cell_type": "code",
      "source": [
        "X_train10 = escalar10.fit_transform(X_train10)\n",
        "X_test10 = escalar10.transform(X_test10)"
      ],
      "metadata": {
        "id": "v42i-wpTl5oe"
      },
      "execution_count": 904,
      "outputs": []
    },
    {
      "cell_type": "code",
      "source": [
        "from sklearn.linear_model import LogisticRegression\n",
        "algoritmo10 = LogisticRegression()"
      ],
      "metadata": {
        "id": "twYWES0Nl5oe"
      },
      "execution_count": 905,
      "outputs": []
    },
    {
      "cell_type": "code",
      "source": [
        "algoritmo10.fit(X_train10, y_train10)"
      ],
      "metadata": {
        "colab": {
          "base_uri": "https://localhost:8080/",
          "height": 74
        },
        "outputId": "41ef29e2-2fe0-4353-f7bb-4f0b370d175e",
        "id": "uVxw1cbnl5oe"
      },
      "execution_count": 906,
      "outputs": [
        {
          "output_type": "execute_result",
          "data": {
            "text/plain": [
              "LogisticRegression()"
            ],
            "text/html": [
              "<style>#sk-container-id-50 {color: black;background-color: white;}#sk-container-id-50 pre{padding: 0;}#sk-container-id-50 div.sk-toggleable {background-color: white;}#sk-container-id-50 label.sk-toggleable__label {cursor: pointer;display: block;width: 100%;margin-bottom: 0;padding: 0.3em;box-sizing: border-box;text-align: center;}#sk-container-id-50 label.sk-toggleable__label-arrow:before {content: \"▸\";float: left;margin-right: 0.25em;color: #696969;}#sk-container-id-50 label.sk-toggleable__label-arrow:hover:before {color: black;}#sk-container-id-50 div.sk-estimator:hover label.sk-toggleable__label-arrow:before {color: black;}#sk-container-id-50 div.sk-toggleable__content {max-height: 0;max-width: 0;overflow: hidden;text-align: left;background-color: #f0f8ff;}#sk-container-id-50 div.sk-toggleable__content pre {margin: 0.2em;color: black;border-radius: 0.25em;background-color: #f0f8ff;}#sk-container-id-50 input.sk-toggleable__control:checked~div.sk-toggleable__content {max-height: 200px;max-width: 100%;overflow: auto;}#sk-container-id-50 input.sk-toggleable__control:checked~label.sk-toggleable__label-arrow:before {content: \"▾\";}#sk-container-id-50 div.sk-estimator input.sk-toggleable__control:checked~label.sk-toggleable__label {background-color: #d4ebff;}#sk-container-id-50 div.sk-label input.sk-toggleable__control:checked~label.sk-toggleable__label {background-color: #d4ebff;}#sk-container-id-50 input.sk-hidden--visually {border: 0;clip: rect(1px 1px 1px 1px);clip: rect(1px, 1px, 1px, 1px);height: 1px;margin: -1px;overflow: hidden;padding: 0;position: absolute;width: 1px;}#sk-container-id-50 div.sk-estimator {font-family: monospace;background-color: #f0f8ff;border: 1px dotted black;border-radius: 0.25em;box-sizing: border-box;margin-bottom: 0.5em;}#sk-container-id-50 div.sk-estimator:hover {background-color: #d4ebff;}#sk-container-id-50 div.sk-parallel-item::after {content: \"\";width: 100%;border-bottom: 1px solid gray;flex-grow: 1;}#sk-container-id-50 div.sk-label:hover label.sk-toggleable__label {background-color: #d4ebff;}#sk-container-id-50 div.sk-serial::before {content: \"\";position: absolute;border-left: 1px solid gray;box-sizing: border-box;top: 0;bottom: 0;left: 50%;z-index: 0;}#sk-container-id-50 div.sk-serial {display: flex;flex-direction: column;align-items: center;background-color: white;padding-right: 0.2em;padding-left: 0.2em;position: relative;}#sk-container-id-50 div.sk-item {position: relative;z-index: 1;}#sk-container-id-50 div.sk-parallel {display: flex;align-items: stretch;justify-content: center;background-color: white;position: relative;}#sk-container-id-50 div.sk-item::before, #sk-container-id-50 div.sk-parallel-item::before {content: \"\";position: absolute;border-left: 1px solid gray;box-sizing: border-box;top: 0;bottom: 0;left: 50%;z-index: -1;}#sk-container-id-50 div.sk-parallel-item {display: flex;flex-direction: column;z-index: 1;position: relative;background-color: white;}#sk-container-id-50 div.sk-parallel-item:first-child::after {align-self: flex-end;width: 50%;}#sk-container-id-50 div.sk-parallel-item:last-child::after {align-self: flex-start;width: 50%;}#sk-container-id-50 div.sk-parallel-item:only-child::after {width: 0;}#sk-container-id-50 div.sk-dashed-wrapped {border: 1px dashed gray;margin: 0 0.4em 0.5em 0.4em;box-sizing: border-box;padding-bottom: 0.4em;background-color: white;}#sk-container-id-50 div.sk-label label {font-family: monospace;font-weight: bold;display: inline-block;line-height: 1.2em;}#sk-container-id-50 div.sk-label-container {text-align: center;}#sk-container-id-50 div.sk-container {/* jupyter's `normalize.less` sets `[hidden] { display: none; }` but bootstrap.min.css set `[hidden] { display: none !important; }` so we also need the `!important` here to be able to override the default hidden behavior on the sphinx rendered scikit-learn.org. See: https://github.com/scikit-learn/scikit-learn/issues/21755 */display: inline-block !important;position: relative;}#sk-container-id-50 div.sk-text-repr-fallback {display: none;}</style><div id=\"sk-container-id-50\" class=\"sk-top-container\"><div class=\"sk-text-repr-fallback\"><pre>LogisticRegression()</pre><b>In a Jupyter environment, please rerun this cell to show the HTML representation or trust the notebook. <br />On GitHub, the HTML representation is unable to render, please try loading this page with nbviewer.org.</b></div><div class=\"sk-container\" hidden><div class=\"sk-item\"><div class=\"sk-estimator sk-toggleable\"><input class=\"sk-toggleable__control sk-hidden--visually\" id=\"sk-estimator-id-50\" type=\"checkbox\" checked><label for=\"sk-estimator-id-50\" class=\"sk-toggleable__label sk-toggleable__label-arrow\">LogisticRegression</label><div class=\"sk-toggleable__content\"><pre>LogisticRegression()</pre></div></div></div></div></div>"
            ]
          },
          "metadata": {},
          "execution_count": 906
        }
      ]
    },
    {
      "cell_type": "code",
      "source": [
        "y_pred10 = algoritmo10.predict(X_test10)\n",
        "y_pred10"
      ],
      "metadata": {
        "colab": {
          "base_uri": "https://localhost:8080/"
        },
        "outputId": "23be986a-77c6-4559-e73c-b8140af1214d",
        "id": "RjbNhJbWl5of"
      },
      "execution_count": 907,
      "outputs": [
        {
          "output_type": "execute_result",
          "data": {
            "text/plain": [
              "array([0, 0, 0, ..., 0, 0, 0])"
            ]
          },
          "metadata": {},
          "execution_count": 907
        }
      ]
    },
    {
      "cell_type": "code",
      "source": [
        "from sklearn.metrics import confusion_matrix\n",
        "matriz10 = confusion_matrix(y_test10, y_pred10)\n",
        "print('Matriz de Confusión:')\n",
        "print(matriz10)"
      ],
      "metadata": {
        "colab": {
          "base_uri": "https://localhost:8080/"
        },
        "outputId": "2db7aba1-c899-4820-afd2-ab1049328337",
        "id": "tA97fm4gl5of"
      },
      "execution_count": 908,
      "outputs": [
        {
          "output_type": "stream",
          "name": "stdout",
          "text": [
            "Matriz de Confusión:\n",
            "[[6323    0]\n",
            " [ 497    0]]\n"
          ]
        }
      ]
    },
    {
      "cell_type": "code",
      "source": [
        "from sklearn.metrics import precision_score\n",
        "\n",
        "precision10 = precision_score(y_test10, y_pred10, average=\"micro\", pos_label=\"1\")\n",
        "print('Precisión del modelo:')\n",
        "print(precision10)"
      ],
      "metadata": {
        "colab": {
          "base_uri": "https://localhost:8080/"
        },
        "outputId": "d3966b98-073f-4fd5-c6d0-c70bdff3334c",
        "id": "kMGkfwIOl5of"
      },
      "execution_count": 909,
      "outputs": [
        {
          "output_type": "stream",
          "name": "stdout",
          "text": [
            "Precisión del modelo:\n",
            "0.9271260997067449\n"
          ]
        },
        {
          "output_type": "stream",
          "name": "stderr",
          "text": [
            "/usr/local/lib/python3.10/dist-packages/sklearn/metrics/_classification.py:1396: UserWarning: Note that pos_label (set to '1') is ignored when average != 'binary' (got 'micro'). You may use labels=[pos_label] to specify a single positive class.\n",
            "  warnings.warn(\n"
          ]
        }
      ]
    },
    {
      "cell_type": "code",
      "source": [
        "from sklearn.metrics import accuracy_score\n",
        "\n",
        "exactitud10 = accuracy_score(y_test10, y_pred10)\n",
        "print('Exactitud del modelo:')\n",
        "print(exactitud10)"
      ],
      "metadata": {
        "colab": {
          "base_uri": "https://localhost:8080/"
        },
        "outputId": "450c2d59-9326-4080-dfd5-5a58e89ac741",
        "id": "balJ3drdl5og"
      },
      "execution_count": 910,
      "outputs": [
        {
          "output_type": "stream",
          "name": "stdout",
          "text": [
            "Exactitud del modelo:\n",
            "0.9271260997067449\n"
          ]
        }
      ]
    },
    {
      "cell_type": "code",
      "source": [
        "from sklearn.metrics import recall_score\n",
        "\n",
        "sensibilidad10 = recall_score(y_test10, y_pred10, average=\"micro\", pos_label=\"1\")\n",
        "print('Sensibilidad del modelo:')\n",
        "print(sensibilidad10)"
      ],
      "metadata": {
        "colab": {
          "base_uri": "https://localhost:8080/"
        },
        "outputId": "7d78d410-7cd9-485d-df6c-72b77ed5d85b",
        "id": "S9VVFxFNl5og"
      },
      "execution_count": 911,
      "outputs": [
        {
          "output_type": "stream",
          "name": "stdout",
          "text": [
            "Sensibilidad del modelo:\n",
            "0.9271260997067449\n"
          ]
        },
        {
          "output_type": "stream",
          "name": "stderr",
          "text": [
            "/usr/local/lib/python3.10/dist-packages/sklearn/metrics/_classification.py:1396: UserWarning: Note that pos_label (set to '1') is ignored when average != 'binary' (got 'micro'). You may use labels=[pos_label] to specify a single positive class.\n",
            "  warnings.warn(\n"
          ]
        }
      ]
    },
    {
      "cell_type": "code",
      "source": [
        "from sklearn.metrics import f1_score\n",
        "puntajef110 = f1_score(y_test10, y_pred10, average=\"micro\", pos_label=\"1\")\n",
        "print('Puntaje F1 del modelo:')\n",
        "print(puntajef110)"
      ],
      "metadata": {
        "colab": {
          "base_uri": "https://localhost:8080/"
        },
        "id": "kWB9ZdLjlJAK",
        "outputId": "d851d38a-f595-4f9a-c5b0-4f5462067eaa"
      },
      "execution_count": 912,
      "outputs": [
        {
          "output_type": "stream",
          "name": "stdout",
          "text": [
            "Puntaje F1 del modelo:\n",
            "0.9271260997067449\n"
          ]
        },
        {
          "output_type": "stream",
          "name": "stderr",
          "text": [
            "/usr/local/lib/python3.10/dist-packages/sklearn/metrics/_classification.py:1396: UserWarning: Note that pos_label (set to '1') is ignored when average != 'binary' (got 'micro'). You may use labels=[pos_label] to specify a single positive class.\n",
            "  warnings.warn(\n"
          ]
        }
      ]
    },
    {
      "cell_type": "markdown",
      "source": [
        "Tabla de coeficientes de precisión, exactitud y sensibilidad"
      ],
      "metadata": {
        "id": "SZuXpPC2d8a2"
      }
    },
    {
      "cell_type": "code",
      "source": [
        "precision_list = [precision10, precision2, precision3, precision4, precision5, precision6, precision7, precision8, precision9, precision10]\n",
        "exactitud_list = [exactitud1, exactitud2, exactitud3, exactitud4, exactitud5, exactitud6, exactitud7, exactitud8, exactitud9, exactitud10]\n",
        "sensibilidad_list = [sensibilidad1, sensibilidad2, sensibilidad3, sensibilidad4, sensibilidad5, sensibilidad6, sensibilidad7, sensibilidad8, sensibilidad9, sensibilidad10]\n",
        "puntajef1_list = [puntajef1, puntajef12, puntajef13, puntajef14, puntajef15, puntajef16, puntajef17, puntajef18, puntajef19, puntajef110]"
      ],
      "metadata": {
        "id": "kE4wxy87eCPB"
      },
      "execution_count": 916,
      "outputs": []
    },
    {
      "cell_type": "code",
      "source": [
        "df3 = pd.DataFrame({'Precision': precision_list, 'Exactitud': exactitud_list, 'Sensibilidad': sensibilidad_list, 'Puntaje F1': puntajef1_list})\n",
        "df3"
      ],
      "metadata": {
        "colab": {
          "base_uri": "https://localhost:8080/",
          "height": 359
        },
        "id": "AAN1vyvOeORr",
        "outputId": "a940799b-6d10-447b-a47b-54313e65d3be"
      },
      "execution_count": 918,
      "outputs": [
        {
          "output_type": "execute_result",
          "data": {
            "text/plain": [
              "   Precision  Exactitud  Sensibilidad  Puntaje F1\n",
              "0   0.927126   0.755132      0.755132    0.755132\n",
              "1   0.921554   0.921554      0.336610    0.921554\n",
              "2   0.754985   0.754985      0.754985    0.754985\n",
              "3   0.967889   0.967889      0.967889    0.967889\n",
              "4   0.830645   0.830645      0.830645    0.830645\n",
              "5   0.525464   0.525367      0.525367    0.525367\n",
              "6   0.759971   0.759971      0.759971    0.759971\n",
              "7   0.216569   0.216569      0.216569    0.216569\n",
              "8   0.963636   0.963636      0.963636    0.963636\n",
              "9   0.927126   0.927126      0.927126    0.927126"
            ],
            "text/html": [
              "\n",
              "  <div id=\"df-e6ce0476-0d00-4f62-99d4-ae36afae418d\" class=\"colab-df-container\">\n",
              "    <div>\n",
              "<style scoped>\n",
              "    .dataframe tbody tr th:only-of-type {\n",
              "        vertical-align: middle;\n",
              "    }\n",
              "\n",
              "    .dataframe tbody tr th {\n",
              "        vertical-align: top;\n",
              "    }\n",
              "\n",
              "    .dataframe thead th {\n",
              "        text-align: right;\n",
              "    }\n",
              "</style>\n",
              "<table border=\"1\" class=\"dataframe\">\n",
              "  <thead>\n",
              "    <tr style=\"text-align: right;\">\n",
              "      <th></th>\n",
              "      <th>Precision</th>\n",
              "      <th>Exactitud</th>\n",
              "      <th>Sensibilidad</th>\n",
              "      <th>Puntaje F1</th>\n",
              "    </tr>\n",
              "  </thead>\n",
              "  <tbody>\n",
              "    <tr>\n",
              "      <th>0</th>\n",
              "      <td>0.927126</td>\n",
              "      <td>0.755132</td>\n",
              "      <td>0.755132</td>\n",
              "      <td>0.755132</td>\n",
              "    </tr>\n",
              "    <tr>\n",
              "      <th>1</th>\n",
              "      <td>0.921554</td>\n",
              "      <td>0.921554</td>\n",
              "      <td>0.336610</td>\n",
              "      <td>0.921554</td>\n",
              "    </tr>\n",
              "    <tr>\n",
              "      <th>2</th>\n",
              "      <td>0.754985</td>\n",
              "      <td>0.754985</td>\n",
              "      <td>0.754985</td>\n",
              "      <td>0.754985</td>\n",
              "    </tr>\n",
              "    <tr>\n",
              "      <th>3</th>\n",
              "      <td>0.967889</td>\n",
              "      <td>0.967889</td>\n",
              "      <td>0.967889</td>\n",
              "      <td>0.967889</td>\n",
              "    </tr>\n",
              "    <tr>\n",
              "      <th>4</th>\n",
              "      <td>0.830645</td>\n",
              "      <td>0.830645</td>\n",
              "      <td>0.830645</td>\n",
              "      <td>0.830645</td>\n",
              "    </tr>\n",
              "    <tr>\n",
              "      <th>5</th>\n",
              "      <td>0.525464</td>\n",
              "      <td>0.525367</td>\n",
              "      <td>0.525367</td>\n",
              "      <td>0.525367</td>\n",
              "    </tr>\n",
              "    <tr>\n",
              "      <th>6</th>\n",
              "      <td>0.759971</td>\n",
              "      <td>0.759971</td>\n",
              "      <td>0.759971</td>\n",
              "      <td>0.759971</td>\n",
              "    </tr>\n",
              "    <tr>\n",
              "      <th>7</th>\n",
              "      <td>0.216569</td>\n",
              "      <td>0.216569</td>\n",
              "      <td>0.216569</td>\n",
              "      <td>0.216569</td>\n",
              "    </tr>\n",
              "    <tr>\n",
              "      <th>8</th>\n",
              "      <td>0.963636</td>\n",
              "      <td>0.963636</td>\n",
              "      <td>0.963636</td>\n",
              "      <td>0.963636</td>\n",
              "    </tr>\n",
              "    <tr>\n",
              "      <th>9</th>\n",
              "      <td>0.927126</td>\n",
              "      <td>0.927126</td>\n",
              "      <td>0.927126</td>\n",
              "      <td>0.927126</td>\n",
              "    </tr>\n",
              "  </tbody>\n",
              "</table>\n",
              "</div>\n",
              "    <div class=\"colab-df-buttons\">\n",
              "\n",
              "  <div class=\"colab-df-container\">\n",
              "    <button class=\"colab-df-convert\" onclick=\"convertToInteractive('df-e6ce0476-0d00-4f62-99d4-ae36afae418d')\"\n",
              "            title=\"Convert this dataframe to an interactive table.\"\n",
              "            style=\"display:none;\">\n",
              "\n",
              "  <svg xmlns=\"http://www.w3.org/2000/svg\" height=\"24px\" viewBox=\"0 -960 960 960\">\n",
              "    <path d=\"M120-120v-720h720v720H120Zm60-500h600v-160H180v160Zm220 220h160v-160H400v160Zm0 220h160v-160H400v160ZM180-400h160v-160H180v160Zm440 0h160v-160H620v160ZM180-180h160v-160H180v160Zm440 0h160v-160H620v160Z\"/>\n",
              "  </svg>\n",
              "    </button>\n",
              "\n",
              "  <style>\n",
              "    .colab-df-container {\n",
              "      display:flex;\n",
              "      gap: 12px;\n",
              "    }\n",
              "\n",
              "    .colab-df-convert {\n",
              "      background-color: #E8F0FE;\n",
              "      border: none;\n",
              "      border-radius: 50%;\n",
              "      cursor: pointer;\n",
              "      display: none;\n",
              "      fill: #1967D2;\n",
              "      height: 32px;\n",
              "      padding: 0 0 0 0;\n",
              "      width: 32px;\n",
              "    }\n",
              "\n",
              "    .colab-df-convert:hover {\n",
              "      background-color: #E2EBFA;\n",
              "      box-shadow: 0px 1px 2px rgba(60, 64, 67, 0.3), 0px 1px 3px 1px rgba(60, 64, 67, 0.15);\n",
              "      fill: #174EA6;\n",
              "    }\n",
              "\n",
              "    .colab-df-buttons div {\n",
              "      margin-bottom: 4px;\n",
              "    }\n",
              "\n",
              "    [theme=dark] .colab-df-convert {\n",
              "      background-color: #3B4455;\n",
              "      fill: #D2E3FC;\n",
              "    }\n",
              "\n",
              "    [theme=dark] .colab-df-convert:hover {\n",
              "      background-color: #434B5C;\n",
              "      box-shadow: 0px 1px 3px 1px rgba(0, 0, 0, 0.15);\n",
              "      filter: drop-shadow(0px 1px 2px rgba(0, 0, 0, 0.3));\n",
              "      fill: #FFFFFF;\n",
              "    }\n",
              "  </style>\n",
              "\n",
              "    <script>\n",
              "      const buttonEl =\n",
              "        document.querySelector('#df-e6ce0476-0d00-4f62-99d4-ae36afae418d button.colab-df-convert');\n",
              "      buttonEl.style.display =\n",
              "        google.colab.kernel.accessAllowed ? 'block' : 'none';\n",
              "\n",
              "      async function convertToInteractive(key) {\n",
              "        const element = document.querySelector('#df-e6ce0476-0d00-4f62-99d4-ae36afae418d');\n",
              "        const dataTable =\n",
              "          await google.colab.kernel.invokeFunction('convertToInteractive',\n",
              "                                                    [key], {});\n",
              "        if (!dataTable) return;\n",
              "\n",
              "        const docLinkHtml = 'Like what you see? Visit the ' +\n",
              "          '<a target=\"_blank\" href=https://colab.research.google.com/notebooks/data_table.ipynb>data table notebook</a>'\n",
              "          + ' to learn more about interactive tables.';\n",
              "        element.innerHTML = '';\n",
              "        dataTable['output_type'] = 'display_data';\n",
              "        await google.colab.output.renderOutput(dataTable, element);\n",
              "        const docLink = document.createElement('div');\n",
              "        docLink.innerHTML = docLinkHtml;\n",
              "        element.appendChild(docLink);\n",
              "      }\n",
              "    </script>\n",
              "  </div>\n",
              "\n",
              "\n",
              "<div id=\"df-96036785-c243-4771-bb49-3e18a5e28775\">\n",
              "  <button class=\"colab-df-quickchart\" onclick=\"quickchart('df-96036785-c243-4771-bb49-3e18a5e28775')\"\n",
              "            title=\"Suggest charts.\"\n",
              "            style=\"display:none;\">\n",
              "\n",
              "<svg xmlns=\"http://www.w3.org/2000/svg\" height=\"24px\"viewBox=\"0 0 24 24\"\n",
              "     width=\"24px\">\n",
              "    <g>\n",
              "        <path d=\"M19 3H5c-1.1 0-2 .9-2 2v14c0 1.1.9 2 2 2h14c1.1 0 2-.9 2-2V5c0-1.1-.9-2-2-2zM9 17H7v-7h2v7zm4 0h-2V7h2v10zm4 0h-2v-4h2v4z\"/>\n",
              "    </g>\n",
              "</svg>\n",
              "  </button>\n",
              "\n",
              "<style>\n",
              "  .colab-df-quickchart {\n",
              "      --bg-color: #E8F0FE;\n",
              "      --fill-color: #1967D2;\n",
              "      --hover-bg-color: #E2EBFA;\n",
              "      --hover-fill-color: #174EA6;\n",
              "      --disabled-fill-color: #AAA;\n",
              "      --disabled-bg-color: #DDD;\n",
              "  }\n",
              "\n",
              "  [theme=dark] .colab-df-quickchart {\n",
              "      --bg-color: #3B4455;\n",
              "      --fill-color: #D2E3FC;\n",
              "      --hover-bg-color: #434B5C;\n",
              "      --hover-fill-color: #FFFFFF;\n",
              "      --disabled-bg-color: #3B4455;\n",
              "      --disabled-fill-color: #666;\n",
              "  }\n",
              "\n",
              "  .colab-df-quickchart {\n",
              "    background-color: var(--bg-color);\n",
              "    border: none;\n",
              "    border-radius: 50%;\n",
              "    cursor: pointer;\n",
              "    display: none;\n",
              "    fill: var(--fill-color);\n",
              "    height: 32px;\n",
              "    padding: 0;\n",
              "    width: 32px;\n",
              "  }\n",
              "\n",
              "  .colab-df-quickchart:hover {\n",
              "    background-color: var(--hover-bg-color);\n",
              "    box-shadow: 0 1px 2px rgba(60, 64, 67, 0.3), 0 1px 3px 1px rgba(60, 64, 67, 0.15);\n",
              "    fill: var(--button-hover-fill-color);\n",
              "  }\n",
              "\n",
              "  .colab-df-quickchart-complete:disabled,\n",
              "  .colab-df-quickchart-complete:disabled:hover {\n",
              "    background-color: var(--disabled-bg-color);\n",
              "    fill: var(--disabled-fill-color);\n",
              "    box-shadow: none;\n",
              "  }\n",
              "\n",
              "  .colab-df-spinner {\n",
              "    border: 2px solid var(--fill-color);\n",
              "    border-color: transparent;\n",
              "    border-bottom-color: var(--fill-color);\n",
              "    animation:\n",
              "      spin 1s steps(1) infinite;\n",
              "  }\n",
              "\n",
              "  @keyframes spin {\n",
              "    0% {\n",
              "      border-color: transparent;\n",
              "      border-bottom-color: var(--fill-color);\n",
              "      border-left-color: var(--fill-color);\n",
              "    }\n",
              "    20% {\n",
              "      border-color: transparent;\n",
              "      border-left-color: var(--fill-color);\n",
              "      border-top-color: var(--fill-color);\n",
              "    }\n",
              "    30% {\n",
              "      border-color: transparent;\n",
              "      border-left-color: var(--fill-color);\n",
              "      border-top-color: var(--fill-color);\n",
              "      border-right-color: var(--fill-color);\n",
              "    }\n",
              "    40% {\n",
              "      border-color: transparent;\n",
              "      border-right-color: var(--fill-color);\n",
              "      border-top-color: var(--fill-color);\n",
              "    }\n",
              "    60% {\n",
              "      border-color: transparent;\n",
              "      border-right-color: var(--fill-color);\n",
              "    }\n",
              "    80% {\n",
              "      border-color: transparent;\n",
              "      border-right-color: var(--fill-color);\n",
              "      border-bottom-color: var(--fill-color);\n",
              "    }\n",
              "    90% {\n",
              "      border-color: transparent;\n",
              "      border-bottom-color: var(--fill-color);\n",
              "    }\n",
              "  }\n",
              "</style>\n",
              "\n",
              "  <script>\n",
              "    async function quickchart(key) {\n",
              "      const quickchartButtonEl =\n",
              "        document.querySelector('#' + key + ' button');\n",
              "      quickchartButtonEl.disabled = true;  // To prevent multiple clicks.\n",
              "      quickchartButtonEl.classList.add('colab-df-spinner');\n",
              "      try {\n",
              "        const charts = await google.colab.kernel.invokeFunction(\n",
              "            'suggestCharts', [key], {});\n",
              "      } catch (error) {\n",
              "        console.error('Error during call to suggestCharts:', error);\n",
              "      }\n",
              "      quickchartButtonEl.classList.remove('colab-df-spinner');\n",
              "      quickchartButtonEl.classList.add('colab-df-quickchart-complete');\n",
              "    }\n",
              "    (() => {\n",
              "      let quickchartButtonEl =\n",
              "        document.querySelector('#df-96036785-c243-4771-bb49-3e18a5e28775 button');\n",
              "      quickchartButtonEl.style.display =\n",
              "        google.colab.kernel.accessAllowed ? 'block' : 'none';\n",
              "    })();\n",
              "  </script>\n",
              "</div>\n",
              "    </div>\n",
              "  </div>\n"
            ]
          },
          "metadata": {},
          "execution_count": 918
        }
      ]
    }
  ]
}